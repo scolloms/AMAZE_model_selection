{
 "cells": [
  {
   "cell_type": "code",
   "execution_count": 7,
   "metadata": {},
   "outputs": [],
   "source": [
    "import sys\n",
    "import numpy as np\n",
    "import h5py\n",
    "from functools import reduce\n",
    "import operator\n",
    "\n",
    "from scipy.special import logsumexp\n",
    "\n",
    "sys.path.append('../')\n",
    "from populations import *\n",
    "from populations.bbh_models import get_models\n",
    "from populations import bbh_models as read_models\n",
    "from populations.utils.flow import NFlow\n",
    "from populations.Flowsclass_dev import FlowModel\n",
    "from populations import gw_obs\n",
    "\n",
    "def test_alpha(chnl):\n",
    "    #tests that alpha is calculated correctly for flow model for chnl\n",
    "    #returns alpha calculated for flow model\n",
    "    file_path='/Users/stormcolloms/Documents/PhD/Project_work/OneChannel_Flows/models_reduced.hdf5'\n",
    "    params = ['mchirp','q', 'chieff', 'z']\n",
    "    device='cpu'\n",
    "    detectable=True\n",
    "    popsynth_outputs = read_models.read_hdf5(file_path, chnl)\n",
    "    sensitivity ='midhighlatelow_network'\n",
    "\n",
    "    if chnl=='CE':\n",
    "        #CE channel\n",
    "        alpha = np.zeros((4,5))\n",
    "\n",
    "        for chib_id in range(4):\n",
    "            for alphaCE_id in range(5):\n",
    "                samples = popsynth_outputs[(chib_id,alphaCE_id)]\n",
    "                mock_samp = samples.sample(int(1e6), weights=(samples['weight']/len(samples)), replace=True)\n",
    "                alpha[chib_id,alphaCE_id] = np.sum(mock_samp['pdet_'+sensitivity]) / len(mock_samp)\n",
    "\n",
    "        FlowPop = FlowModel.from_samples(chnl, popsynth_outputs, params, device='cpu', sensitivity=sensitivity, detectable=detectable)\n",
    "        alpha_flow =FlowPop.alpha\n",
    "\n",
    "        #reshape alpha_model into array from dict\n",
    "        alpha_flow = np.reshape(list(alpha_flow.values()),(4,5))\n",
    "    else:\n",
    "        #non-CE channel\n",
    "        alpha = np.zeros((4))\n",
    "\n",
    "        for chib_id in range(4):\n",
    "                samples = popsynth_outputs[(chib_id)]\n",
    "                mock_samp = samples.sample(int(1e6), weights=(samples['weight']/len(samples)), replace=True)\n",
    "                alpha[chib_id] = np.sum(mock_samp['pdet_'+sensitivity]) / len(mock_samp)\n",
    "\n",
    "        FlowPop = FlowModel.from_samples(chnl, popsynth_outputs, params, device='cpu', sensitivity=sensitivity, detectable=detectable)\n",
    "        alpha_flow =FlowPop.alpha\n",
    "\n",
    "        #reshape alpha_model into array from dict\n",
    "        alpha_flow = np.reshape(list(alpha_flow.values()),(4))\n",
    "\n",
    "    #calculate difference\n",
    "    alpha_difference=alpha-alpha_flow\n",
    "    percent_difference=(alpha-alpha_flow)/alpha\n",
    "\n",
    "    return alpha_flow\n",
    "\n",
    "def test_alpha_KDEs(chnl):\n",
    "    #tests that alpha is calculated correctly for KDE models for chnl= e.g. ['CE']\n",
    "    #returns alpha calculated for each KDE model\n",
    "    file_path='/Users/stormcolloms/Documents/PhD/Project_work/OneChannel_Flows/models_reduced.hdf5'\n",
    "    params = ['mchirp','q', 'chieff', 'z']\n",
    "    device='cpu'\n",
    "    detectable=True\n",
    "    sensitivity ='midhighlatelow_network'\n",
    "    popsynth_outputs = read_models.read_hdf5(file_path, chnl[0])\n",
    "                \n",
    "    model_names, KDEModels = get_models(file_path, chnl, params, use_flows=False,sensitivity=sensitivity, detectable=detectable)\n",
    "\n",
    "    hyperparams = list(set([x.split('/', 1)[1] for x in model_names]))\n",
    "    Nhyper = np.max([len(x.split('/')) for x in hyperparams])\n",
    "    channels = sorted(list(set([x.split('/')[0] for x in model_names])))\n",
    "    \n",
    "    submodels_dict = {} #dummy index dict keys:0,1,2,3, items: particular models\n",
    "    ctr=0 #associates with either chi_b or alpha (0 or 1)\n",
    "    while ctr < Nhyper:\n",
    "        submodels_dict[ctr] = {}\n",
    "        hyper_set = sorted(list(set([x.split('/')[ctr] for x in hyperparams])))\n",
    "        for idx, model in enumerate(hyper_set): #idx associates with 0,1,2,3,(4) keys\n",
    "            submodels_dict[ctr][idx] = model\n",
    "        ctr += 1\n",
    "\n",
    "\n",
    "    if chnl==['CE']:\n",
    "        alpha_kde = np.zeros((4,5))\n",
    "        alpha = np.zeros((4,5))\n",
    "\n",
    "        for chib_id in range(4):\n",
    "            for alphaCE_id in range(5):\n",
    "                samples = popsynth_outputs[(chib_id,alphaCE_id)]\n",
    "                mock_samp = samples.sample(int(1e6), weights=(samples['weight']/len(samples)), replace=True)\n",
    "                alpha[chib_id,alphaCE_id] = np.sum(mock_samp['pdet_'+sensitivity]) / len(mock_samp)\n",
    "\n",
    "                model_list = []\n",
    "                model_list.append(submodels_dict[0][chib_id])\n",
    "                model_list.append(submodels_dict[1][alphaCE_id])\n",
    "                model_list.insert(0,chnl[0])\n",
    "                smdl = reduce(operator.getitem, model_list, KDEModels)\n",
    "                alpha_kde[chib_id,alphaCE_id] = smdl.alpha\n",
    "    else:\n",
    "        alpha_kde = np.zeros((4))\n",
    "        alpha = np.zeros((4))\n",
    "\n",
    "        for chib_id in range(4):\n",
    "                samples = popsynth_outputs[(chib_id)]\n",
    "                mock_samp = samples.sample(int(1e6), weights=(samples['weight']/len(samples)), replace=True)\n",
    "                alpha[chib_id] = np.sum(mock_samp['pdet_'+sensitivity]) / len(mock_samp)\n",
    "                \n",
    "                model_list = []\n",
    "                model_list.append(submodels_dict[0][chib_id])\n",
    "                model_list.insert(0,chnl[0])\n",
    "                smdl = reduce(operator.getitem, model_list, KDEModels)\n",
    "                alpha_kde[chib_id] = smdl.alpha\n",
    "\n",
    "    return alpha_kde\n",
    "\n"
   ]
  },
  {
   "cell_type": "code",
   "execution_count": 10,
   "metadata": {},
   "outputs": [
    {
     "name": "stderr",
     "output_type": "stream",
     "text": [
      "100%|██████████| 20/20 [00:14<00:00,  1.38it/s]\n"
     ]
    },
    {
     "name": "stdout",
     "output_type": "stream",
     "text": [
      "[[-0.01406087 -0.04509856  0.00532175  0.03261551  0.00587357]\n",
      " [ 0.01949979  0.0317089   0.02506594 -0.02143708  0.00143551]\n",
      " [ 0.00275065 -0.02909689 -0.01111477 -0.00037518 -0.00773336]\n",
      " [ 0.00332116 -0.02373404 -0.01511633 -0.00204621 -0.0131591 ]]\n"
     ]
    },
    {
     "name": "stderr",
     "output_type": "stream",
     "text": [
      "100%|██████████| 4/4 [00:01<00:00,  2.22it/s]\n"
     ]
    },
    {
     "name": "stdout",
     "output_type": "stream",
     "text": [
      "[0.00376515 0.00218876 0.00457849 0.00235469]\n"
     ]
    },
    {
     "name": "stderr",
     "output_type": "stream",
     "text": [
      "100%|██████████| 4/4 [00:01<00:00,  2.35it/s]\n"
     ]
    },
    {
     "name": "stdout",
     "output_type": "stream",
     "text": [
      "[ 0.00217743 -0.00945051 -0.00170473  0.00180817]\n"
     ]
    },
    {
     "name": "stderr",
     "output_type": "stream",
     "text": [
      "100%|██████████| 4/4 [00:01<00:00,  2.60it/s]\n"
     ]
    },
    {
     "name": "stdout",
     "output_type": "stream",
     "text": [
      "[-0.0009398   0.00811158 -0.00462125  0.00529015]\n"
     ]
    },
    {
     "name": "stderr",
     "output_type": "stream",
     "text": [
      "100%|██████████| 4/4 [00:02<00:00,  1.63it/s]\n"
     ]
    },
    {
     "name": "stdout",
     "output_type": "stream",
     "text": [
      "[-0.01141815 -0.00290743  0.00325688 -0.0070149 ]\n"
     ]
    }
   ],
   "source": [
    "for chnl in ['CE', 'CHE', 'GC', 'NSC', 'SMT']:\n",
    "    flow_alpha=test_alpha(chnl)\n",
    "    kde_alpha=test_alpha_KDEs([chnl])\n",
    "    print((flow_alpha-kde_alpha)/flow_alpha)"
   ]
  }
 ],
 "metadata": {
  "kernelspec": {
   "display_name": "Python 3.9.15 ('amaze')",
   "language": "python",
   "name": "python3"
  },
  "language_info": {
   "codemirror_mode": {
    "name": "ipython",
    "version": 3
   },
   "file_extension": ".py",
   "mimetype": "text/x-python",
   "name": "python",
   "nbconvert_exporter": "python",
   "pygments_lexer": "ipython3",
   "version": "3.9.15"
  },
  "orig_nbformat": 4,
  "vscode": {
   "interpreter": {
    "hash": "40f4eedd3c2b0a4cf443053300595e4c410b663f293e84798d1742802fb2c7c8"
   }
  }
 },
 "nbformat": 4,
 "nbformat_minor": 2
}
