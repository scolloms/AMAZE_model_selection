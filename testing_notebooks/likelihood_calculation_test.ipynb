{
 "cells": [
  {
   "cell_type": "markdown",
   "metadata": {},
   "source": [
    "## Calculating likelihoods"
   ]
  },
  {
   "cell_type": "code",
   "execution_count": 1,
   "metadata": {},
   "outputs": [
    {
     "name": "stderr",
     "output_type": "stream",
     "text": [
      "PyCBC.libutils: pkg-config call failed, setting NO_PKGCONFIG=1\n"
     ]
    },
    {
     "name": "stdout",
     "output_type": "stream",
     "text": [
      "glasflow is using its own internal version of nflows\n"
     ]
    }
   ],
   "source": [
    "import matplotlib.pyplot as plt\n",
    "import corner as corner\n",
    "import pandas as pd\n",
    "import numpy as np\n",
    "import h5py\n",
    "import torch\n",
    "import time\n",
    "from scipy.special import logsumexp\n",
    "\n",
    "import sys\n",
    "\n",
    "sys.path.append('../')\n",
    "from populations.bbh_models import get_models\n",
    "import populations.bbh_models as read_models\n",
    "from populations.utils.flow import NFlow\n",
    "from populations.Flowsclass_dev import FlowModel\n",
    "from populations import gw_obs\n",
    "\n",
    "from sample import sample"
   ]
  },
  {
   "cell_type": "code",
   "execution_count": 4,
   "metadata": {},
   "outputs": [
    {
     "name": "stderr",
     "output_type": "stream",
     "text": [
      "100%|██████████| 1/1 [00:04<00:00,  4.14s/it]\n",
      "100%|██████████| 20/20 [00:08<00:00,  2.40it/s]\n"
     ]
    }
   ],
   "source": [
    "params = ['mchirp','q', 'chieff', 'z']\n",
    "chi_b = [0.0,0.1,0.2,0.5]\n",
    "alpha = [0.2,0.5,1.,2.,5.]\n",
    "file_path='/Users/stormcolloms/Documents/PhD/Project_work/OneChannel_Flows/models_reduced.hdf5'\n",
    "gw_path = '/Users/stormcolloms/Documents/PhD/Project_work/AMAZE_model_selection/gw_events'\n",
    "observations, obsdata, p_theta, events = gw_obs.generate_observations(params, gw_path, \\\n",
    "                                            100, 'posteriors', None)\n",
    "\n",
    "model_names, flow = read_models.get_models(file_path, ['CE'], params, use_flows=True, device='cpu', no_bins=[5])\n",
    "model_names, KDE = read_models.get_models(file_path, ['CE'], params, use_flows=False, device='cpu')"
   ]
  },
  {
   "cell_type": "markdown",
   "metadata": {},
   "source": [
    "## Likelihoods In sampling"
   ]
  },
  {
   "cell_type": "code",
   "execution_count": 5,
   "metadata": {},
   "outputs": [],
   "source": [
    "#inputs: x, data, pop_models, submodels_dict, channels, use_flows\n",
    "hyperparams = list(set([x.split('/', 1)[1] for x in model_names]))\n",
    "Nhyper = np.max([len(x.split('/')) for x in hyperparams])\n",
    "channels = sorted(list(set([x.split('/')[0] for x in model_names])))\n",
    "\n",
    "# construct dict that relates submodels to their index number\n",
    "submodels_dict = {} #dummy index dict keys:0,1,2,3, items: particular models\n",
    "ctr=0 #associates with either chi_b or alpha (0 or 1)\n",
    "while ctr < Nhyper:\n",
    "    submodels_dict[ctr] = {}\n",
    "    hyper_set = sorted(list(set([x.split('/')[ctr] for x in hyperparams])))\n",
    "    for idx, model in enumerate(hyper_set): #idx associates with 0,1,2,3,(4) keys\n",
    "        submodels_dict[ctr][idx] = model\n",
    "    ctr += 1"
   ]
  },
  {
   "cell_type": "code",
   "execution_count": 6,
   "metadata": {},
   "outputs": [
    {
     "name": "stdout",
     "output_type": "stream",
     "text": [
      "[ -0.50543649 100.          13.34709027   1.          14.03557119\n",
      "  10.        ]\n"
     ]
    }
   ],
   "source": [
    "flow_path=\"/Users/stormcolloms/Documents/PhD/Project_work/AMAZE_model_selection/rns/flows_271023/flows_271023/flow_models/\"\n",
    "for chnl in ['CE']: flow[chnl].load_model(flow_path, chnl)"
   ]
  },
  {
   "cell_type": "code",
   "execution_count": 7,
   "metadata": {},
   "outputs": [],
   "source": [
    "lnlike_flow=np.zeros((4,5))\n",
    "for chibid in range(4):\n",
    "    for alphaid in range(5):\n",
    "        lnlike_flow[chibid,alphaid]=sample.lnlike([chibid,alphaid],obsdata, flow, submodels_dict, ['CE'], use_flows=True, prior_pdf=p_theta)"
   ]
  },
  {
   "cell_type": "code",
   "execution_count": 8,
   "metadata": {},
   "outputs": [
    {
     "data": {
      "text/plain": [
       "array([[ -664.43040533,  -633.52517242,  -636.00679091,  -671.91653175,\n",
       "         -642.08570371],\n",
       "       [ -642.35691359,  -645.08367322,  -638.1046122 ,  -708.0610533 ,\n",
       "         -677.47503713],\n",
       "       [ -804.58868053,  -770.08973261,  -741.61689023,  -784.6657943 ,\n",
       "         -740.25983404],\n",
       "       [-1760.62007593, -1264.82912626, -1137.00310894, -1111.79596658,\n",
       "         -987.1552324 ]])"
      ]
     },
     "execution_count": 8,
     "metadata": {},
     "output_type": "execute_result"
    }
   ],
   "source": [
    "lnlike_flow"
   ]
  },
  {
   "cell_type": "code",
   "execution_count": 9,
   "metadata": {},
   "outputs": [
    {
     "data": {
      "text/plain": [
       "Text(0.5, 1.0, 'CE channel likelihoods (flow)')"
      ]
     },
     "execution_count": 9,
     "metadata": {},
     "output_type": "execute_result"
    },
    {
     "data": {
      "image/png": "[encoded data removed]",
      "text/plain": [
       "<Figure size 640x480 with 2 Axes>"
      ]
     },
     "metadata": {},
     "output_type": "display_data"
    }
   ],
   "source": [
    "plt.imshow(lnlike_flow)\n",
    "plt.xlabel('alpha_CE index')\n",
    "plt.ylabel('chi_b index')\n",
    "plt.colorbar()\n",
    "plt.title('CE channel likelihoods (flow)')"
   ]
  },
  {
   "cell_type": "code",
   "execution_count": 10,
   "metadata": {},
   "outputs": [
    {
     "data": {
      "text/plain": [
       "array([[-8.523532]], dtype=float32)"
      ]
     },
     "execution_count": 10,
     "metadata": {},
     "output_type": "execute_result"
    }
   ],
   "source": [
    "flow['CE'].flow.get_logprob(np.array([[[10.,0.9,0.1,0.1]]]), flow['CE'].map_obs(np.array([[[10.,0.9,0.1,0.1]]])), flow['CE'].mappings, np.array([[[0.,0.2]]]))"
   ]
  },
  {
   "cell_type": "code",
   "execution_count": 11,
   "metadata": {},
   "outputs": [
    {
     "data": {
      "text/plain": [
       "array([-10.17353471])"
      ]
     },
     "execution_count": 11,
     "metadata": {},
     "output_type": "execute_result"
    }
   ],
   "source": [
    "np.log(KDE['CE']['chi00']['alpha02'](np.array([[[10.,0.9,0.1,0.1]]])))"
   ]
  },
  {
   "cell_type": "code",
   "execution_count": 13,
   "metadata": {},
   "outputs": [],
   "source": [
    "from functools import reduce\n",
    "import operator\n",
    "def getFromDict(dataDict, mapList):\n",
    "    return reduce(operator.getitem, mapList, dataDict)"
   ]
  },
  {
   "cell_type": "code",
   "execution_count": 15,
   "metadata": {},
   "outputs": [
    {
     "ename": "KeyboardInterrupt",
     "evalue": "",
     "output_type": "error",
     "traceback": [
      "\u001b[0;31m---------------------------------------------------------------------------\u001b[0m",
      "\u001b[0;31mKeyboardInterrupt\u001b[0m                         Traceback (most recent call last)",
      "Cell \u001b[0;32mIn [15], line 4\u001b[0m\n\u001b[1;32m      2\u001b[0m \u001b[39mfor\u001b[39;00m chibid \u001b[39min\u001b[39;00m \u001b[39mrange\u001b[39m(\u001b[39m4\u001b[39m):\n\u001b[1;32m      3\u001b[0m     \u001b[39mfor\u001b[39;00m alphaid \u001b[39min\u001b[39;00m \u001b[39mrange\u001b[39m(\u001b[39m5\u001b[39m):\n\u001b[0;32m----> 4\u001b[0m         lnlike_kde[chibid,alphaid]\u001b[39m=\u001b[39msample\u001b[39m.\u001b[39;49mlnlike([chibid,alphaid,\u001b[39m1.\u001b[39;49m],obsdata, KDE, submodels_dict, [\u001b[39m'\u001b[39;49m\u001b[39mCE\u001b[39;49m\u001b[39m'\u001b[39;49m], use_flows\u001b[39m=\u001b[39;49m\u001b[39mFalse\u001b[39;49;00m, prior_pdf\u001b[39m=\u001b[39;49mp_theta)\n",
      "File \u001b[0;32m~/Documents/PhD/Project_work/AMAZE_model_selection/testing_notebooks/../sample/sample.py:231\u001b[0m, in \u001b[0;36mlnlike\u001b[0;34m(x, data, pop_models, submodels_dict, channels, prior_pdf, use_flows)\u001b[0m\n\u001b[1;32m    229\u001b[0m     \u001b[39melse\u001b[39;00m:\n\u001b[1;32m    230\u001b[0m         smdl \u001b[39m=\u001b[39m reduce(operator\u001b[39m.\u001b[39mgetitem, model_list_tmp, pop_models) \u001b[39m#grabs correct submodel\u001b[39;00m\n\u001b[0;32m--> 231\u001b[0m         lnprob \u001b[39m=\u001b[39m logsumexp([lnprob, np\u001b[39m.\u001b[39mlog(beta) \u001b[39m+\u001b[39m np\u001b[39m.\u001b[39mlog(smdl(data))], axis\u001b[39m=\u001b[39m\u001b[39m0\u001b[39m)\n\u001b[1;32m    232\u001b[0m         alpha \u001b[39m+\u001b[39m\u001b[39m=\u001b[39m beta \u001b[39m*\u001b[39m smdl\u001b[39m.\u001b[39malpha\n\u001b[1;32m    235\u001b[0m \u001b[39m#returns lnprob summed over events (probability multiplied over events - see one channel eq D13 for full likelihood calc)\u001b[39;00m\n",
      "File \u001b[0;32m~/Documents/PhD/Project_work/AMAZE_model_selection/testing_notebooks/../populations/__init__.py:266\u001b[0m, in \u001b[0;36mKDEModel.__call__\u001b[0;34m(self, data, data_pdf, proc_idx, return_dict)\u001b[0m\n\u001b[1;32m    263\u001b[0m data_pdf[data_pdf\u001b[39m==\u001b[39m\u001b[39m0\u001b[39m] \u001b[39m=\u001b[39m \u001b[39m1e-50\u001b[39m\n\u001b[1;32m    264\u001b[0m \u001b[39mfor\u001b[39;00m idx, (obs, d_pdf) \u001b[39min\u001b[39;00m \u001b[39menumerate\u001b[39m(\u001b[39mzip\u001b[39m(np\u001b[39m.\u001b[39matleast_3d(data),data_pdf)):\n\u001b[1;32m    265\u001b[0m     \u001b[39m# Evaluate the KDE at the samples\u001b[39;00m\n\u001b[0;32m--> 266\u001b[0m     likelihood_per_samp \u001b[39m=\u001b[39m \u001b[39mself\u001b[39;49m\u001b[39m.\u001b[39;49mpdf(obs) \u001b[39m/\u001b[39m d_pdf\n\u001b[1;32m    267\u001b[0m     likelihood[idx] \u001b[39m+\u001b[39m\u001b[39m=\u001b[39m (\u001b[39m1.0\u001b[39m\u001b[39m/\u001b[39m\u001b[39mlen\u001b[39m(obs)) \u001b[39m*\u001b[39m np\u001b[39m.\u001b[39msum(likelihood_per_samp)\n\u001b[1;32m    268\u001b[0m \u001b[39m# store value for multiprocessing\u001b[39;00m\n",
      "File \u001b[0;32m~/Documents/PhD/Project_work/AMAZE_model_selection/testing_notebooks/../populations/__init__.py:180\u001b[0m, in \u001b[0;36mKDEModel.__init__.<locals>.<lambda>\u001b[0;34m(x)\u001b[0m\n\u001b[1;32m    178\u001b[0m \u001b[39melse\u001b[39;00m:\n\u001b[1;32m    179\u001b[0m     kde \u001b[39m=\u001b[39m Bounded_Nd_kde(samples\u001b[39m.\u001b[39mT, weights\u001b[39m=\u001b[39mcombined_weights, bw_method\u001b[39m=\u001b[39mbandwidth, bounds\u001b[39m=\u001b[39m\u001b[39mself\u001b[39m\u001b[39m.\u001b[39mparam_bounds)\n\u001b[0;32m--> 180\u001b[0m     \u001b[39mself\u001b[39m\u001b[39m.\u001b[39mpdf \u001b[39m=\u001b[39m  \u001b[39mlambda\u001b[39;00m x: kde(x\u001b[39m.\u001b[39;49mT)\n\u001b[1;32m    181\u001b[0m \u001b[39mself\u001b[39m\u001b[39m.\u001b[39mkde \u001b[39m=\u001b[39m kde\n\u001b[1;32m    183\u001b[0m \u001b[39mself\u001b[39m\u001b[39m.\u001b[39mcached_values \u001b[39m=\u001b[39m \u001b[39mNone\u001b[39;00m\n",
      "File \u001b[0;32m~/Documents/PhD/Project_work/AMAZE_model_selection/testing_notebooks/../populations/utils/bounded_Nd_kde.py:164\u001b[0m, in \u001b[0;36mBounded_Nd_kde.__call__\u001b[0;34m(self, pts)\u001b[0m\n\u001b[1;32m    161\u001b[0m         \u001b[39mif\u001b[39;00m \u001b[39mself\u001b[39m\u001b[39m.\u001b[39mbounds[dim,\u001b[39m1\u001b[39m] \u001b[39mis\u001b[39;00m \u001b[39mnot\u001b[39;00m \u001b[39mNone\u001b[39;00m:\n\u001b[1;32m    162\u001b[0m             out_of_bounds[pts[dim, :] \u001b[39m>\u001b[39m \u001b[39mself\u001b[39m\u001b[39m.\u001b[39mbounds[dim,\u001b[39m1\u001b[39m]] \u001b[39m=\u001b[39m \u001b[39mTrue\u001b[39;00m\n\u001b[0;32m--> 164\u001b[0m results, norm_fac \u001b[39m=\u001b[39m \u001b[39mself\u001b[39;49m\u001b[39m.\u001b[39;49mevaluate(pts)\n\u001b[1;32m    166\u001b[0m \u001b[39m# set out-of-bound evaluations to 0\u001b[39;00m\n\u001b[1;32m    167\u001b[0m results[out_of_bounds] \u001b[39m=\u001b[39m \u001b[39m0.0\u001b[39m\n",
      "File \u001b[0;32m~/Documents/PhD/Project_work/AMAZE_model_selection/testing_notebooks/../populations/utils/bounded_Nd_kde.py:113\u001b[0m, in \u001b[0;36mBounded_Nd_kde.evaluate\u001b[0;34m(self, eval_pts)\u001b[0m\n\u001b[1;32m    110\u001b[0m \u001b[39massert\u001b[39;00m eval_pts\u001b[39m.\u001b[39mshape[\u001b[39m0\u001b[39m] \u001b[39m==\u001b[39m \u001b[39mself\u001b[39m\u001b[39m.\u001b[39mNdim, \u001b[39m'\u001b[39m\u001b[39mevaluation points must be same number of dimensions as kde\u001b[39m\u001b[39m'\u001b[39m\n\u001b[1;32m    112\u001b[0m \u001b[39m# inherit original instance of kde and evaluate points\u001b[39;00m\n\u001b[0;32m--> 113\u001b[0m pdf \u001b[39m=\u001b[39m \u001b[39msuper\u001b[39;49m(Bounded_Nd_kde, \u001b[39mself\u001b[39;49m)\u001b[39m.\u001b[39;49mevaluate(eval_pts)\n\u001b[1;32m    115\u001b[0m \u001b[39m# return extra normalization factor for the reflections\u001b[39;00m\n\u001b[1;32m    116\u001b[0m norm_fac \u001b[39m=\u001b[39m \u001b[39mself\u001b[39m\u001b[39m.\u001b[39m_refl_norm_factor\n",
      "File \u001b[0;32m~/opt/anaconda3/envs/amaze/lib/python3.9/site-packages/scipy/stats/_kde.py:253\u001b[0m, in \u001b[0;36mgaussian_kde.evaluate\u001b[0;34m(self, points)\u001b[0m\n\u001b[1;32m    250\u001b[0m \u001b[39melse\u001b[39;00m:\n\u001b[1;32m    251\u001b[0m     \u001b[39mraise\u001b[39;00m \u001b[39mTypeError\u001b[39;00m(\u001b[39m'\u001b[39m\u001b[39m%s\u001b[39;00m\u001b[39m has unexpected item size \u001b[39m\u001b[39m%d\u001b[39;00m\u001b[39m'\u001b[39m \u001b[39m%\u001b[39m\n\u001b[1;32m    252\u001b[0m                     (output_dtype, itemsize))\n\u001b[0;32m--> 253\u001b[0m result \u001b[39m=\u001b[39m gaussian_kernel_estimate[spec](\u001b[39mself\u001b[39;49m\u001b[39m.\u001b[39;49mdataset\u001b[39m.\u001b[39;49mT, \u001b[39mself\u001b[39;49m\u001b[39m.\u001b[39;49mweights[:, \u001b[39mNone\u001b[39;49;00m],\n\u001b[1;32m    254\u001b[0m                                         points\u001b[39m.\u001b[39;49mT, \u001b[39mself\u001b[39;49m\u001b[39m.\u001b[39;49minv_cov, output_dtype)\n\u001b[1;32m    255\u001b[0m \u001b[39mreturn\u001b[39;00m result[:, \u001b[39m0\u001b[39m]\n",
      "\u001b[0;31mKeyboardInterrupt\u001b[0m: "
     ]
    }
   ],
   "source": [
    "lnlike_kde=np.zeros((4,5))\n",
    "for chibid in range(4):\n",
    "    for alphaid in range(5):\n",
    "        lnlike_kde[chibid,alphaid]=sample.lnlike([chibid,alphaid,1.],obsdata, KDE, submodels_dict, ['CE'], use_flows=False, prior_pdf=p_theta)"
   ]
  },
  {
   "cell_type": "code",
   "execution_count": 16,
   "metadata": {},
   "outputs": [
    {
     "data": {
      "text/plain": [
       "array([[-506.95453251, -538.59314208, -527.13672619, -615.49902096,\n",
       "        -812.19133144],\n",
       "       [-518.65805674, -556.07935526, -537.67629358, -609.54349008,\n",
       "        -745.99573176],\n",
       "       [-660.68379139, -663.99521097,    0.        ,    0.        ,\n",
       "           0.        ],\n",
       "       [   0.        ,    0.        ,    0.        ,    0.        ,\n",
       "           0.        ]])"
      ]
     },
     "execution_count": 16,
     "metadata": {},
     "output_type": "execute_result"
    }
   ],
   "source": [
    "lnlike_kde"
   ]
  },
  {
   "cell_type": "code",
   "execution_count": 21,
   "metadata": {},
   "outputs": [
    {
     "data": {
      "text/plain": [
       "Text(0.5, 1.0, 'CE channel likelihoods (KDEs)')"
      ]
     },
     "execution_count": 21,
     "metadata": {},
     "output_type": "execute_result"
    },
    {
     "data": {
      "image/png": "[encoded data removed]",
      "text/plain": [
       "<Figure size 640x480 with 2 Axes>"
      ]
     },
     "metadata": {},
     "output_type": "display_data"
    }
   ],
   "source": [
    "plt.imshow(lnlike_kde)\n",
    "plt.xlabel('alpha_CE index')\n",
    "plt.ylabel('chi_b index')\n",
    "plt.colorbar()\n",
    "plt.title('CE channel likelihoods (KDEs)')"
   ]
  },
  {
   "cell_type": "code",
   "execution_count": 15,
   "metadata": {},
   "outputs": [
    {
     "data": {
      "text/plain": [
       "array([[ -488.54896481,  -516.01045514,  -497.21744547,  -580.29421382,\n",
       "         -786.29323308],\n",
       "       [ -517.44113865,  -539.3906847 ,  -521.00342875,  -575.61471784,\n",
       "         -720.9136174 ],\n",
       "       [ -638.6766879 ,  -624.86668284,  -599.60617914,  -649.87875854,\n",
       "         -752.67508215],\n",
       "       [-2372.87555011, -2421.31486477, -2474.83763468, -2571.90109638,\n",
       "        -2591.77152278]])"
      ]
     },
     "execution_count": 15,
     "metadata": {},
     "output_type": "execute_result"
    }
   ],
   "source": [
    "lnlike_kde"
   ]
  },
  {
   "cell_type": "code",
   "execution_count": 17,
   "metadata": {},
   "outputs": [
    {
     "data": {
      "text/plain": [
       "array([  -9.20302148,   -8.78135162,   -6.19423043,   -7.75944685,\n",
       "        -28.28176917,   -8.74912355,  -10.40066797,  -28.72386682,\n",
       "        -28.82096547,  -11.99128996,  -11.28014389,   -9.6537231 ,\n",
       "         -7.52794299,   -8.84011782,   -9.93582466,  -12.92557307,\n",
       "        -13.54554061,   -6.4527987 ,   -7.73029182,  -10.17206779,\n",
       "         -8.60403119,  -14.18859681,   -8.18808432,   -8.50550673,\n",
       "        -10.34154094,   -8.74545253,  -15.14677686,  -25.0078318 ,\n",
       "        -22.61748219,   -6.41279088,   -5.28287875,  -10.67451398,\n",
       "         -6.34738207,   -5.69846835,   -8.29271577,   -7.9853818 ,\n",
       "         -5.79867653,  -15.72676133,   -5.06660529, -129.0967273 ,\n",
       "        -17.47596152,   -9.6796394 ,   -9.0654278 ,  -13.75941454,\n",
       "         -9.43775286,   -7.9695444 ])"
      ]
     },
     "execution_count": 17,
     "metadata": {},
     "output_type": "execute_result"
    }
   ],
   "source": [
    "flow['CE'](obsdata, np.array([0,4]), prior_pdf=p_theta)"
   ]
  },
  {
   "cell_type": "code",
   "execution_count": 20,
   "metadata": {},
   "outputs": [
    {
     "data": {
      "text/plain": [
       "array([6.93236847e-05, 2.12356460e-05, 5.38015953e-03, 1.55911407e-03,\n",
       "       5.10318673e-25, 1.06943026e-05, 2.87176977e-05, 7.75606463e-25,\n",
       "       1.02914822e-50, 6.56400931e-06, 2.80648586e-05, 1.62478724e-05,\n",
       "       1.41240131e-04, 6.40406445e-04, 3.51414938e-05, 1.56411909e-05,\n",
       "       1.56180685e-05, 3.88556825e-04, 3.37211862e-03, 1.25288529e-04,\n",
       "       5.53991365e-05, 3.26075340e-06, 2.24007848e-04, 1.81673743e-03,\n",
       "       1.98345696e-05, 9.40539205e-05, 4.51264447e-08, 2.06481451e-15,\n",
       "       2.69744319e-14, 1.18878563e-03, 7.16767942e-03, 8.98966746e-05,\n",
       "       3.57403846e-03, 3.37587623e-03, 3.87243084e-04, 1.01541065e-03,\n",
       "       8.55044933e-03, 2.87357963e-07, 1.16097470e-02, 1.00000000e-50,\n",
       "       4.72498511e-20, 2.02257431e-05, 1.83066875e-03, 6.24076947e-10,\n",
       "       7.15341875e-05, 1.13145231e-04])"
      ]
     },
     "execution_count": 20,
     "metadata": {},
     "output_type": "execute_result"
    }
   ],
   "source": [
    "KDE['CE']['chi00']['alpha50'](obsdata)"
   ]
  },
  {
   "cell_type": "code",
   "execution_count": 21,
   "metadata": {},
   "outputs": [
    {
     "data": {
      "text/plain": [
       "array([  -9.57672394,  -10.75982937,   -5.22503725,   -6.46363752,\n",
       "        -55.93476213,  -11.44579943,  -10.45799698,  -55.51615225,\n",
       "       -115.10052316,  -11.93390897,  -10.48099235,  -11.02754859,\n",
       "         -8.86504906,   -7.35340751,  -10.25612797,  -11.06560268,\n",
       "        -11.06708208,   -7.85307113,   -5.69221406,   -8.98489125,\n",
       "         -9.80094655,  -12.63355228,   -8.40382947,   -6.31071301,\n",
       "        -10.8280842 ,   -9.27164232,  -16.91379741,  -33.813736  ,\n",
       "        -31.24388694,   -6.73482297,   -4.93817333,   -9.31684961,\n",
       "         -5.6340591 ,   -5.69110036,   -7.85645794,   -6.89246217,\n",
       "         -4.76177144,  -15.06253714,   -4.45591028, -115.12925465,\n",
       "        -44.49883745,  -10.80855435,   -6.30307394,  -21.19474744,\n",
       "         -9.54533508,   -9.08683833])"
      ]
     },
     "execution_count": 21,
     "metadata": {},
     "output_type": "execute_result"
    }
   ],
   "source": [
    "np.log([6.93236847e-05, 2.12356460e-05, 5.38015953e-03, 1.55911407e-03,\n",
    "       5.10318673e-25, 1.06943026e-05, 2.87176977e-05, 7.75606463e-25,\n",
    "       1.02914822e-50, 6.56400931e-06, 2.80648586e-05, 1.62478724e-05,\n",
    "       1.41240131e-04, 6.40406445e-04, 3.51414938e-05, 1.56411909e-05,\n",
    "       1.56180685e-05, 3.88556825e-04, 3.37211862e-03, 1.25288529e-04,\n",
    "       5.53991365e-05, 3.26075340e-06, 2.24007848e-04, 1.81673743e-03,\n",
    "       1.98345696e-05, 9.40539205e-05, 4.51264447e-08, 2.06481451e-15,\n",
    "       2.69744319e-14, 1.18878563e-03, 7.16767942e-03, 8.98966746e-05,\n",
    "       3.57403846e-03, 3.37587623e-03, 3.87243084e-04, 1.01541065e-03,\n",
    "       8.55044933e-03, 2.87357963e-07, 1.16097470e-02, 1.00000000e-50,\n",
    "       4.72498511e-20, 2.02257431e-05, 1.83066875e-03, 6.24076947e-10,\n",
    "       7.15341875e-05, 1.13145231e-04])"
   ]
  },
  {
   "cell_type": "code",
   "execution_count": 22,
   "metadata": {},
   "outputs": [
    {
     "data": {
      "text/plain": [
       "array([  -9.20302148,   -8.78135162,   -6.19423043,   -7.75944685,\n",
       "        -28.28176917,   -8.74912355,  -10.40066797,  -28.72386682,\n",
       "        -28.82096547,  -11.99128996,  -11.28014389,   -9.6537231 ,\n",
       "         -7.52794299,   -8.84011782,   -9.93582466,  -12.92557307,\n",
       "        -13.54554061,   -6.4527987 ,   -7.73029182,  -10.17206779,\n",
       "         -8.60403119,  -14.18859681,   -8.18808432,   -8.50550673,\n",
       "        -10.34154094,   -8.74545253,  -15.14677686,  -25.0078318 ,\n",
       "        -22.61748219,   -6.41279088,   -5.28287875,  -10.67451398,\n",
       "         -6.34738207,   -5.69846835,   -8.29271577,   -7.9853818 ,\n",
       "         -5.79867653,  -15.72676133,   -5.06660529, -129.0967273 ,\n",
       "        -17.47596152,   -9.6796394 ,   -9.0654278 ,  -13.75941454,\n",
       "         -9.43775286,   -7.9695444 ])"
      ]
     },
     "execution_count": 22,
     "metadata": {},
     "output_type": "execute_result"
    }
   ],
   "source": [
    "flow['CE'](obsdata, np.array([0,4]), prior_pdf=p_theta)"
   ]
  }
 ],
 "metadata": {
  "kernelspec": {
   "display_name": "Python 3.9.15 ('amaze')",
   "language": "python",
   "name": "python3"
  },
  "language_info": {
   "codemirror_mode": {
    "name": "ipython",
    "version": 3
   },
   "file_extension": ".py",
   "mimetype": "text/x-python",
   "name": "python",
   "nbconvert_exporter": "python",
   "pygments_lexer": "ipython3",
   "version": "3.9.15"
  },
  "orig_nbformat": 4,
  "vscode": {
   "interpreter": {
    "hash": "40f4eedd3c2b0a4cf443053300595e4c410b663f293e84798d1742802fb2c7c8"
   }
  }
 },
 "nbformat": 4,
 "nbformat_minor": 2
}
