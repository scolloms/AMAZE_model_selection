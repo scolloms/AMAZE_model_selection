{
 "cells": [
  {
   "cell_type": "markdown",
   "metadata": {},
   "source": [
    "## Calculating likelihoods"
   ]
  },
  {
   "cell_type": "code",
   "execution_count": 1,
   "metadata": {},
   "outputs": [
    {
     "name": "stderr",
     "output_type": "stream",
     "text": [
      "PyCBC.libutils: pkg-config call failed, setting NO_PKGCONFIG=1\n"
     ]
    },
    {
     "name": "stdout",
     "output_type": "stream",
     "text": [
      "glasflow is using its own internal version of nflows\n"
     ]
    }
   ],
   "source": [
    "import matplotlib.pyplot as plt\n",
    "import corner as corner\n",
    "import pandas as pd\n",
    "import numpy as np\n",
    "import h5py\n",
    "import torch\n",
    "import time\n",
    "from scipy.special import logsumexp\n",
    "\n",
    "import sys\n",
    "\n",
    "sys.path.append('../')\n",
    "from populations.bbh_models import get_models\n",
    "import populations.bbh_models as read_models\n",
    "from populations.utils.flow import NFlow\n",
    "from populations.Flowsclass_dev import FlowModel\n",
    "from populations import gw_obs\n",
    "\n",
    "from sample import sample"
   ]
  },
  {
   "cell_type": "code",
   "execution_count": 2,
   "metadata": {},
   "outputs": [
    {
     "name": "stderr",
     "output_type": "stream",
     "text": [
      "100%|██████████| 1/1 [00:03<00:00,  3.18s/it]\n",
      "100%|██████████| 20/20 [00:08<00:00,  2.22it/s]\n"
     ]
    }
   ],
   "source": [
    "params = ['mchirp','q', 'chieff', 'z']\n",
    "chi_b = [0.0,0.1,0.2,0.5]\n",
    "alpha = [0.2,0.5,1.,2.,5.]\n",
    "channel ='GC'\n",
    "file_path='/Users/stormcolloms/Documents/PhD/Project_work/OneChannel_Flows/models_reduced.hdf5'\n",
    "gw_path = '/Users/stormcolloms/Documents/PhD/Project_work/AMAZE_model_selection/simulated_events_processed/2_chi00'\n",
    "observations, obsdata, p_theta, events = gw_obs.generate_observations(params, gw_path, \\\n",
    "                                            100, 'posteriors', None)\n",
    "\n",
    "model_names, flow = read_models.get_models(file_path, [channel], params, use_flows=True, device='cpu', no_bins=[5])\n",
    "model_names, KDE = read_models.get_models(file_path, [channel], params, use_flows=False, device='cpu')"
   ]
  },
  {
   "cell_type": "markdown",
   "metadata": {},
   "source": [
    "## Likelihoods In sampling"
   ]
  },
  {
   "cell_type": "code",
   "execution_count": 3,
   "metadata": {},
   "outputs": [],
   "source": [
    "#inputs: x, data, pop_models, submodels_dict, channels, use_flows\n",
    "hyperparams = list(set([x.split('/', 1)[1] for x in model_names]))\n",
    "Nhyper = np.max([len(x.split('/')) for x in hyperparams])\n",
    "channels = sorted(list(set([x.split('/')[0] for x in model_names])))\n",
    "\n",
    "# construct dict that relates submodels to their index number\n",
    "submodels_dict = {} #dummy index dict keys:0,1,2,3, items: particular models\n",
    "ctr=0 #associates with either chi_b or alpha (0 or 1)\n",
    "while ctr < Nhyper:\n",
    "    submodels_dict[ctr] = {}\n",
    "    hyper_set = sorted(list(set([x.split('/')[ctr] for x in hyperparams])))\n",
    "    for idx, model in enumerate(hyper_set): #idx associates with 0,1,2,3,(4) keys\n",
    "        submodels_dict[ctr][idx] = model\n",
    "    ctr += 1"
   ]
  },
  {
   "cell_type": "code",
   "execution_count": 4,
   "metadata": {},
   "outputs": [],
   "source": [
    "flow_path=\"/Users/stormcolloms/Documents/PhD/Project_work/AMAZE_model_selection/rns/flows_271023/flows_271023/flow_models/\"\n",
    "for chnl in ['CE']: flow[chnl].load_model(flow_path, chnl)"
   ]
  },
  {
   "cell_type": "code",
   "execution_count": 5,
   "metadata": {},
   "outputs": [],
   "source": [
    "oneobs = np.array([[obsdata[0,0,:]]])"
   ]
  },
  {
   "cell_type": "code",
   "execution_count": 6,
   "metadata": {},
   "outputs": [
    {
     "data": {
      "text/plain": [
       "array([[[30.87591522,  0.8667151 ,  0.38811157,  0.19688377]]])"
      ]
     },
     "execution_count": 6,
     "metadata": {},
     "output_type": "execute_result"
    }
   ],
   "source": [
    "oneobs"
   ]
  },
  {
   "cell_type": "code",
   "execution_count": 7,
   "metadata": {},
   "outputs": [
    {
     "name": "stdout",
     "output_type": "stream",
     "text": [
      "(0, 0)\n",
      "likelihood per samp\n",
      "[[-7.77151442]]\n",
      "likelihood\n",
      "[-7.77151442]\n",
      "lnprob\n",
      "[-7.77151442]\n",
      "(lnprob-np.log(alpha)).sum()\n",
      "-7.771514415740967\n",
      "(0, 1)\n",
      "likelihood per samp\n",
      "[[-10.8835659]]\n",
      "likelihood\n",
      "[-10.8835659]\n",
      "lnprob\n",
      "[-10.8835659]\n",
      "(lnprob-np.log(alpha)).sum()\n",
      "-10.883565902709961\n",
      "(0, 2)\n",
      "likelihood per samp\n",
      "[[-13.45147514]]\n",
      "likelihood\n",
      "[-13.45147514]\n",
      "lnprob\n",
      "[-13.45147514]\n",
      "(lnprob-np.log(alpha)).sum()\n",
      "-13.451475143432617\n",
      "(0, 3)\n",
      "likelihood per samp\n",
      "[[-16.80575562]]\n",
      "likelihood\n",
      "[-16.80575562]\n",
      "lnprob\n",
      "[-16.80575562]\n",
      "(lnprob-np.log(alpha)).sum()\n",
      "-16.805755615234375\n",
      "(0, 4)\n",
      "likelihood per samp\n",
      "[[-26.23421288]]\n",
      "likelihood\n",
      "[-26.23421288]\n",
      "lnprob\n",
      "[-26.23421288]\n",
      "(lnprob-np.log(alpha)).sum()\n",
      "-26.23421287536621\n",
      "(1, 0)\n",
      "likelihood per samp\n",
      "[[-9.15244007]]\n",
      "likelihood\n",
      "[-9.15244007]\n",
      "lnprob\n",
      "[-9.15244007]\n",
      "(lnprob-np.log(alpha)).sum()\n",
      "-9.152440071105957\n",
      "(1, 1)\n",
      "likelihood per samp\n",
      "[[-11.95845604]]\n",
      "likelihood\n",
      "[-11.95845604]\n",
      "lnprob\n",
      "[-11.95845604]\n",
      "(lnprob-np.log(alpha)).sum()\n",
      "-11.958456039428711\n",
      "(1, 2)\n",
      "likelihood per samp\n",
      "[[-14.44664764]]\n",
      "likelihood\n",
      "[-14.44664764]\n",
      "lnprob\n",
      "[-14.44664764]\n",
      "(lnprob-np.log(alpha)).sum()\n",
      "-14.446647644042969\n",
      "(1, 3)\n",
      "likelihood per samp\n",
      "[[-17.3794632]]\n",
      "likelihood\n",
      "[-17.3794632]\n",
      "lnprob\n",
      "[-17.3794632]\n",
      "(lnprob-np.log(alpha)).sum()\n",
      "-17.37946319580078\n",
      "(1, 4)\n",
      "likelihood per samp\n",
      "[[-25.8398037]]\n",
      "likelihood\n",
      "[-25.8398037]\n",
      "lnprob\n",
      "[-25.8398037]\n",
      "(lnprob-np.log(alpha)).sum()\n",
      "-25.83980369567871\n",
      "(2, 0)\n",
      "likelihood per samp\n",
      "[[-10.29758549]]\n",
      "likelihood\n",
      "[-10.29758549]\n",
      "lnprob\n",
      "[-10.29758549]\n",
      "(lnprob-np.log(alpha)).sum()\n",
      "-10.297585487365723\n",
      "(2, 1)\n",
      "likelihood per samp\n",
      "[[-12.97566032]]\n",
      "likelihood\n",
      "[-12.97566032]\n",
      "lnprob\n",
      "[-12.97566032]\n",
      "(lnprob-np.log(alpha)).sum()\n",
      "-12.97566032409668\n",
      "(2, 2)\n",
      "likelihood per samp\n",
      "[[-15.12759972]]\n",
      "likelihood\n",
      "[-15.12759972]\n",
      "lnprob\n",
      "[-15.12759972]\n",
      "(lnprob-np.log(alpha)).sum()\n",
      "-15.127599716186523\n",
      "(2, 3)\n",
      "likelihood per samp\n",
      "[[-17.95720673]]\n",
      "likelihood\n",
      "[-17.95720673]\n",
      "lnprob\n",
      "[-17.95720673]\n",
      "(lnprob-np.log(alpha)).sum()\n",
      "-17.95720672607422\n",
      "(2, 4)\n",
      "likelihood per samp\n",
      "[[-25.77956581]]\n",
      "likelihood\n",
      "[-25.77956581]\n",
      "lnprob\n",
      "[-25.77956581]\n",
      "(lnprob-np.log(alpha)).sum()\n",
      "-25.779565811157227\n",
      "(3, 0)\n",
      "likelihood per samp\n",
      "[[-64.4919281]]\n",
      "likelihood\n",
      "[-64.4919281]\n",
      "lnprob\n",
      "[-64.4919281]\n",
      "(lnprob-np.log(alpha)).sum()\n",
      "-64.49192810058594\n",
      "(3, 1)\n",
      "likelihood per samp\n",
      "[[-34.33011246]]\n",
      "likelihood\n",
      "[-34.33011246]\n",
      "lnprob\n",
      "[-34.33011246]\n",
      "(lnprob-np.log(alpha)).sum()\n",
      "-34.33011245727539\n",
      "(3, 2)\n",
      "likelihood per samp\n",
      "[[-18.82589912]]\n",
      "likelihood\n",
      "[-18.82589912]\n",
      "lnprob\n",
      "[-18.82589912]\n",
      "(lnprob-np.log(alpha)).sum()\n",
      "-18.825899124145508\n",
      "(3, 3)\n",
      "likelihood per samp\n",
      "[[-15.10786438]]\n",
      "likelihood\n",
      "[-15.10786438]\n",
      "lnprob\n",
      "[-15.10786438]\n",
      "(lnprob-np.log(alpha)).sum()\n",
      "-15.107864379882812\n",
      "(3, 4)\n",
      "likelihood per samp\n",
      "[[-14.64742279]]\n",
      "likelihood\n",
      "[-14.64742279]\n",
      "lnprob\n",
      "[-14.64742279]\n",
      "(lnprob-np.log(alpha)).sum()\n",
      "-14.647422790527344\n"
     ]
    }
   ],
   "source": [
    "lnlike_flow=np.zeros((4,5))\n",
    "for chibid in range(4):\n",
    "    for alphaid in range(5):\n",
    "        print((chibid,alphaid))\n",
    "        lnlike_flow[chibid,alphaid]=sample.lnlike([chibid,alphaid],oneobs, flow, submodels_dict, ['CE'], use_flows=True, prior_pdf=np.array([p_theta[0][0]]))"
   ]
  },
  {
   "cell_type": "code",
   "execution_count": 50,
   "metadata": {},
   "outputs": [
    {
     "data": {
      "text/plain": [
       "array([[ -4292.97294826,  -4022.5101641 ,  -4214.04983827,\n",
       "         -4573.01851814,  -4589.85859623],\n",
       "       [ -4935.70702129,  -4403.3717424 ,  -4560.07318776,\n",
       "         -4799.92852669,  -4634.53701267],\n",
       "       [ -6322.15376045,  -5148.05372662,  -4984.40036835,\n",
       "         -5172.62399949,  -4918.90886967],\n",
       "       [-10395.0848944 ,  -7584.83520434,  -6569.5972193 ,\n",
       "         -6159.11821421,  -5480.25013067]])"
      ]
     },
     "execution_count": 50,
     "metadata": {},
     "output_type": "execute_result"
    }
   ],
   "source": [
    "lnlike_flow"
   ]
  },
  {
   "cell_type": "code",
   "execution_count": 15,
   "metadata": {},
   "outputs": [
    {
     "data": {
      "text/plain": [
       "Text(0.5, 1.0, 'CE channel likelihoods (flow)')"
      ]
     },
     "execution_count": 15,
     "metadata": {},
     "output_type": "execute_result"
    },
    {
     "data": {
      "image/png": "[encoded data removed]",
      "text/plain": [
       "<Figure size 640x480 with 2 Axes>"
      ]
     },
     "metadata": {},
     "output_type": "display_data"
    }
   ],
   "source": [
    "plt.imshow(lnlike_flow)\n",
    "plt.xlabel('alpha_CE index')\n",
    "plt.ylabel('chi_b index')\n",
    "plt.colorbar()\n",
    "plt.title('CE channel likelihoods (flow)')"
   ]
  },
  {
   "cell_type": "code",
   "execution_count": 16,
   "metadata": {},
   "outputs": [
    {
     "data": {
      "text/plain": [
       "array([[-8.523532]], dtype=float32)"
      ]
     },
     "execution_count": 16,
     "metadata": {},
     "output_type": "execute_result"
    }
   ],
   "source": [
    "flow['CE'].flow.get_logprob(np.array([[[10.,0.9,0.1,0.1]]]), flow['CE'].map_obs(np.array([[[10.,0.9,0.1,0.1]]])), flow['CE'].mappings, np.array([[[0.,0.2]]]))"
   ]
  },
  {
   "cell_type": "code",
   "execution_count": 17,
   "metadata": {},
   "outputs": [
    {
     "data": {
      "text/plain": [
       "array([-9.45932365])"
      ]
     },
     "execution_count": 17,
     "metadata": {},
     "output_type": "execute_result"
    }
   ],
   "source": [
    "np.log(KDE['CE']['chi00']['alpha02'](np.array([[[10.,0.9,0.1,0.1]]])))"
   ]
  },
  {
   "cell_type": "code",
   "execution_count": 10,
   "metadata": {},
   "outputs": [],
   "source": [
    "from functools import reduce\n",
    "import operator\n",
    "def getFromDict(dataDict, mapList):\n",
    "    return reduce(operator.getitem, mapList, dataDict)"
   ]
  },
  {
   "cell_type": "code",
   "execution_count": 11,
   "metadata": {},
   "outputs": [
    {
     "name": "stdout",
     "output_type": "stream",
     "text": [
      "(0, 0)\n",
      "likelihood per samp\n",
      "[-7.77606302]\n",
      "likelihood\n",
      "[-7.77606302]\n",
      "lnprob\n",
      "[-7.77606302]\n",
      "(lnprob-np.log(alpha)).sum()\n",
      "-7.776063023456021\n",
      "(0, 1)\n",
      "likelihood per samp\n",
      "[-16.32652617]\n",
      "likelihood\n",
      "[-16.32652617]\n",
      "lnprob\n",
      "[-16.32652617]\n",
      "(lnprob-np.log(alpha)).sum()\n",
      "-16.326526167587765\n",
      "(0, 2)\n",
      "likelihood per samp\n",
      "[-20.66391493]\n",
      "likelihood\n",
      "[-20.66391493]\n",
      "lnprob\n",
      "[-20.66391493]\n",
      "(lnprob-np.log(alpha)).sum()\n",
      "-20.66391493123658\n",
      "(0, 3)\n",
      "likelihood per samp\n",
      "[-47.62462125]\n",
      "likelihood\n",
      "[-47.62462125]\n",
      "lnprob\n",
      "[-47.62462125]\n",
      "(lnprob-np.log(alpha)).sum()\n",
      "-47.62462124788823\n",
      "(0, 4)\n",
      "likelihood per samp\n",
      "[-158.84429246]\n",
      "likelihood\n",
      "[-115.12925465]\n",
      "lnprob\n",
      "[-115.12925465]\n",
      "(lnprob-np.log(alpha)).sum()\n",
      "-115.12925464970229\n",
      "(1, 0)\n",
      "likelihood per samp\n",
      "[-12.44147871]\n",
      "likelihood\n",
      "[-12.44147871]\n",
      "lnprob\n",
      "[-12.44147871]\n",
      "(lnprob-np.log(alpha)).sum()\n",
      "-12.441478707583384\n",
      "(1, 1)\n",
      "likelihood per samp\n",
      "[-13.29927609]\n",
      "likelihood\n",
      "[-13.29927609]\n",
      "lnprob\n",
      "[-13.29927609]\n",
      "(lnprob-np.log(alpha)).sum()\n",
      "-13.299276085785001\n",
      "(1, 2)\n",
      "likelihood per samp\n",
      "[-15.25559224]\n",
      "likelihood\n",
      "[-15.25559224]\n",
      "lnprob\n",
      "[-15.25559224]\n",
      "(lnprob-np.log(alpha)).sum()\n",
      "-15.255592235301155\n",
      "(1, 3)\n",
      "likelihood per samp\n",
      "[-52.47451518]\n",
      "likelihood\n",
      "[-52.47451518]\n",
      "lnprob\n",
      "[-52.47451518]\n",
      "(lnprob-np.log(alpha)).sum()\n",
      "-52.47451517856083\n",
      "(1, 4)\n",
      "likelihood per samp\n",
      "[-148.3498663]\n",
      "likelihood\n",
      "[-115.12925465]\n",
      "lnprob\n",
      "[-115.12925465]\n",
      "(lnprob-np.log(alpha)).sum()\n",
      "-115.12925464970228\n",
      "(2, 0)\n",
      "likelihood per samp\n",
      "[-11.64940441]\n",
      "likelihood\n",
      "[-11.64940441]\n",
      "lnprob\n",
      "[-11.64940441]\n",
      "(lnprob-np.log(alpha)).sum()\n",
      "-11.649404413442266\n",
      "(2, 1)\n",
      "likelihood per samp\n",
      "[-14.14380083]\n",
      "likelihood\n",
      "[-14.14380083]\n",
      "lnprob\n",
      "[-14.14380083]\n",
      "(lnprob-np.log(alpha)).sum()\n",
      "-14.14380083350745\n",
      "(2, 2)\n",
      "likelihood per samp\n",
      "[-15.23583053]\n",
      "likelihood\n",
      "[-15.23583053]\n",
      "lnprob\n",
      "[-15.23583053]\n",
      "(lnprob-np.log(alpha)).sum()\n",
      "-15.23583052596581\n",
      "(2, 3)\n",
      "likelihood per samp\n",
      "[-51.20191225]\n",
      "likelihood\n",
      "[-51.20191225]\n",
      "lnprob\n",
      "[-51.20191225]\n",
      "(lnprob-np.log(alpha)).sum()\n",
      "-51.2019122525196\n",
      "(2, 4)\n",
      "likelihood per samp\n",
      "[-73.43573679]\n",
      "likelihood\n",
      "[-73.43573679]\n",
      "lnprob\n",
      "[-73.43573679]\n",
      "(lnprob-np.log(alpha)).sum()\n",
      "-73.43573678934249\n",
      "(3, 0)\n",
      "likelihood per samp\n",
      "[-28.36124417]\n",
      "likelihood\n",
      "[-28.36124417]\n",
      "lnprob\n",
      "[-28.36124417]\n",
      "(lnprob-np.log(alpha)).sum()\n",
      "-28.361244174384552\n",
      "(3, 1)\n",
      "likelihood per samp\n",
      "[-34.02832971]\n",
      "likelihood\n",
      "[-34.02832971]\n",
      "lnprob\n",
      "[-34.02832971]\n",
      "(lnprob-np.log(alpha)).sum()\n",
      "-34.028329714061094\n",
      "(3, 2)\n",
      "likelihood per samp\n",
      "[-32.02429806]\n",
      "likelihood\n",
      "[-32.02429806]\n",
      "lnprob\n",
      "[-32.02429806]\n",
      "(lnprob-np.log(alpha)).sum()\n",
      "-32.024298060181415\n",
      "(3, 3)\n",
      "likelihood per samp\n",
      "[-31.91979288]\n",
      "likelihood\n",
      "[-31.91979288]\n",
      "lnprob\n",
      "[-31.91979288]\n",
      "(lnprob-np.log(alpha)).sum()\n",
      "-31.919792880318617\n",
      "(3, 4)\n",
      "likelihood per samp\n",
      "[-40.20437791]\n",
      "likelihood\n",
      "[-40.20437791]\n",
      "lnprob\n",
      "[-40.20437791]\n",
      "(lnprob-np.log(alpha)).sum()\n",
      "-40.20437790527845\n"
     ]
    }
   ],
   "source": [
    "lnlike_kde=np.zeros((4,5))\n",
    "for chibid in range(4):\n",
    "    for alphaid in range(5):\n",
    "        print((chibid,alphaid))\n",
    "        lnlike_kde[chibid,alphaid]=sample.lnlike([chibid,alphaid,1.],oneobs, KDE, submodels_dict, ['CE'], use_flows=False, prior_pdf=[p_theta[0][0]])"
   ]
  },
  {
   "cell_type": "code",
   "execution_count": 13,
   "metadata": {},
   "outputs": [
    {
     "data": {
      "text/plain": [
       "array([[ -7.77151442, -10.8835659 , -13.45147514, -16.80575562,\n",
       "        -26.23421288],\n",
       "       [ -9.15244007, -11.95845604, -14.44664764, -17.3794632 ,\n",
       "        -25.8398037 ],\n",
       "       [-10.29758549, -12.97566032, -15.12759972, -17.95720673,\n",
       "        -25.77956581],\n",
       "       [-64.4919281 , -34.33011246, -18.82589912, -15.10786438,\n",
       "        -14.64742279]])"
      ]
     },
     "execution_count": 13,
     "metadata": {},
     "output_type": "execute_result"
    }
   ],
   "source": [
    "lnlike_flow"
   ]
  },
  {
   "cell_type": "code",
   "execution_count": 12,
   "metadata": {},
   "outputs": [
    {
     "data": {
      "text/plain": [
       "array([[  -7.77606302,  -16.32652617,  -20.66391493,  -47.62462125,\n",
       "        -115.12925465],\n",
       "       [ -12.44147871,  -13.29927609,  -15.25559224,  -52.47451518,\n",
       "        -115.12925465],\n",
       "       [ -11.64940441,  -14.14380083,  -15.23583053,  -51.20191225,\n",
       "         -73.43573679],\n",
       "       [ -28.36124417,  -34.02832971,  -32.02429806,  -31.91979288,\n",
       "         -40.20437791]])"
      ]
     },
     "execution_count": 12,
     "metadata": {},
     "output_type": "execute_result"
    }
   ],
   "source": [
    "lnlike_kde"
   ]
  },
  {
   "cell_type": "code",
   "execution_count": 21,
   "metadata": {},
   "outputs": [
    {
     "data": {
      "text/plain": [
       "Text(0.5, 1.0, 'CE channel likelihoods (KDEs)')"
      ]
     },
     "execution_count": 21,
     "metadata": {},
     "output_type": "execute_result"
    },
    {
     "data": {
      "image/png": "[encoded data removed]",
      "text/plain": [
       "<Figure size 640x480 with 2 Axes>"
      ]
     },
     "metadata": {},
     "output_type": "display_data"
    }
   ],
   "source": [
    "plt.imshow(lnlike_kde)\n",
    "plt.xlabel('alpha_CE index')\n",
    "plt.ylabel('chi_b index')\n",
    "plt.colorbar()\n",
    "plt.title('CE channel likelihoods (KDEs)')"
   ]
  },
  {
   "cell_type": "code",
   "execution_count": 15,
   "metadata": {},
   "outputs": [
    {
     "data": {
      "text/plain": [
       "array([[ -488.54896481,  -516.01045514,  -497.21744547,  -580.29421382,\n",
       "         -786.29323308],\n",
       "       [ -517.44113865,  -539.3906847 ,  -521.00342875,  -575.61471784,\n",
       "         -720.9136174 ],\n",
       "       [ -638.6766879 ,  -624.86668284,  -599.60617914,  -649.87875854,\n",
       "         -752.67508215],\n",
       "       [-2372.87555011, -2421.31486477, -2474.83763468, -2571.90109638,\n",
       "        -2591.77152278]])"
      ]
     },
     "execution_count": 15,
     "metadata": {},
     "output_type": "execute_result"
    }
   ],
   "source": [
    "lnlike_kde"
   ]
  },
  {
   "cell_type": "code",
   "execution_count": 17,
   "metadata": {},
   "outputs": [
    {
     "data": {
      "text/plain": [
       "array([  -9.20302148,   -8.78135162,   -6.19423043,   -7.75944685,\n",
       "        -28.28176917,   -8.74912355,  -10.40066797,  -28.72386682,\n",
       "        -28.82096547,  -11.99128996,  -11.28014389,   -9.6537231 ,\n",
       "         -7.52794299,   -8.84011782,   -9.93582466,  -12.92557307,\n",
       "        -13.54554061,   -6.4527987 ,   -7.73029182,  -10.17206779,\n",
       "         -8.60403119,  -14.18859681,   -8.18808432,   -8.50550673,\n",
       "        -10.34154094,   -8.74545253,  -15.14677686,  -25.0078318 ,\n",
       "        -22.61748219,   -6.41279088,   -5.28287875,  -10.67451398,\n",
       "         -6.34738207,   -5.69846835,   -8.29271577,   -7.9853818 ,\n",
       "         -5.79867653,  -15.72676133,   -5.06660529, -129.0967273 ,\n",
       "        -17.47596152,   -9.6796394 ,   -9.0654278 ,  -13.75941454,\n",
       "         -9.43775286,   -7.9695444 ])"
      ]
     },
     "execution_count": 17,
     "metadata": {},
     "output_type": "execute_result"
    }
   ],
   "source": [
    "flow['CE'](obsdata, np.array([0,4]), prior_pdf=p_theta)"
   ]
  },
  {
   "cell_type": "code",
   "execution_count": 6,
   "metadata": {},
   "outputs": [
    {
     "data": {
      "text/plain": [
       "array([ -10.15213201,  -10.2370797 ,   -6.8671198 ,   -4.45993592,\n",
       "        -33.33321011,  -10.76953037,   -9.9399287 ,  -60.66606219,\n",
       "        -51.09035293,   -8.92467829,  -10.10221462,  -10.85952794,\n",
       "         -9.37488761,   -6.45602922,   -9.92209522,  -12.89424431,\n",
       "         -8.12529759,   -9.88001897,   -8.39317134,   -9.69153958,\n",
       "        -12.91194852,   -8.12374342,   -7.36225631,   -7.1414361 ,\n",
       "         -9.22971348,   -8.00380053,  -15.98867574,  -42.78080321,\n",
       "        -24.06492978,  -10.35272788,   -9.34417841,   -9.02773941,\n",
       "         -4.93039032,   -7.61403959,  -10.07666919,   -5.04854949,\n",
       "         -5.36215827,  -28.31047996,   -7.73197062, -115.12925465,\n",
       "        -22.44462872,  -12.0403539 ,   -6.40812559,  -12.77941435,\n",
       "         -8.63551045,  -10.29308376])"
      ]
     },
     "execution_count": 6,
     "metadata": {},
     "output_type": "execute_result"
    }
   ],
   "source": [
    "np.log(KDE['CE']['chi01']['alpha50'](obsdata))"
   ]
  },
  {
   "cell_type": "code",
   "execution_count": 7,
   "metadata": {},
   "outputs": [
    {
     "data": {
      "text/plain": [
       "array([ -11.3345494 ,  -10.18346209,   -7.38452387,   -5.20933352,\n",
       "        -27.16703011,  -13.38870251,   -8.98196645,  -32.32100143,\n",
       "        -27.95315012,  -12.60426593,  -13.3384241 ,  -12.1780204 ,\n",
       "         -9.16170574,   -7.40291829,  -11.34279535,  -15.19940636,\n",
       "         -7.24485499,  -10.50641985,  -10.02755674,  -10.17016962,\n",
       "        -15.15560568,   -9.98139514,   -6.56661819,   -7.6769855 ,\n",
       "        -10.78925061,   -7.51192835,  -17.96787414,  -19.38021343,\n",
       "        -20.60305571,  -12.95460951,  -10.2066432 ,  -11.84374345,\n",
       "         -5.38267265,   -9.08463928,  -11.56342826,   -6.38900809,\n",
       "         -6.27430444,  -20.98233641,   -8.72536247, -133.82366578,\n",
       "        -15.67059464,  -13.97775508,   -8.2750798 ,  -12.66774162,\n",
       "         -8.21095259,  -11.574784  ])"
      ]
     },
     "execution_count": 7,
     "metadata": {},
     "output_type": "execute_result"
    }
   ],
   "source": [
    "flow['CE'](obsdata, np.array([1,4]), prior_pdf=p_theta)"
   ]
  }
 ],
 "metadata": {
  "kernelspec": {
   "display_name": "Python 3.9.15 ('amaze')",
   "language": "python",
   "name": "python3"
  },
  "language_info": {
   "codemirror_mode": {
    "name": "ipython",
    "version": 3
   },
   "file_extension": ".py",
   "mimetype": "text/x-python",
   "name": "python",
   "nbconvert_exporter": "python",
   "pygments_lexer": "ipython3",
   "version": "3.9.15"
  },
  "orig_nbformat": 4,
  "vscode": {
   "interpreter": {
    "hash": "40f4eedd3c2b0a4cf443053300595e4c410b663f293e84798d1742802fb2c7c8"
   }
  }
 },
 "nbformat": 4,
 "nbformat_minor": 2
}
