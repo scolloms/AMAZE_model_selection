{
 "cells": [
  {
   "cell_type": "markdown",
   "metadata": {},
   "source": [
    "## Calculating likelihoods"
   ]
  },
  {
   "cell_type": "code",
   "execution_count": 1,
   "metadata": {},
   "outputs": [
    {
     "name": "stdout",
     "output_type": "stream",
     "text": [
      "glasflow is using its own internal version of nflows\n"
     ]
    },
    {
     "name": "stderr",
     "output_type": "stream",
     "text": [
      "PyCBC.libutils: pkg-config call failed, setting NO_PKGCONFIG=1\n"
     ]
    }
   ],
   "source": [
    "import matplotlib.pyplot as plt\n",
    "import corner as corner\n",
    "import pandas as pd\n",
    "import numpy as np\n",
    "import h5py\n",
    "import torch\n",
    "import time\n",
    "from scipy.special import logsumexp\n",
    "\n",
    "import sys\n",
    "\n",
    "sys.path.append('../')\n",
    "from populations.bbh_models import get_models\n",
    "import populations.bbh_models as read_models\n",
    "from populations.utils.flow import NFlow\n",
    "from populations.Flowsclass_dev import FlowModel\n",
    "from populations import gw_obs\n",
    "\n",
    "from sample import sample"
   ]
  },
  {
   "cell_type": "code",
   "execution_count": 248,
   "metadata": {},
   "outputs": [
    {
     "name": "stderr",
     "output_type": "stream",
     "text": [
      "100%|██████████| 1/1 [00:04<00:00,  4.20s/it]\n",
      "100%|██████████| 20/20 [00:09<00:00,  2.18it/s]\n"
     ]
    }
   ],
   "source": [
    "params = ['mchirp','q', 'chieff', 'z']\n",
    "chi_b = [0.0,0.1,0.2,0.5]\n",
    "alpha = [0.2,0.5,1.,2.,5.]\n",
    "file_path='/Users/stormcolloms/Documents/PhD/Project_work/OneChannel_Flows/models_reduced.hdf5'\n",
    "gw_path = '/Users/stormcolloms/Documents/PhD/Project_work/AMAZE_model_selection/gw_events'\n",
    "observations, obsdata, p_theta, events = gw_obs.generate_observations(params, gw_path, \\\n",
    "                                            100, 'posteriors', None)\n",
    "\n",
    "model_names, flow = read_models.get_models(file_path, ['CE'], params, use_flows=True, device='cpu')\n",
    "_, KDE = read_models.get_models(file_path, ['CE'], params, use_flows=False, device='cpu')"
   ]
  },
  {
   "cell_type": "markdown",
   "metadata": {},
   "source": [
    "## Likelihoods In sampling"
   ]
  },
  {
   "cell_type": "code",
   "execution_count": 249,
   "metadata": {},
   "outputs": [],
   "source": [
    "#inputs: x, data, pop_models, submodels_dict, channels, use_flows\n",
    "hyperparams = list(set([x.split('/', 1)[1] for x in model_names]))\n",
    "Nhyper = np.max([len(x.split('/')) for x in hyperparams])\n",
    "channels = sorted(list(set([x.split('/')[0] for x in model_names])))\n",
    "\n",
    "# construct dict that relates submodels to their index number\n",
    "submodels_dict = {} #dummy index dict keys:0,1,2,3, items: particular models\n",
    "ctr=0 #associates with either chi_b or alpha (0 or 1)\n",
    "while ctr < Nhyper:\n",
    "    submodels_dict[ctr] = {}\n",
    "    hyper_set = sorted(list(set([x.split('/')[ctr] for x in hyperparams])))\n",
    "    for idx, model in enumerate(hyper_set): #idx associates with 0,1,2,3,(4) keys\n",
    "        submodels_dict[ctr][idx] = model\n",
    "    ctr += 1"
   ]
  },
  {
   "cell_type": "code",
   "execution_count": 250,
   "metadata": {},
   "outputs": [],
   "source": [
    "flow_path=\"/Users/stormcolloms/Documents/PhD/Project_work/AMAZE_model_selection/flow_models/cosmo_weights/newmappings/\"\n",
    "flow['CE'].load_model(flow_path, 'CE')"
   ]
  },
  {
   "cell_type": "code",
   "execution_count": 258,
   "metadata": {},
   "outputs": [],
   "source": [
    "lnlike_flow=np.zeros((4,5))\n",
    "for chibid in range(4):\n",
    "    for alphaid in range(5):\n",
    "        lnlike_flow[chibid,alphaid]=sample.lnlike([chibid,alphaid],obsdata, flow, submodels_dict, ['CE'], use_flows=True)"
   ]
  },
  {
   "cell_type": "code",
   "execution_count": 6,
   "metadata": {},
   "outputs": [
    {
     "data": {
      "text/plain": [
       "array([[-173.12040062, -155.03684912, -118.40810846, -112.83087088,\n",
       "        -165.83597968],\n",
       "       [-179.7249909 , -176.07320902, -129.75042404, -103.92826212,\n",
       "        -151.41989804],\n",
       "       [-225.06919893, -211.71301244, -173.86509907, -157.87251607,\n",
       "        -172.78022618],\n",
       "       [-482.45723995, -428.1226933 , -378.411232  , -312.60461757,\n",
       "        -469.58454482]])"
      ]
     },
     "execution_count": 6,
     "metadata": {},
     "output_type": "execute_result"
    }
   ],
   "source": [
    "lnlike_flow"
   ]
  },
  {
   "cell_type": "code",
   "execution_count": 7,
   "metadata": {},
   "outputs": [
    {
     "data": {
      "text/plain": [
       "Text(0.5, 1.0, 'CE channel likelihoods (flow)')"
      ]
     },
     "execution_count": 7,
     "metadata": {},
     "output_type": "execute_result"
    },
    {
     "data": {
      "image/png": "[encoded data removed]",
      "text/plain": [
       "<Figure size 640x480 with 2 Axes>"
      ]
     },
     "metadata": {},
     "output_type": "display_data"
    }
   ],
   "source": [
    "plt.imshow(lnlike_flow)\n",
    "plt.xlabel('alpha_CE index')\n",
    "plt.ylabel('chi_b index')\n",
    "plt.colorbar()\n",
    "plt.title('CE channel likelihoods (flow)')"
   ]
  },
  {
   "cell_type": "code",
   "execution_count": 291,
   "metadata": {},
   "outputs": [],
   "source": [
    "mchirps = np.linspace(0.1,99.9,5)\n",
    "qs = np.linspace(0.01,0.99,5)\n",
    "chieffs = np.linspace(-0.99,0.99,5)\n",
    "zs = np.linspace(0.1,9.9, 5)\n",
    "param_grid = np.array(np.meshgrid(mchirps,qs,chieffs,zs)).T.reshape(1,-1,4)\n",
    "\n",
    "mapped_sample = flow['CE'].map_obs(param_grid)\n",
    "\n",
    "ptheta_achi_flow=np.zeros((4,5))\n",
    "for chibid, xb in enumerate(chi_b):\n",
    "    for alphaid, a  in enumerate(alpha):\n",
    "        test_conditional=np.reshape((np.tile([xb,a],np.shape(param_grid)[1])),(1,-1,2))\n",
    "        ptheta_achi_flow_persamp=flow['CE'].flow.get_logprob(param_grid, mapped_sample, test_conditional)\n",
    "        ptheta_achi_flow[chibid,alphaid] = logsumexp(ptheta_achi_flow_persamp)"
   ]
  },
  {
   "cell_type": "code",
   "execution_count": 293,
   "metadata": {},
   "outputs": [
    {
     "data": {
      "text/plain": [
       "array([[ 3.11792374,  3.89550066,  4.69418859,  3.73168111,  3.82067871],\n",
       "       [ 3.56506777,  4.01247787,  2.65666676,  2.40267944, -0.26037031],\n",
       "       [ 3.10783601,  3.9321692 ,  2.56621981,  2.3189528 , -0.09017229],\n",
       "       [ 1.84639764,  3.45078182,  4.04620695,  5.17186546,  4.47548485]])"
      ]
     },
     "execution_count": 293,
     "metadata": {},
     "output_type": "execute_result"
    }
   ],
   "source": [
    "ptheta_achi_flow"
   ]
  },
  {
   "cell_type": "code",
   "execution_count": 287,
   "metadata": {},
   "outputs": [
    {
     "data": {
      "text/plain": [
       "Text(0.5, 1.0, 'p(theta|alpha,chi_b), CE channel (flow)')"
      ]
     },
     "execution_count": 287,
     "metadata": {},
     "output_type": "execute_result"
    },
    {
     "data": {
      "image/png": "[encoded data removed]",
      "text/plain": [
       "<Figure size 640x480 with 2 Axes>"
      ]
     },
     "metadata": {},
     "output_type": "display_data"
    }
   ],
   "source": [
    "plt.imshow(ptheta_achi_flow)\n",
    "plt.xlabel('alpha_CE index')\n",
    "plt.ylabel('chi_b index')\n",
    "plt.colorbar()\n",
    "plt.title('p(theta|alpha,chi_b), CE channel (flow)')"
   ]
  },
  {
   "cell_type": "code",
   "execution_count": 295,
   "metadata": {},
   "outputs": [
    {
     "name": "stderr",
     "output_type": "stream",
     "text": [
      "/var/folders/t1/pzgx3lnj70l28d88_yvswpsr0000gq/T/ipykernel_61075/2216055882.py:5: RuntimeWarning: divide by zero encountered in log\n",
      "  ptheta_achi_flow_persamp=np.log(KDE['CE'][submodels_dict[0][chibid]][submodels_dict[1][alphaid]].pdf(param_grid[0]))\n"
     ]
    }
   ],
   "source": [
    "ptheta_achi_kde=np.zeros((4,5))\n",
    "for chibid, xb in enumerate(chi_b):\n",
    "    for alphaid, a  in enumerate(alpha):\n",
    "        submodels_dict\n",
    "        ptheta_achi_kde_persamp=np.log(KDE['CE'][submodels_dict[0][chibid]][submodels_dict[1][alphaid]].pdf(param_grid[0]))\n",
    "        ptheta_achi_kde[chibid,alphaid] = logsumexp(ptheta_achi_kde_persamp)"
   ]
  },
  {
   "cell_type": "code",
   "execution_count": 297,
   "metadata": {},
   "outputs": [
    {
     "data": {
      "text/plain": [
       "array([[ -2.94597544,  -3.09499201,  -1.40404936,  -2.46337987,\n",
       "         -2.82820814],\n",
       "       [ -4.19619026,  -2.80592617,  -5.58690062,  -6.07759583,\n",
       "        -13.17937801],\n",
       "       [ -5.39755949,  -2.45735441,  -5.23416282,  -1.96636708,\n",
       "        -14.34751345],\n",
       "       [ -3.62476032,  -1.54289873,  -1.33129668,  -2.80950997,\n",
       "         -3.04499186]])"
      ]
     },
     "execution_count": 297,
     "metadata": {},
     "output_type": "execute_result"
    }
   ],
   "source": [
    "ptheta_achi_flow"
   ]
  },
  {
   "cell_type": "code",
   "execution_count": 298,
   "metadata": {},
   "outputs": [
    {
     "data": {
      "text/plain": [
       "Text(0.5, 1.0, 'p(theta|alpha,chi_b), CE channel (kde)')"
      ]
     },
     "execution_count": 298,
     "metadata": {},
     "output_type": "execute_result"
    },
    {
     "data": {
      "image/png": "[encoded data removed]",
      "text/plain": [
       "<Figure size 640x480 with 2 Axes>"
      ]
     },
     "metadata": {},
     "output_type": "display_data"
    }
   ],
   "source": [
    "plt.imshow(ptheta_achi_flow)\n",
    "plt.xlabel('alpha_CE index')\n",
    "plt.ylabel('chi_b index')\n",
    "plt.colorbar()\n",
    "plt.title('p(theta|alpha,chi_b), CE channel (kde)')"
   ]
  },
  {
   "cell_type": "code",
   "execution_count": 6,
   "metadata": {},
   "outputs": [
    {
     "name": "stdout",
     "output_type": "stream",
     "text": [
      "torch.Size([1, 3, 4])\n"
     ]
    },
    {
     "data": {
      "text/plain": [
       "array([[  1.4539537, -26.758013 , -26.757986 ]], dtype=float32)"
      ]
     },
     "execution_count": 6,
     "metadata": {},
     "output_type": "execute_result"
    }
   ],
   "source": [
    "flow['CE'].flow.get_logprob(test_sample, mapped_sample,test_conditional)"
   ]
  },
  {
   "cell_type": "code",
   "execution_count": 26,
   "metadata": {},
   "outputs": [
    {
     "data": {
      "text/plain": [
       "array([ -6.45597289, -21.57828324])"
      ]
     },
     "execution_count": 26,
     "metadata": {},
     "output_type": "execute_result"
    }
   ],
   "source": [
    "np.log(KDE['CE']['chi01']['alpha05'].pdf(test_sample[0]))"
   ]
  },
  {
   "cell_type": "markdown",
   "metadata": {},
   "source": [
    "## Testing int(p(theta|alpha,chi)dtheta) =1"
   ]
  },
  {
   "cell_type": "code",
   "execution_count": 174,
   "metadata": {},
   "outputs": [],
   "source": [
    "mchirps = np.linspace(0.1,99.9,20)\n",
    "qs = np.linspace(0.01,0.99,20)\n",
    "chieffs = np.linspace(-0.99,0.99,20)\n",
    "zs = np.linspace(0.1,9.9, 20)\n",
    "\n",
    "param_grid = np.array(np.meshgrid(mchirps,qs,chieffs,zs)).T.reshape(1,-1,4)"
   ]
  },
  {
   "cell_type": "code",
   "execution_count": 175,
   "metadata": {},
   "outputs": [],
   "source": [
    "mapped_param_grid = flow['CE'].map_obs(param_grid)"
   ]
  },
  {
   "cell_type": "code",
   "execution_count": 176,
   "metadata": {},
   "outputs": [
    {
     "data": {
      "text/plain": [
       "array([[[ 13.66493092,  -0.34427877,  -2.64665241,  -0.32739101],\n",
       "        [ 13.66493092,  -0.20408034,  -2.64665241,  -0.32739101],\n",
       "        [ 13.66493092,  -0.15425705,  -2.64665241,  -0.32739101],\n",
       "        ...,\n",
       "        [-13.66493092,   0.15425705,   2.64665241,   0.32739101],\n",
       "        [-13.66493092,   0.20408034,   2.64665241,   0.32739101],\n",
       "        [-13.66493092,   0.34427877,   2.64665241,   0.32739101]]])"
      ]
     },
     "execution_count": 176,
     "metadata": {},
     "output_type": "execute_result"
    }
   ],
   "source": [
    "mapped_param_grid"
   ]
  },
  {
   "cell_type": "code",
   "execution_count": 187,
   "metadata": {},
   "outputs": [],
   "source": [
    "dtheta = np.prod(np.diff(mapped_param_grid, axis=1), axis=-1)\n",
    "dtheta = np.reshape(np.append(dtheta,0), (160000))\n",
    "dmdqdchidz = 16*(np.max(mapped_param_grid[:,:,0]))*(np.max(mapped_param_grid[:,:,1]))*(np.max(mapped_param_grid[:,:,2])) *\\\n",
    "                (np.max(mapped_param_grid[:,:,3]))"
   ]
  },
  {
   "cell_type": "code",
   "execution_count": 80,
   "metadata": {},
   "outputs": [
    {
     "data": {
      "text/plain": [
       "(1, 160000, 4)"
      ]
     },
     "execution_count": 80,
     "metadata": {},
     "output_type": "execute_result"
    }
   ],
   "source": [
    "mapped_param_grid.shape"
   ]
  },
  {
   "cell_type": "code",
   "execution_count": 274,
   "metadata": {},
   "outputs": [],
   "source": [
    "conds= np.reshape((np.tile([0.5,0.2],np.shape(param_grid)[1])),(1,-1,2))"
   ]
  },
  {
   "cell_type": "code",
   "execution_count": 275,
   "metadata": {},
   "outputs": [],
   "source": [
    "log_prob_grid=flow['CE'].flow.get_logprob(param_grid, mapped_param_grid, conds)"
   ]
  },
  {
   "cell_type": "code",
   "execution_count": 284,
   "metadata": {},
   "outputs": [
    {
     "name": "stderr",
     "output_type": "stream",
     "text": [
      "/var/folders/t1/pzgx3lnj70l28d88_yvswpsr0000gq/T/ipykernel_61075/3347962205.py:1: RuntimeWarning: divide by zero encountered in log\n",
      "  logsumexp((log_prob_grid+ np.log(dtheta)))\n"
     ]
    },
    {
     "data": {
      "text/plain": [
       "-732.9230344525499"
      ]
     },
     "execution_count": 284,
     "metadata": {},
     "output_type": "execute_result"
    }
   ],
   "source": [
    "logsumexp((log_prob_grid+ np.log(dtheta)))"
   ]
  },
  {
   "cell_type": "code",
   "execution_count": 278,
   "metadata": {},
   "outputs": [
    {
     "name": "stderr",
     "output_type": "stream",
     "text": [
      "/var/folders/t1/pzgx3lnj70l28d88_yvswpsr0000gq/T/ipykernel_61075/656039321.py:4: RuntimeWarning: divide by zero encountered in log\n",
      "  test_lprobs=np.log(probs)+np.log(2/50000)\n"
     ]
    },
    {
     "data": {
      "text/plain": [
       "-7.60080245454175"
      ]
     },
     "execution_count": 278,
     "metadata": {},
     "output_type": "execute_result"
    }
   ],
   "source": [
    "probs, dx=np.linspace(0,5,10000, retstep=True)\n",
    "\n",
    "#this is log(probs*normalisation constant)\n",
    "test_lprobs=np.log(probs)+np.log(2/50000)\n",
    "logsumexp(test_lprobs)"
   ]
  },
  {
   "cell_type": "code",
   "execution_count": 238,
   "metadata": {},
   "outputs": [
    {
     "data": {
      "text/plain": [
       "[<matplotlib.lines.Line2D at 0x7fd0d059d2e0>]"
      ]
     },
     "execution_count": 238,
     "metadata": {},
     "output_type": "execute_result"
    },
    {
     "data": {
      "image/png": "[encoded data removed]",
      "text/plain": [
       "<Figure size 640x480 with 1 Axes>"
      ]
     },
     "metadata": {},
     "output_type": "display_data"
    }
   ],
   "source": [
    "plt.plot(probs/50000)"
   ]
  },
  {
   "cell_type": "code",
   "execution_count": 216,
   "metadata": {},
   "outputs": [],
   "source": [
    "from scipy import integrate\n",
    "def f(mchirp, q,chieff,z):\n",
    "    params= np.asarray([mchirp, q,chieff,z])\n",
    "    params = np.reshape(params, (1,1,4))\n",
    "    mapped_params = flow['CE'].map_obs(params)\n",
    "    return flow['CE'].flow.get_logprob(params, mapped_params, np.asarray([[[0.,0.2]]]))\n",
    "def bounds_mchirp():\n",
    "    return [0., 100.]\n",
    "def bounds_q():\n",
    "    return [0., 1.]\n",
    "def bounds_chieff():\n",
    "    return [-1., 1.]\n",
    "def bounds_z():\n",
    "    return [0., 10.]"
   ]
  },
  {
   "cell_type": "code",
   "execution_count": 217,
   "metadata": {},
   "outputs": [
    {
     "name": "stderr",
     "output_type": "stream",
     "text": [
      "/Users/stormcolloms/opt/anaconda3/envs/amaze/lib/python3.9/site-packages/scipy/integrate/_quadpack_py.py:1151: IntegrationWarning: The maximum number of subdivisions (50) has been achieved.\n",
      "  If increasing the limit yields no improvement it is advised to analyze \n",
      "  the integrand in order to determine the difficulties.  If the position of a \n",
      "  local difficulty can be determined (singularity, discontinuity) one will \n",
      "  probably gain from splitting up the interval and calling the integrator \n",
      "  on the subranges.  Perhaps a special-purpose integrator should be used.\n",
      "  quad_r = quad(f, low, high, args=args, full_output=self.full_output,\n"
     ]
    },
    {
     "ename": "KeyboardInterrupt",
     "evalue": "",
     "output_type": "error",
     "traceback": [
      "\u001b[0;31m---------------------------------------------------------------------------\u001b[0m",
      "\u001b[0;31mKeyboardInterrupt\u001b[0m                         Traceback (most recent call last)",
      "Cell \u001b[0;32mIn [217], line 1\u001b[0m\n\u001b[0;32m----> 1\u001b[0m integrate\u001b[39m.\u001b[39;49mnquad(f, [[\u001b[39m0.\u001b[39;49m, \u001b[39m100.\u001b[39;49m], [\u001b[39m0.\u001b[39;49m, \u001b[39m1.\u001b[39;49m], [\u001b[39m-\u001b[39;49m\u001b[39m1.\u001b[39;49m, \u001b[39m1.\u001b[39;49m], [\u001b[39m0.\u001b[39;49m, \u001b[39m10.\u001b[39;49m]])\n",
      "File \u001b[0;32m~/opt/anaconda3/envs/amaze/lib/python3.9/site-packages/scipy/integrate/_quadpack_py.py:1097\u001b[0m, in \u001b[0;36mnquad\u001b[0;34m(func, ranges, args, opts, full_output)\u001b[0m\n\u001b[1;32m   1095\u001b[0m \u001b[39melse\u001b[39;00m:\n\u001b[1;32m   1096\u001b[0m     opts \u001b[39m=\u001b[39m [opt \u001b[39mif\u001b[39;00m callable(opt) \u001b[39melse\u001b[39;00m _OptFunc(opt) \u001b[39mfor\u001b[39;00m opt \u001b[39min\u001b[39;00m opts]\n\u001b[0;32m-> 1097\u001b[0m \u001b[39mreturn\u001b[39;00m _NQuad(func, ranges, opts, full_output)\u001b[39m.\u001b[39;49mintegrate(\u001b[39m*\u001b[39;49margs)\n",
      "File \u001b[0;32m~/opt/anaconda3/envs/amaze/lib/python3.9/site-packages/scipy/integrate/_quadpack_py.py:1151\u001b[0m, in \u001b[0;36m_NQuad.integrate\u001b[0;34m(self, *args, **kwargs)\u001b[0m\n\u001b[1;32m   1149\u001b[0m \u001b[39melse\u001b[39;00m:\n\u001b[1;32m   1150\u001b[0m     f \u001b[39m=\u001b[39m partial(\u001b[39mself\u001b[39m\u001b[39m.\u001b[39mintegrate, depth\u001b[39m=\u001b[39mdepth\u001b[39m+\u001b[39m\u001b[39m1\u001b[39m)\n\u001b[0;32m-> 1151\u001b[0m quad_r \u001b[39m=\u001b[39m quad(f, low, high, args\u001b[39m=\u001b[39;49margs, full_output\u001b[39m=\u001b[39;49m\u001b[39mself\u001b[39;49m\u001b[39m.\u001b[39;49mfull_output,\n\u001b[1;32m   1152\u001b[0m               \u001b[39m*\u001b[39;49m\u001b[39m*\u001b[39;49mopt)\n\u001b[1;32m   1153\u001b[0m value \u001b[39m=\u001b[39m quad_r[\u001b[39m0\u001b[39m]\n\u001b[1;32m   1154\u001b[0m abserr \u001b[39m=\u001b[39m quad_r[\u001b[39m1\u001b[39m]\n",
      "File \u001b[0;32m~/opt/anaconda3/envs/amaze/lib/python3.9/site-packages/scipy/integrate/_quadpack_py.py:411\u001b[0m, in \u001b[0;36mquad\u001b[0;34m(func, a, b, args, full_output, epsabs, epsrel, limit, points, weight, wvar, wopts, maxp1, limlst)\u001b[0m\n\u001b[1;32m    408\u001b[0m flip, a, b \u001b[39m=\u001b[39m b \u001b[39m<\u001b[39m a, \u001b[39mmin\u001b[39m(a, b), \u001b[39mmax\u001b[39m(a, b)\n\u001b[1;32m    410\u001b[0m \u001b[39mif\u001b[39;00m weight \u001b[39mis\u001b[39;00m \u001b[39mNone\u001b[39;00m:\n\u001b[0;32m--> 411\u001b[0m     retval \u001b[39m=\u001b[39m _quad(func, a, b, args, full_output, epsabs, epsrel, limit,\n\u001b[1;32m    412\u001b[0m                    points)\n\u001b[1;32m    413\u001b[0m \u001b[39melse\u001b[39;00m:\n\u001b[1;32m    414\u001b[0m     \u001b[39mif\u001b[39;00m points \u001b[39mis\u001b[39;00m \u001b[39mnot\u001b[39;00m \u001b[39mNone\u001b[39;00m:\n",
      "File \u001b[0;32m~/opt/anaconda3/envs/amaze/lib/python3.9/site-packages/scipy/integrate/_quadpack_py.py:523\u001b[0m, in \u001b[0;36m_quad\u001b[0;34m(func, a, b, args, full_output, epsabs, epsrel, limit, points)\u001b[0m\n\u001b[1;32m    521\u001b[0m \u001b[39mif\u001b[39;00m points \u001b[39mis\u001b[39;00m \u001b[39mNone\u001b[39;00m:\n\u001b[1;32m    522\u001b[0m     \u001b[39mif\u001b[39;00m infbounds \u001b[39m==\u001b[39m \u001b[39m0\u001b[39m:\n\u001b[0;32m--> 523\u001b[0m         \u001b[39mreturn\u001b[39;00m _quadpack\u001b[39m.\u001b[39;49m_qagse(func,a,b,args,full_output,epsabs,epsrel,limit)\n\u001b[1;32m    524\u001b[0m     \u001b[39melse\u001b[39;00m:\n\u001b[1;32m    525\u001b[0m         \u001b[39mreturn\u001b[39;00m _quadpack\u001b[39m.\u001b[39m_qagie(func,bound,infbounds,args,full_output,epsabs,epsrel,limit)\n",
      "File \u001b[0;32m~/opt/anaconda3/envs/amaze/lib/python3.9/site-packages/scipy/integrate/_quadpack_py.py:1151\u001b[0m, in \u001b[0;36m_NQuad.integrate\u001b[0;34m(self, *args, **kwargs)\u001b[0m\n\u001b[1;32m   1149\u001b[0m \u001b[39melse\u001b[39;00m:\n\u001b[1;32m   1150\u001b[0m     f \u001b[39m=\u001b[39m partial(\u001b[39mself\u001b[39m\u001b[39m.\u001b[39mintegrate, depth\u001b[39m=\u001b[39mdepth\u001b[39m+\u001b[39m\u001b[39m1\u001b[39m)\n\u001b[0;32m-> 1151\u001b[0m quad_r \u001b[39m=\u001b[39m quad(f, low, high, args\u001b[39m=\u001b[39;49margs, full_output\u001b[39m=\u001b[39;49m\u001b[39mself\u001b[39;49m\u001b[39m.\u001b[39;49mfull_output,\n\u001b[1;32m   1152\u001b[0m               \u001b[39m*\u001b[39;49m\u001b[39m*\u001b[39;49mopt)\n\u001b[1;32m   1153\u001b[0m value \u001b[39m=\u001b[39m quad_r[\u001b[39m0\u001b[39m]\n\u001b[1;32m   1154\u001b[0m abserr \u001b[39m=\u001b[39m quad_r[\u001b[39m1\u001b[39m]\n",
      "File \u001b[0;32m~/opt/anaconda3/envs/amaze/lib/python3.9/site-packages/scipy/integrate/_quadpack_py.py:411\u001b[0m, in \u001b[0;36mquad\u001b[0;34m(func, a, b, args, full_output, epsabs, epsrel, limit, points, weight, wvar, wopts, maxp1, limlst)\u001b[0m\n\u001b[1;32m    408\u001b[0m flip, a, b \u001b[39m=\u001b[39m b \u001b[39m<\u001b[39m a, \u001b[39mmin\u001b[39m(a, b), \u001b[39mmax\u001b[39m(a, b)\n\u001b[1;32m    410\u001b[0m \u001b[39mif\u001b[39;00m weight \u001b[39mis\u001b[39;00m \u001b[39mNone\u001b[39;00m:\n\u001b[0;32m--> 411\u001b[0m     retval \u001b[39m=\u001b[39m _quad(func, a, b, args, full_output, epsabs, epsrel, limit,\n\u001b[1;32m    412\u001b[0m                    points)\n\u001b[1;32m    413\u001b[0m \u001b[39melse\u001b[39;00m:\n\u001b[1;32m    414\u001b[0m     \u001b[39mif\u001b[39;00m points \u001b[39mis\u001b[39;00m \u001b[39mnot\u001b[39;00m \u001b[39mNone\u001b[39;00m:\n",
      "File \u001b[0;32m~/opt/anaconda3/envs/amaze/lib/python3.9/site-packages/scipy/integrate/_quadpack_py.py:523\u001b[0m, in \u001b[0;36m_quad\u001b[0;34m(func, a, b, args, full_output, epsabs, epsrel, limit, points)\u001b[0m\n\u001b[1;32m    521\u001b[0m \u001b[39mif\u001b[39;00m points \u001b[39mis\u001b[39;00m \u001b[39mNone\u001b[39;00m:\n\u001b[1;32m    522\u001b[0m     \u001b[39mif\u001b[39;00m infbounds \u001b[39m==\u001b[39m \u001b[39m0\u001b[39m:\n\u001b[0;32m--> 523\u001b[0m         \u001b[39mreturn\u001b[39;00m _quadpack\u001b[39m.\u001b[39;49m_qagse(func,a,b,args,full_output,epsabs,epsrel,limit)\n\u001b[1;32m    524\u001b[0m     \u001b[39melse\u001b[39;00m:\n\u001b[1;32m    525\u001b[0m         \u001b[39mreturn\u001b[39;00m _quadpack\u001b[39m.\u001b[39m_qagie(func,bound,infbounds,args,full_output,epsabs,epsrel,limit)\n",
      "    \u001b[0;31m[... skipping similar frames: _quad at line 523 (1 times), _NQuad.integrate at line 1151 (1 times), quad at line 411 (1 times)]\u001b[0m\n",
      "File \u001b[0;32m~/opt/anaconda3/envs/amaze/lib/python3.9/site-packages/scipy/integrate/_quadpack_py.py:1151\u001b[0m, in \u001b[0;36m_NQuad.integrate\u001b[0;34m(self, *args, **kwargs)\u001b[0m\n\u001b[1;32m   1149\u001b[0m \u001b[39melse\u001b[39;00m:\n\u001b[1;32m   1150\u001b[0m     f \u001b[39m=\u001b[39m partial(\u001b[39mself\u001b[39m\u001b[39m.\u001b[39mintegrate, depth\u001b[39m=\u001b[39mdepth\u001b[39m+\u001b[39m\u001b[39m1\u001b[39m)\n\u001b[0;32m-> 1151\u001b[0m quad_r \u001b[39m=\u001b[39m quad(f, low, high, args\u001b[39m=\u001b[39;49margs, full_output\u001b[39m=\u001b[39;49m\u001b[39mself\u001b[39;49m\u001b[39m.\u001b[39;49mfull_output,\n\u001b[1;32m   1152\u001b[0m               \u001b[39m*\u001b[39;49m\u001b[39m*\u001b[39;49mopt)\n\u001b[1;32m   1153\u001b[0m value \u001b[39m=\u001b[39m quad_r[\u001b[39m0\u001b[39m]\n\u001b[1;32m   1154\u001b[0m abserr \u001b[39m=\u001b[39m quad_r[\u001b[39m1\u001b[39m]\n",
      "File \u001b[0;32m~/opt/anaconda3/envs/amaze/lib/python3.9/site-packages/scipy/integrate/_quadpack_py.py:411\u001b[0m, in \u001b[0;36mquad\u001b[0;34m(func, a, b, args, full_output, epsabs, epsrel, limit, points, weight, wvar, wopts, maxp1, limlst)\u001b[0m\n\u001b[1;32m    408\u001b[0m flip, a, b \u001b[39m=\u001b[39m b \u001b[39m<\u001b[39m a, \u001b[39mmin\u001b[39m(a, b), \u001b[39mmax\u001b[39m(a, b)\n\u001b[1;32m    410\u001b[0m \u001b[39mif\u001b[39;00m weight \u001b[39mis\u001b[39;00m \u001b[39mNone\u001b[39;00m:\n\u001b[0;32m--> 411\u001b[0m     retval \u001b[39m=\u001b[39m _quad(func, a, b, args, full_output, epsabs, epsrel, limit,\n\u001b[1;32m    412\u001b[0m                    points)\n\u001b[1;32m    413\u001b[0m \u001b[39melse\u001b[39;00m:\n\u001b[1;32m    414\u001b[0m     \u001b[39mif\u001b[39;00m points \u001b[39mis\u001b[39;00m \u001b[39mnot\u001b[39;00m \u001b[39mNone\u001b[39;00m:\n",
      "File \u001b[0;32m~/opt/anaconda3/envs/amaze/lib/python3.9/site-packages/scipy/integrate/_quadpack_py.py:523\u001b[0m, in \u001b[0;36m_quad\u001b[0;34m(func, a, b, args, full_output, epsabs, epsrel, limit, points)\u001b[0m\n\u001b[1;32m    521\u001b[0m \u001b[39mif\u001b[39;00m points \u001b[39mis\u001b[39;00m \u001b[39mNone\u001b[39;00m:\n\u001b[1;32m    522\u001b[0m     \u001b[39mif\u001b[39;00m infbounds \u001b[39m==\u001b[39m \u001b[39m0\u001b[39m:\n\u001b[0;32m--> 523\u001b[0m         \u001b[39mreturn\u001b[39;00m _quadpack\u001b[39m.\u001b[39;49m_qagse(func,a,b,args,full_output,epsabs,epsrel,limit)\n\u001b[1;32m    524\u001b[0m     \u001b[39melse\u001b[39;00m:\n\u001b[1;32m    525\u001b[0m         \u001b[39mreturn\u001b[39;00m _quadpack\u001b[39m.\u001b[39m_qagie(func,bound,infbounds,args,full_output,epsabs,epsrel,limit)\n",
      "Cell \u001b[0;32mIn [216], line 6\u001b[0m, in \u001b[0;36mf\u001b[0;34m(mchirp, q, chieff, z)\u001b[0m\n\u001b[1;32m      4\u001b[0m params \u001b[39m=\u001b[39m np\u001b[39m.\u001b[39mreshape(params, (\u001b[39m1\u001b[39m,\u001b[39m1\u001b[39m,\u001b[39m4\u001b[39m))\n\u001b[1;32m      5\u001b[0m mapped_params \u001b[39m=\u001b[39m flow[\u001b[39m'\u001b[39m\u001b[39mCE\u001b[39m\u001b[39m'\u001b[39m]\u001b[39m.\u001b[39mmap_obs(params)\n\u001b[0;32m----> 6\u001b[0m \u001b[39mreturn\u001b[39;00m flow[\u001b[39m'\u001b[39;49m\u001b[39mCE\u001b[39;49m\u001b[39m'\u001b[39;49m]\u001b[39m.\u001b[39;49mflow\u001b[39m.\u001b[39;49mget_logprob(params, mapped_params, np\u001b[39m.\u001b[39;49masarray([[[\u001b[39m0.\u001b[39;49m,\u001b[39m0.2\u001b[39;49m]]]))\n",
      "File \u001b[0;32m~/Documents/PhD/Project_work/AMAZE_model_selection/testing_notebooks/../populations/utils/flow.py:332\u001b[0m, in \u001b[0;36mNFlow.get_logprob\u001b[0;34m(self, sample, mapped_sample, conditionals)\u001b[0m\n\u001b[1;32m    325\u001b[0m mappings\u001b[39m=\u001b[39mtorch\u001b[39m.\u001b[39masarray([\u001b[39m-\u001b[39m\u001b[39m0.5054364941584185\u001b[39m,\n\u001b[1;32m    326\u001b[0m             \u001b[39m100.0\u001b[39m,\n\u001b[1;32m    327\u001b[0m             \u001b[39m13.347090269689224\u001b[39m,\n\u001b[1;32m    328\u001b[0m             \u001b[39m14.035571191869641\u001b[39m,\n\u001b[1;32m    329\u001b[0m             \u001b[39m10.0\u001b[39m])\n\u001b[1;32m    331\u001b[0m \u001b[39mwith\u001b[39;00m torch\u001b[39m.\u001b[39mno_grad():\n\u001b[0;32m--> 332\u001b[0m     log_prob \u001b[39m=\u001b[39m \u001b[39mself\u001b[39;49m\u001b[39m.\u001b[39;49mnetwork\u001b[39m.\u001b[39;49mlog_prob(mapped_sample, hyperparams)\n\u001b[1;32m    333\u001b[0m     log_prob \u001b[39m+\u001b[39m\u001b[39m=\u001b[39m \u001b[39mself\u001b[39m\u001b[39m.\u001b[39mlog_jacobian(sample, mappings)\n\u001b[1;32m    335\u001b[0m     \u001b[39m#reshape\u001b[39;00m\n",
      "File \u001b[0;32m~/opt/anaconda3/envs/amaze/lib/python3.9/site-packages/glasflow/flows/base.py:71\u001b[0m, in \u001b[0;36mFlow.log_prob\u001b[0;34m(self, inputs, conditional)\u001b[0m\n\u001b[1;32m     65\u001b[0m \u001b[39mdef\u001b[39;00m \u001b[39mlog_prob\u001b[39m(\u001b[39mself\u001b[39m, inputs, conditional\u001b[39m=\u001b[39m\u001b[39mNone\u001b[39;00m):\n\u001b[1;32m     66\u001b[0m     \u001b[39m\"\"\"\u001b[39;00m\n\u001b[1;32m     67\u001b[0m \u001b[39m    Computes the log probability of the inputs samples by apply the\u001b[39;00m\n\u001b[1;32m     68\u001b[0m \u001b[39m    transform.\u001b[39;00m\n\u001b[1;32m     69\u001b[0m \u001b[39m    Does NOT need to specified by the user\u001b[39;00m\n\u001b[1;32m     70\u001b[0m \u001b[39m    \"\"\"\u001b[39;00m\n\u001b[0;32m---> 71\u001b[0m     noise, logabsdet \u001b[39m=\u001b[39m \u001b[39mself\u001b[39;49m\u001b[39m.\u001b[39;49m_transform(inputs, context\u001b[39m=\u001b[39;49mconditional)\n\u001b[1;32m     72\u001b[0m     log_prob \u001b[39m=\u001b[39m \u001b[39mself\u001b[39m\u001b[39m.\u001b[39m_distribution\u001b[39m.\u001b[39mlog_prob(noise)\n\u001b[1;32m     73\u001b[0m     \u001b[39mreturn\u001b[39;00m log_prob \u001b[39m+\u001b[39m logabsdet\n",
      "File \u001b[0;32m~/opt/anaconda3/envs/amaze/lib/python3.9/site-packages/torch/nn/modules/module.py:1130\u001b[0m, in \u001b[0;36mModule._call_impl\u001b[0;34m(self, *input, **kwargs)\u001b[0m\n\u001b[1;32m   1126\u001b[0m \u001b[39m# If we don't have any hooks, we want to skip the rest of the logic in\u001b[39;00m\n\u001b[1;32m   1127\u001b[0m \u001b[39m# this function, and just call forward.\u001b[39;00m\n\u001b[1;32m   1128\u001b[0m \u001b[39mif\u001b[39;00m \u001b[39mnot\u001b[39;00m (\u001b[39mself\u001b[39m\u001b[39m.\u001b[39m_backward_hooks \u001b[39mor\u001b[39;00m \u001b[39mself\u001b[39m\u001b[39m.\u001b[39m_forward_hooks \u001b[39mor\u001b[39;00m \u001b[39mself\u001b[39m\u001b[39m.\u001b[39m_forward_pre_hooks \u001b[39mor\u001b[39;00m _global_backward_hooks\n\u001b[1;32m   1129\u001b[0m         \u001b[39mor\u001b[39;00m _global_forward_hooks \u001b[39mor\u001b[39;00m _global_forward_pre_hooks):\n\u001b[0;32m-> 1130\u001b[0m     \u001b[39mreturn\u001b[39;00m forward_call(\u001b[39m*\u001b[39;49m\u001b[39minput\u001b[39;49m, \u001b[39m*\u001b[39;49m\u001b[39m*\u001b[39;49mkwargs)\n\u001b[1;32m   1131\u001b[0m \u001b[39m# Do not call functions when jit is used\u001b[39;00m\n\u001b[1;32m   1132\u001b[0m full_backward_hooks, non_full_backward_hooks \u001b[39m=\u001b[39m [], []\n",
      "File \u001b[0;32m~/opt/anaconda3/envs/amaze/lib/python3.9/site-packages/glasflow/nflows/transforms/base.py:56\u001b[0m, in \u001b[0;36mCompositeTransform.forward\u001b[0;34m(self, inputs, context)\u001b[0m\n\u001b[1;32m     54\u001b[0m \u001b[39mdef\u001b[39;00m \u001b[39mforward\u001b[39m(\u001b[39mself\u001b[39m, inputs, context\u001b[39m=\u001b[39m\u001b[39mNone\u001b[39;00m):\n\u001b[1;32m     55\u001b[0m     funcs \u001b[39m=\u001b[39m \u001b[39mself\u001b[39m\u001b[39m.\u001b[39m_transforms\n\u001b[0;32m---> 56\u001b[0m     \u001b[39mreturn\u001b[39;00m \u001b[39mself\u001b[39;49m\u001b[39m.\u001b[39;49m_cascade(inputs, funcs, context)\n",
      "File \u001b[0;32m~/opt/anaconda3/envs/amaze/lib/python3.9/site-packages/glasflow/nflows/transforms/base.py:50\u001b[0m, in \u001b[0;36mCompositeTransform._cascade\u001b[0;34m(inputs, funcs, context)\u001b[0m\n\u001b[1;32m     48\u001b[0m total_logabsdet \u001b[39m=\u001b[39m inputs\u001b[39m.\u001b[39mnew_zeros(batch_size)\n\u001b[1;32m     49\u001b[0m \u001b[39mfor\u001b[39;00m func \u001b[39min\u001b[39;00m funcs:\n\u001b[0;32m---> 50\u001b[0m     outputs, logabsdet \u001b[39m=\u001b[39m func(outputs, context)\n\u001b[1;32m     51\u001b[0m     total_logabsdet \u001b[39m+\u001b[39m\u001b[39m=\u001b[39m logabsdet\n\u001b[1;32m     52\u001b[0m \u001b[39mreturn\u001b[39;00m outputs, total_logabsdet\n",
      "File \u001b[0;32m~/opt/anaconda3/envs/amaze/lib/python3.9/site-packages/torch/nn/modules/module.py:1130\u001b[0m, in \u001b[0;36mModule._call_impl\u001b[0;34m(self, *input, **kwargs)\u001b[0m\n\u001b[1;32m   1126\u001b[0m \u001b[39m# If we don't have any hooks, we want to skip the rest of the logic in\u001b[39;00m\n\u001b[1;32m   1127\u001b[0m \u001b[39m# this function, and just call forward.\u001b[39;00m\n\u001b[1;32m   1128\u001b[0m \u001b[39mif\u001b[39;00m \u001b[39mnot\u001b[39;00m (\u001b[39mself\u001b[39m\u001b[39m.\u001b[39m_backward_hooks \u001b[39mor\u001b[39;00m \u001b[39mself\u001b[39m\u001b[39m.\u001b[39m_forward_hooks \u001b[39mor\u001b[39;00m \u001b[39mself\u001b[39m\u001b[39m.\u001b[39m_forward_pre_hooks \u001b[39mor\u001b[39;00m _global_backward_hooks\n\u001b[1;32m   1129\u001b[0m         \u001b[39mor\u001b[39;00m _global_forward_hooks \u001b[39mor\u001b[39;00m _global_forward_pre_hooks):\n\u001b[0;32m-> 1130\u001b[0m     \u001b[39mreturn\u001b[39;00m forward_call(\u001b[39m*\u001b[39;49m\u001b[39minput\u001b[39;49m, \u001b[39m*\u001b[39;49m\u001b[39m*\u001b[39;49mkwargs)\n\u001b[1;32m   1131\u001b[0m \u001b[39m# Do not call functions when jit is used\u001b[39;00m\n\u001b[1;32m   1132\u001b[0m full_backward_hooks, non_full_backward_hooks \u001b[39m=\u001b[39m [], []\n",
      "File \u001b[0;32m~/opt/anaconda3/envs/amaze/lib/python3.9/site-packages/glasflow/nflows/transforms/coupling.py:85\u001b[0m, in \u001b[0;36mCouplingTransform.forward\u001b[0;34m(self, inputs, context)\u001b[0m\n\u001b[1;32m     82\u001b[0m transform_split \u001b[39m=\u001b[39m inputs[:, \u001b[39mself\u001b[39m\u001b[39m.\u001b[39mtransform_features, \u001b[39m.\u001b[39m\u001b[39m.\u001b[39m\u001b[39m.\u001b[39m]\n\u001b[1;32m     84\u001b[0m transform_params \u001b[39m=\u001b[39m \u001b[39mself\u001b[39m\u001b[39m.\u001b[39mtransform_net(identity_split, context)\n\u001b[0;32m---> 85\u001b[0m transform_split, logabsdet \u001b[39m=\u001b[39m \u001b[39mself\u001b[39;49m\u001b[39m.\u001b[39;49m_coupling_transform_forward(\n\u001b[1;32m     86\u001b[0m     inputs\u001b[39m=\u001b[39;49mtransform_split, transform_params\u001b[39m=\u001b[39;49mtransform_params\n\u001b[1;32m     87\u001b[0m )\n\u001b[1;32m     89\u001b[0m \u001b[39mif\u001b[39;00m \u001b[39mself\u001b[39m\u001b[39m.\u001b[39munconditional_transform \u001b[39mis\u001b[39;00m \u001b[39mnot\u001b[39;00m \u001b[39mNone\u001b[39;00m:\n\u001b[1;32m     90\u001b[0m     identity_split, logabsdet_identity \u001b[39m=\u001b[39m \u001b[39mself\u001b[39m\u001b[39m.\u001b[39munconditional_transform(\n\u001b[1;32m     91\u001b[0m         identity_split, context\n\u001b[1;32m     92\u001b[0m     )\n",
      "File \u001b[0;32m~/opt/anaconda3/envs/amaze/lib/python3.9/site-packages/glasflow/nflows/transforms/coupling.py:206\u001b[0m, in \u001b[0;36mPiecewiseCouplingTransform._coupling_transform_forward\u001b[0;34m(self, inputs, transform_params)\u001b[0m\n\u001b[1;32m    205\u001b[0m \u001b[39mdef\u001b[39;00m \u001b[39m_coupling_transform_forward\u001b[39m(\u001b[39mself\u001b[39m, inputs, transform_params):\n\u001b[0;32m--> 206\u001b[0m     \u001b[39mreturn\u001b[39;00m \u001b[39mself\u001b[39;49m\u001b[39m.\u001b[39;49m_coupling_transform(inputs, transform_params, inverse\u001b[39m=\u001b[39;49m\u001b[39mFalse\u001b[39;49;00m)\n",
      "File \u001b[0;32m~/opt/anaconda3/envs/amaze/lib/python3.9/site-packages/glasflow/nflows/transforms/coupling.py:223\u001b[0m, in \u001b[0;36mPiecewiseCouplingTransform._coupling_transform\u001b[0;34m(self, inputs, transform_params, inverse)\u001b[0m\n\u001b[1;32m    220\u001b[0m     \u001b[39m# For 2D data, reshape transform_params from Bx(D*?) to BxDx?\u001b[39;00m\n\u001b[1;32m    221\u001b[0m     transform_params \u001b[39m=\u001b[39m transform_params\u001b[39m.\u001b[39mreshape(b, d, \u001b[39m-\u001b[39m\u001b[39m1\u001b[39m)\n\u001b[0;32m--> 223\u001b[0m outputs, logabsdet \u001b[39m=\u001b[39m \u001b[39mself\u001b[39;49m\u001b[39m.\u001b[39;49m_piecewise_cdf(inputs, transform_params, inverse)\n\u001b[1;32m    225\u001b[0m \u001b[39mreturn\u001b[39;00m outputs, torchutils\u001b[39m.\u001b[39msum_except_batch(logabsdet)\n",
      "File \u001b[0;32m~/opt/anaconda3/envs/amaze/lib/python3.9/site-packages/glasflow/nflows/transforms/coupling.py:504\u001b[0m, in \u001b[0;36mPiecewiseRationalQuadraticCouplingTransform._piecewise_cdf\u001b[0;34m(self, inputs, transform_params, inverse)\u001b[0m\n\u001b[1;32m    501\u001b[0m     spline_fn \u001b[39m=\u001b[39m splines\u001b[39m.\u001b[39munconstrained_rational_quadratic_spline\n\u001b[1;32m    502\u001b[0m     spline_kwargs \u001b[39m=\u001b[39m {\u001b[39m\"\u001b[39m\u001b[39mtails\u001b[39m\u001b[39m\"\u001b[39m: \u001b[39mself\u001b[39m\u001b[39m.\u001b[39mtails, \u001b[39m\"\u001b[39m\u001b[39mtail_bound\u001b[39m\u001b[39m\"\u001b[39m: \u001b[39mself\u001b[39m\u001b[39m.\u001b[39mtail_bound}\n\u001b[0;32m--> 504\u001b[0m \u001b[39mreturn\u001b[39;00m spline_fn(\n\u001b[1;32m    505\u001b[0m     inputs\u001b[39m=\u001b[39;49minputs,\n\u001b[1;32m    506\u001b[0m     unnormalized_widths\u001b[39m=\u001b[39;49munnormalized_widths,\n\u001b[1;32m    507\u001b[0m     unnormalized_heights\u001b[39m=\u001b[39;49munnormalized_heights,\n\u001b[1;32m    508\u001b[0m     unnormalized_derivatives\u001b[39m=\u001b[39;49munnormalized_derivatives,\n\u001b[1;32m    509\u001b[0m     inverse\u001b[39m=\u001b[39;49minverse,\n\u001b[1;32m    510\u001b[0m     min_bin_width\u001b[39m=\u001b[39;49m\u001b[39mself\u001b[39;49m\u001b[39m.\u001b[39;49mmin_bin_width,\n\u001b[1;32m    511\u001b[0m     min_bin_height\u001b[39m=\u001b[39;49m\u001b[39mself\u001b[39;49m\u001b[39m.\u001b[39;49mmin_bin_height,\n\u001b[1;32m    512\u001b[0m     min_derivative\u001b[39m=\u001b[39;49m\u001b[39mself\u001b[39;49m\u001b[39m.\u001b[39;49mmin_derivative,\n\u001b[1;32m    513\u001b[0m     \u001b[39m*\u001b[39;49m\u001b[39m*\u001b[39;49mspline_kwargs\n\u001b[1;32m    514\u001b[0m )\n",
      "File \u001b[0;32m~/opt/anaconda3/envs/amaze/lib/python3.9/site-packages/glasflow/nflows/transforms/splines/rational_quadratic.py:46\u001b[0m, in \u001b[0;36munconstrained_rational_quadratic_spline\u001b[0;34m(inputs, unnormalized_widths, unnormalized_heights, unnormalized_derivatives, inverse, tails, tail_bound, min_bin_width, min_bin_height, min_derivative)\u001b[0m\n\u001b[1;32m     40\u001b[0m     \u001b[39mraise\u001b[39;00m \u001b[39mRuntimeError\u001b[39;00m(\u001b[39m\"\u001b[39m\u001b[39m{}\u001b[39;00m\u001b[39m tails are not implemented.\u001b[39m\u001b[39m\"\u001b[39m\u001b[39m.\u001b[39mformat(tails))\n\u001b[1;32m     42\u001b[0m \u001b[39mif\u001b[39;00m torch\u001b[39m.\u001b[39many(inside_interval_mask):\n\u001b[1;32m     43\u001b[0m     (\n\u001b[1;32m     44\u001b[0m         outputs[inside_interval_mask],\n\u001b[1;32m     45\u001b[0m         logabsdet[inside_interval_mask],\n\u001b[0;32m---> 46\u001b[0m     ) \u001b[39m=\u001b[39m rational_quadratic_spline(\n\u001b[1;32m     47\u001b[0m         inputs\u001b[39m=\u001b[39;49minputs[inside_interval_mask],\n\u001b[1;32m     48\u001b[0m         unnormalized_widths\u001b[39m=\u001b[39;49munnormalized_widths[inside_interval_mask, :],\n\u001b[1;32m     49\u001b[0m         unnormalized_heights\u001b[39m=\u001b[39;49munnormalized_heights[inside_interval_mask, :],\n\u001b[1;32m     50\u001b[0m         unnormalized_derivatives\u001b[39m=\u001b[39;49munnormalized_derivatives[inside_interval_mask, :],\n\u001b[1;32m     51\u001b[0m         inverse\u001b[39m=\u001b[39;49minverse,\n\u001b[1;32m     52\u001b[0m         left\u001b[39m=\u001b[39;49m\u001b[39m-\u001b[39;49mtail_bound,\n\u001b[1;32m     53\u001b[0m         right\u001b[39m=\u001b[39;49mtail_bound,\n\u001b[1;32m     54\u001b[0m         bottom\u001b[39m=\u001b[39;49m\u001b[39m-\u001b[39;49mtail_bound,\n\u001b[1;32m     55\u001b[0m         top\u001b[39m=\u001b[39;49mtail_bound,\n\u001b[1;32m     56\u001b[0m         min_bin_width\u001b[39m=\u001b[39;49mmin_bin_width,\n\u001b[1;32m     57\u001b[0m         min_bin_height\u001b[39m=\u001b[39;49mmin_bin_height,\n\u001b[1;32m     58\u001b[0m         min_derivative\u001b[39m=\u001b[39;49mmin_derivative,\n\u001b[1;32m     59\u001b[0m     )\n\u001b[1;32m     61\u001b[0m \u001b[39mreturn\u001b[39;00m outputs, logabsdet\n",
      "File \u001b[0;32m~/opt/anaconda3/envs/amaze/lib/python3.9/site-packages/glasflow/nflows/transforms/splines/rational_quadratic.py:89\u001b[0m, in \u001b[0;36mrational_quadratic_spline\u001b[0;34m(inputs, unnormalized_widths, unnormalized_heights, unnormalized_derivatives, inverse, left, right, bottom, top, min_bin_width, min_bin_height, min_derivative)\u001b[0m\n\u001b[1;32m     86\u001b[0m     \u001b[39mraise\u001b[39;00m \u001b[39mValueError\u001b[39;00m(\u001b[39m\"\u001b[39m\u001b[39mMinimal bin height too large for the number of bins\u001b[39m\u001b[39m\"\u001b[39m)\n\u001b[1;32m     88\u001b[0m widths \u001b[39m=\u001b[39m F\u001b[39m.\u001b[39msoftmax(unnormalized_widths, dim\u001b[39m=\u001b[39m\u001b[39m-\u001b[39m\u001b[39m1\u001b[39m)\n\u001b[0;32m---> 89\u001b[0m widths \u001b[39m=\u001b[39m min_bin_width \u001b[39m+\u001b[39m (\u001b[39m1\u001b[39;49m \u001b[39m-\u001b[39;49m min_bin_width \u001b[39m*\u001b[39;49m num_bins) \u001b[39m*\u001b[39;49m widths\n\u001b[1;32m     90\u001b[0m cumwidths \u001b[39m=\u001b[39m torch\u001b[39m.\u001b[39mcumsum(widths, dim\u001b[39m=\u001b[39m\u001b[39m-\u001b[39m\u001b[39m1\u001b[39m)\n\u001b[1;32m     91\u001b[0m cumwidths \u001b[39m=\u001b[39m F\u001b[39m.\u001b[39mpad(cumwidths, pad\u001b[39m=\u001b[39m(\u001b[39m1\u001b[39m, \u001b[39m0\u001b[39m), mode\u001b[39m=\u001b[39m\u001b[39m\"\u001b[39m\u001b[39mconstant\u001b[39m\u001b[39m\"\u001b[39m, value\u001b[39m=\u001b[39m\u001b[39m0.0\u001b[39m)\n",
      "\u001b[0;31mKeyboardInterrupt\u001b[0m: "
     ]
    }
   ],
   "source": [
    "integrate.nquad(f, [[0., 100.], [0., 1.], [-1., 1.], [0., 10.]])"
   ]
  },
  {
   "cell_type": "code",
   "execution_count": 18,
   "metadata": {},
   "outputs": [],
   "source": [
    "from functools import reduce\n",
    "import operator\n",
    "def getFromDict(dataDict, mapList):\n",
    "    return reduce(operator.getitem, mapList, dataDict)"
   ]
  },
  {
   "cell_type": "code",
   "execution_count": 8,
   "metadata": {},
   "outputs": [
    {
     "name": "stdout",
     "output_type": "stream",
     "text": [
      "<populations.KDEModel object at 0x7f9c19335e50>\n",
      "['CE', 'chi00', 'alpha02']\n",
      "1.0\n",
      "0.0\n",
      "[-inf -inf -inf -inf -inf -inf -inf -inf -inf -inf -inf -inf -inf -inf\n",
      " -inf -inf -inf -inf -inf -inf -inf -inf -inf -inf -inf -inf -inf -inf\n",
      " -inf -inf -inf -inf -inf -inf -inf -inf -inf -inf -inf -inf -inf -inf\n",
      " -inf -inf -inf -inf]\n",
      "[2.56517013e-03 9.57339440e-04 2.04189627e-03 5.97370864e-04\n",
      " 1.30881890e-06 9.97676828e-04 2.25321117e-04 2.90513956e-19\n",
      " 8.44569018e-06 3.70976316e-03 6.25580970e-04 1.15266243e-03\n",
      " 1.79879578e-03 1.29644192e-04 1.22479564e-03 4.39814303e-04\n",
      " 7.37576493e-04 1.84211706e-03 2.76904710e-02 8.21421678e-04\n",
      " 1.03007113e-03 3.95796739e-04 4.18311326e-03 1.91931238e-02\n",
      " 7.41726057e-04 2.96271225e-03 2.10807336e-05 1.36417313e-04\n",
      " 1.75394269e-04 1.55427428e-03 3.93878213e-03 1.10706202e-03\n",
      " 1.50945724e-03 3.29745043e-02 7.00538159e-04 6.03854243e-04\n",
      " 1.48881486e-03 9.94733895e-08 3.84059209e-02 1.00000000e-50\n",
      " 6.41952899e-04 3.34538753e-04 2.41461653e-02 1.09707441e-10\n",
      " 2.07496872e-03 2.72256801e-04]\n",
      "[  -5.96573047   -6.95135254   -6.19387636   -7.42297243  -13.54638543\n",
      "   -6.91008115   -8.39798399  -42.68263533  -11.68185428   -5.59678724\n",
      "   -7.37682979   -6.76568086   -6.32063785   -8.95071684   -6.70498127\n",
      "   -7.72915796   -7.21214076   -6.29683979   -3.58666693   -7.10447397\n",
      "   -6.87812742   -7.83460976   -5.47669951   -3.9532032    -7.20653058\n",
      "   -5.82165013  -10.76715103   -8.89979189   -8.64847416   -6.46674655\n",
      "   -5.53688371   -6.80604561   -6.49600514   -3.41202061   -7.26366172\n",
      "   -7.41217771   -6.50977487  -16.12337567   -3.25954364 -115.12925465\n",
      "   -7.35099562   -8.00275783   -3.7236297   -22.93320392   -6.1778092\n",
      "   -8.20876482]\n",
      "[  -5.96573047   -6.95135254   -6.19387636   -7.42297243  -13.54638543\n",
      "   -6.91008115   -8.39798399  -42.68263533  -11.68185428   -5.59678724\n",
      "   -7.37682979   -6.76568086   -6.32063785   -8.95071684   -6.70498127\n",
      "   -7.72915796   -7.21214076   -6.29683979   -3.58666693   -7.10447397\n",
      "   -6.87812742   -7.83460976   -5.47669951   -3.9532032    -7.20653058\n",
      "   -5.82165013  -10.76715103   -8.89979189   -8.64847416   -6.46674655\n",
      "   -5.53688371   -6.80604561   -6.49600514   -3.41202061   -7.26366172\n",
      "   -7.41217771   -6.50977487  -16.12337567   -3.25954364 -115.12925465\n",
      "   -7.35099562   -8.00275783   -3.7236297   -22.93320392   -6.1778092\n",
      "   -8.20876482]\n",
      "<populations.KDEModel object at 0x7f9c19345250>\n",
      "['CE', 'chi00', 'alpha05']\n",
      "1.0\n",
      "0.0\n",
      "[-inf -inf -inf -inf -inf -inf -inf -inf -inf -inf -inf -inf -inf -inf\n",
      " -inf -inf -inf -inf -inf -inf -inf -inf -inf -inf -inf -inf -inf -inf\n",
      " -inf -inf -inf -inf -inf -inf -inf -inf -inf -inf -inf -inf -inf -inf\n",
      " -inf -inf -inf -inf]\n",
      "[6.28482551e-04 1.20024592e-04 5.88184020e-04 5.41652159e-04\n",
      " 4.77690673e-09 7.88342119e-05 2.35131972e-04 2.70877876e-19\n",
      " 6.96910980e-09 2.58528543e-03 5.38763858e-04 2.41056481e-04\n",
      " 7.13088987e-04 2.54766333e-04 2.42869294e-04 2.03184039e-05\n",
      " 8.39524683e-04 1.76617018e-03 1.34175227e-03 5.51930721e-04\n",
      " 1.69070488e-04 2.09749311e-03 4.04457766e-03 1.33091357e-03\n",
      " 7.73869086e-03 3.34440392e-03 2.81061875e-04 3.87644948e-05\n",
      " 4.24534912e-05 8.02172394e-04 1.12446490e-03 4.90352402e-04\n",
      " 8.01501919e-04 4.09260624e-03 1.00030687e-03 7.27229285e-04\n",
      " 9.02459335e-04 1.53377158e-06 3.05472134e-03 1.00000000e-50\n",
      " 2.54067090e-04 5.93313256e-04 1.04829420e-03 8.42844102e-11\n",
      " 7.75063426e-04 5.65293140e-04]\n",
      "[  -7.37220229   -9.0278139    -7.4384707    -7.52088654  -19.15947263\n",
      "   -9.44816349   -8.35536362  -42.75261888  -18.78177834   -5.95791936\n",
      "   -7.52623319   -8.33047929   -7.24590434   -8.27516377   -8.32298714\n",
      "  -10.80398349   -7.08267468   -6.33894182   -6.61377885   -7.50208802\n",
      "   -8.68519484   -6.16701241   -5.51037814   -6.62188968   -4.86152274\n",
      "   -5.7004668    -8.17693572  -10.15800581  -10.06710141   -7.12818702\n",
      "   -6.790448     -7.62038624   -7.12902319   -5.49857329   -6.90744845\n",
      "   -7.22626874   -7.01038693  -13.38778077   -5.79106691 -115.12925465\n",
      "   -8.27791219   -7.42978804   -6.86059101  -23.1968242    -7.16256569\n",
      "   -7.47816613]\n",
      "[  -7.37220229   -9.0278139    -7.4384707    -7.52088654  -19.15947263\n",
      "   -9.44816349   -8.35536362  -42.75261888  -18.78177834   -5.95791936\n",
      "   -7.52623319   -8.33047929   -7.24590434   -8.27516377   -8.32298714\n",
      "  -10.80398349   -7.08267468   -6.33894182   -6.61377885   -7.50208802\n",
      "   -8.68519484   -6.16701241   -5.51037814   -6.62188968   -4.86152274\n",
      "   -5.7004668    -8.17693572  -10.15800581  -10.06710141   -7.12818702\n",
      "   -6.790448     -7.62038624   -7.12902319   -5.49857329   -6.90744845\n",
      "   -7.22626874   -7.01038693  -13.38778077   -5.79106691 -115.12925465\n",
      "   -8.27791219   -7.42978804   -6.86059101  -23.1968242    -7.16256569\n",
      "   -7.47816613]\n",
      "<populations.KDEModel object at 0x7f9c32e539a0>\n",
      "['CE', 'chi00', 'alpha10']\n",
      "1.0\n",
      "0.0\n",
      "[-inf -inf -inf -inf -inf -inf -inf -inf -inf -inf -inf -inf -inf -inf\n",
      " -inf -inf -inf -inf -inf -inf -inf -inf -inf -inf -inf -inf -inf -inf\n",
      " -inf -inf -inf -inf -inf -inf -inf -inf -inf -inf -inf -inf -inf -inf\n",
      " -inf -inf -inf -inf]\n",
      "[2.14813627e-03 4.73687582e-04 1.84855739e-03 1.85436150e-03\n",
      " 1.36450258e-10 5.74775159e-04 4.25050668e-04 1.34986166e-18\n",
      " 2.85295942e-12 3.62993980e-03 2.68925467e-03 1.14910138e-03\n",
      " 1.56277450e-03 4.25087044e-04 6.93284034e-04 1.70516059e-04\n",
      " 8.65553501e-04 2.44401392e-03 6.96621665e-03 1.52625926e-03\n",
      " 8.12640035e-04 2.62874388e-03 3.18152051e-03 1.08333160e-02\n",
      " 4.95452645e-03 4.54575743e-03 1.47563011e-03 9.66632632e-05\n",
      " 3.14751385e-06 2.36522461e-03 2.64794132e-03 2.09411866e-03\n",
      " 2.31071524e-03 1.15869869e-02 2.75562723e-03 1.71642106e-03\n",
      " 1.19238300e-03 1.09744626e-05 1.96649165e-02 1.00000000e-50\n",
      " 3.57763537e-05 1.34594582e-03 5.86906125e-03 1.11288256e-09\n",
      " 1.56551084e-03 1.62262487e-03]\n",
      "[  -6.14315466   -7.65496256   -6.29334974   -6.29021485  -22.71506098\n",
      "   -7.46153162   -7.76330218  -41.14652956  -26.58266427   -5.61853922\n",
      "   -5.9184912    -6.76877505   -6.46129251   -7.7632166    -7.27407078\n",
      "   -8.67668108   -7.05214137   -6.01411354   -4.96668301   -6.48493547\n",
      "   -7.11522231   -5.94124916   -5.75039605   -4.52512908   -5.30745369\n",
      "   -5.39356091   -6.51867019   -9.24427713  -12.66889767   -6.04688229\n",
      "   -5.9339728    -6.1686225    -6.07019818   -4.45787263   -5.89411019\n",
      "   -6.36751394   -6.73180145  -11.41993957   -3.92891912 -115.12925465\n",
      "  -10.23822339   -6.6106583    -5.13806058  -20.61631229   -6.45954309\n",
      "   -6.42371015]\n",
      "[  -6.14315466   -7.65496256   -6.29334974   -6.29021485  -22.71506098\n",
      "   -7.46153162   -7.76330218  -41.14652956  -26.58266427   -5.61853922\n",
      "   -5.9184912    -6.76877505   -6.46129251   -7.7632166    -7.27407078\n",
      "   -8.67668108   -7.05214137   -6.01411354   -4.96668301   -6.48493547\n",
      "   -7.11522231   -5.94124916   -5.75039605   -4.52512908   -5.30745369\n",
      "   -5.39356091   -6.51867019   -9.24427713  -12.66889767   -6.04688229\n",
      "   -5.9339728    -6.1686225    -6.07019818   -4.45787263   -5.89411019\n",
      "   -6.36751394   -6.73180145  -11.41993957   -3.92891912 -115.12925465\n",
      "  -10.23822339   -6.6106583    -5.13806058  -20.61631229   -6.45954309\n",
      "   -6.42371015]\n",
      "<populations.KDEModel object at 0x7f9c32e53b80>\n",
      "['CE', 'chi00', 'alpha20']\n",
      "1.0\n",
      "0.0\n",
      "[-inf -inf -inf -inf -inf -inf -inf -inf -inf -inf -inf -inf -inf -inf\n",
      " -inf -inf -inf -inf -inf -inf -inf -inf -inf -inf -inf -inf -inf -inf\n",
      " -inf -inf -inf -inf -inf -inf -inf -inf -inf -inf -inf -inf -inf -inf\n",
      " -inf -inf -inf -inf]\n",
      "[1.18715479e-03 2.44487677e-04 3.32945048e-03 1.50959940e-03\n",
      " 5.90709199e-14 2.71055112e-04 2.05514121e-04 1.69746073e-20\n",
      " 6.80374630e-26 1.38209901e-03 5.70195158e-04 4.10756118e-04\n",
      " 4.26472504e-04 3.16756643e-04 5.43035616e-04 1.27056752e-04\n",
      " 6.30051853e-04 6.28875486e-04 5.11605208e-03 4.70535892e-04\n",
      " 3.88692214e-04 1.13253353e-03 1.00024124e-03 5.93148431e-03\n",
      " 1.08624181e-03 1.71238605e-03 5.83561909e-04 3.76279357e-05\n",
      " 8.20073810e-08 9.94470905e-04 5.54465443e-03 4.58278612e-04\n",
      " 2.92001495e-03 5.97459431e-03 1.42909924e-03 1.65991554e-03\n",
      " 3.32370624e-03 1.42202773e-06 1.29913304e-02 1.00000000e-50\n",
      " 6.34369811e-06 3.56430687e-04 2.49629686e-03 1.69037927e-08\n",
      " 1.14450475e-03 6.65851938e-04]\n",
      "[  -6.73619577   -8.31634565   -5.70494801   -6.49591096  -30.46003764\n",
      "   -8.21318839   -8.48999581  -45.52256841  -57.94973903   -6.58415192\n",
      "   -7.46953187   -7.79751091   -7.75996266   -8.05737677   -7.51833565\n",
      "   -8.97087671   -7.36970843   -7.37157728   -5.27537221   -7.66163832\n",
      "   -7.85272275   -6.7832981    -6.90751407   -5.12748079   -6.82503142\n",
      "   -6.36986753   -7.44636001  -10.18776381  -16.31645658   -6.91329972\n",
      "   -5.19492098   -7.68803324   -5.83616654   -5.12023908   -6.55071094\n",
      "   -6.40098856   -5.70667478  -13.46342673   -4.34347304 -115.12925465\n",
      "  -11.96804866   -7.93937076   -5.9929469   -17.89572782   -6.77278327\n",
      "   -7.31444323]\n",
      "[  -6.73619577   -8.31634565   -5.70494801   -6.49591096  -30.46003764\n",
      "   -8.21318839   -8.48999581  -45.52256841  -57.94973903   -6.58415192\n",
      "   -7.46953187   -7.79751091   -7.75996266   -8.05737677   -7.51833565\n",
      "   -8.97087671   -7.36970843   -7.37157728   -5.27537221   -7.66163832\n",
      "   -7.85272275   -6.7832981    -6.90751407   -5.12748079   -6.82503142\n",
      "   -6.36986753   -7.44636001  -10.18776381  -16.31645658   -6.91329972\n",
      "   -5.19492098   -7.68803324   -5.83616654   -5.12023908   -6.55071094\n",
      "   -6.40098856   -5.70667478  -13.46342673   -4.34347304 -115.12925465\n",
      "  -11.96804866   -7.93937076   -5.9929469   -17.89572782   -6.77278327\n",
      "   -7.31444323]\n",
      "<populations.KDEModel object at 0x7f9c13f337f0>\n",
      "['CE', 'chi00', 'alpha50']\n",
      "1.0\n",
      "0.0\n",
      "[-inf -inf -inf -inf -inf -inf -inf -inf -inf -inf -inf -inf -inf -inf\n",
      " -inf -inf -inf -inf -inf -inf -inf -inf -inf -inf -inf -inf -inf -inf\n",
      " -inf -inf -inf -inf -inf -inf -inf -inf -inf -inf -inf -inf -inf -inf\n",
      " -inf -inf -inf -inf]\n",
      "[9.91893724e-05 2.25252536e-05 5.31513227e-03 1.57013176e-03\n",
      " 4.27557160e-34 2.45950496e-05 6.08728189e-05 2.20594965e-22\n",
      " 1.00000114e-50 4.30434618e-04 3.07141287e-05 4.08548668e-05\n",
      " 8.13018179e-05 2.97938795e-04 6.40916146e-05 1.23647750e-05\n",
      " 7.58710854e-05 7.14513484e-05 2.86422690e-03 7.45745551e-05\n",
      " 4.94999731e-05 1.69947782e-04 2.90951752e-04 4.25406377e-03\n",
      " 9.50688396e-04 1.63676761e-04 1.03286241e-05 4.13569094e-06\n",
      " 4.31195081e-11 1.02589734e-04 5.42006561e-03 2.75739629e-05\n",
      " 2.97449249e-03 3.27820401e-03 3.17464230e-04 1.18256857e-03\n",
      " 8.36712712e-03 1.48529099e-06 1.07996525e-02 1.00000000e-50\n",
      " 2.77020225e-22 4.21539200e-05 2.98464717e-03 4.01715255e-10\n",
      " 1.17027048e-04 8.93778810e-05]\n",
      "[  -9.21847968  -10.7008735    -5.23719738   -6.45659574  -76.83497536\n",
      "  -10.61296537   -9.70672381  -49.86571395 -115.12925351   -7.75071512\n",
      "  -10.39078779  -10.10548461   -9.41734218   -8.11862248   -9.65519702\n",
      "  -11.30065885   -9.4864749    -9.54649378   -5.85545681   -9.50371119\n",
      "   -9.91353843   -8.68001933   -8.1423531    -5.45988057   -6.95832421\n",
      "   -8.71761705  -11.48059148  -12.39585615  -23.8670456    -9.18477269\n",
      "   -5.21764736  -10.4986386    -5.81768184   -5.72045956   -8.05514541\n",
      "   -6.74006645   -4.78344469  -13.41989985   -4.52824132 -115.12925465\n",
      "  -49.63795171  -10.07418288   -5.81427374  -21.6352776    -9.05310547\n",
      "   -9.32263732]\n",
      "[  -9.21847968  -10.7008735    -5.23719738   -6.45659574  -76.83497536\n",
      "  -10.61296537   -9.70672381  -49.86571395 -115.12925351   -7.75071512\n",
      "  -10.39078779  -10.10548461   -9.41734218   -8.11862248   -9.65519702\n",
      "  -11.30065885   -9.4864749    -9.54649378   -5.85545681   -9.50371119\n",
      "   -9.91353843   -8.68001933   -8.1423531    -5.45988057   -6.95832421\n",
      "   -8.71761705  -11.48059148  -12.39585615  -23.8670456    -9.18477269\n",
      "   -5.21764736  -10.4986386    -5.81768184   -5.72045956   -8.05514541\n",
      "   -6.74006645   -4.78344469  -13.41989985   -4.52824132 -115.12925465\n",
      "  -49.63795171  -10.07418288   -5.81427374  -21.6352776    -9.05310547\n",
      "   -9.32263732]\n",
      "<populations.KDEModel object at 0x7f9c32e53790>\n",
      "['CE', 'chi01', 'alpha02']\n",
      "1.0\n",
      "0.0\n",
      "[-inf -inf -inf -inf -inf -inf -inf -inf -inf -inf -inf -inf -inf -inf\n",
      " -inf -inf -inf -inf -inf -inf -inf -inf -inf -inf -inf -inf -inf -inf\n",
      " -inf -inf -inf -inf -inf -inf -inf -inf -inf -inf -inf -inf -inf -inf\n",
      " -inf -inf -inf -inf]\n",
      "[2.29633749e-03 1.25329945e-03 6.99186595e-04 9.12145172e-03\n",
      " 3.46497120e-09 2.36106694e-03 3.83344650e-04 8.64665824e-20\n",
      " 6.48333915e-05 3.92909915e-03 2.44312426e-04 2.83966918e-04\n",
      " 2.22708846e-03 1.34642898e-03 1.04324553e-03 1.95972427e-04\n",
      " 1.77699845e-02 2.73447013e-03 5.69856383e-04 3.73131811e-04\n",
      " 1.77616570e-04 1.99936452e-03 1.05090247e-03 2.76672579e-05\n",
      " 4.88661301e-04 1.39854325e-03 2.79359579e-09 1.91872199e-04\n",
      " 2.30595398e-04 4.39789154e-04 8.67238572e-06 7.26618376e-04\n",
      " 4.35816379e-03 2.19907578e-02 9.12154530e-04 5.38738936e-03\n",
      " 7.10440120e-04 1.10419543e-13 2.36560480e-03 1.00000000e-50\n",
      " 6.82460328e-04 1.31841220e-04 8.71167936e-03 3.19376021e-11\n",
      " 8.85330683e-04 3.63374548e-04]\n",
      "[  -6.07643982   -6.68197565   -7.26559291   -4.69712631  -19.48056152\n",
      "   -6.04864167   -7.8665761   -43.89452894   -9.64368979   -5.5393451\n",
      "   -8.31706272   -8.16665281   -6.10706017   -6.61029939   -6.86541872\n",
      "   -8.53753659   -4.03024451   -5.9018176    -7.47012619   -7.89357882\n",
      "   -8.63588343   -6.21492589   -6.85810599  -10.49526087   -7.62384094\n",
      "   -6.57232412  -19.69593626   -8.55868104   -8.37484591   -7.72921514\n",
      "  -11.65536664   -7.22710915   -5.43570446   -3.81713301   -6.99970114\n",
      "   -5.22369436   -7.24962589  -29.83448925   -6.04672156 -115.12925465\n",
      "   -7.28980616   -8.93391224   -4.7430907   -24.16723705   -7.02954933\n",
      "   -7.92007644]\n",
      "[  -6.07643982   -6.68197565   -7.26559291   -4.69712631  -19.48056152\n",
      "   -6.04864167   -7.8665761   -43.89452894   -9.64368979   -5.5393451\n",
      "   -8.31706272   -8.16665281   -6.10706017   -6.61029939   -6.86541872\n",
      "   -8.53753659   -4.03024451   -5.9018176    -7.47012619   -7.89357882\n",
      "   -8.63588343   -6.21492589   -6.85810599  -10.49526087   -7.62384094\n",
      "   -6.57232412  -19.69593626   -8.55868104   -8.37484591   -7.72921514\n",
      "  -11.65536664   -7.22710915   -5.43570446   -3.81713301   -6.99970114\n",
      "   -5.22369436   -7.24962589  -29.83448925   -6.04672156 -115.12925465\n",
      "   -7.28980616   -8.93391224   -4.7430907   -24.16723705   -7.02954933\n",
      "   -7.92007644]\n",
      "<populations.KDEModel object at 0x7f9c32e65f40>\n",
      "['CE', 'chi01', 'alpha05']\n",
      "1.0\n",
      "0.0\n",
      "[-inf -inf -inf -inf -inf -inf -inf -inf -inf -inf -inf -inf -inf -inf\n",
      " -inf -inf -inf -inf -inf -inf -inf -inf -inf -inf -inf -inf -inf -inf\n",
      " -inf -inf -inf -inf -inf -inf -inf -inf -inf -inf -inf -inf -inf -inf\n",
      " -inf -inf -inf -inf]\n",
      "[5.29897112e-04 1.54567127e-04 3.01626751e-04 2.32457894e-03\n",
      " 6.95095300e-09 2.03482516e-04 2.77739597e-04 1.32368717e-19\n",
      " 5.54196223e-08 2.52738939e-03 4.64773999e-04 8.92607193e-05\n",
      " 6.34636369e-04 3.92404258e-04 2.06790447e-04 9.07680502e-06\n",
      " 2.01226060e-03 3.36371078e-03 2.20265506e-04 4.68050257e-04\n",
      " 2.52646307e-05 3.65741358e-03 8.08796560e-03 1.58645548e-04\n",
      " 3.79631439e-03 1.79527638e-03 4.62028239e-07 1.00479802e-04\n",
      " 5.73011520e-05 6.39418362e-04 2.46486949e-06 3.48487741e-04\n",
      " 1.27258046e-03 4.39863912e-04 5.48622906e-04 1.64599033e-03\n",
      " 7.31471046e-04 2.50175983e-12 4.23848790e-04 1.00000000e-50\n",
      " 3.90297281e-04 2.37326762e-04 1.13065288e-03 1.86361354e-10\n",
      " 5.30866830e-04 3.16488474e-04]\n",
      "[  -7.5428277    -8.77488208   -8.10632023   -6.06421636  -18.78438706\n",
      "   -8.49993047   -8.18882658  -43.46869561  -16.70833211   -5.98056837\n",
      "   -7.67395929   -9.32394904   -7.36245837   -7.84321798   -8.48380461\n",
      "  -11.6097883    -6.20849651   -5.69471052   -8.42067689   -7.66693488\n",
      "  -10.58610514   -5.61099905   -4.81737805   -8.74883811   -5.57372458\n",
      "   -6.3225963   -14.58763983   -9.20555382   -9.76718983   -7.3549516\n",
      "  -12.9133717    -7.9619075    -6.66670858   -7.72904517   -7.50809923\n",
      "   -6.40941305   -7.22045292  -26.7140267    -7.76613379 -115.12925465\n",
      "   -7.84860185   -8.34607263   -6.78496005  -22.40333356   -7.54099936\n",
      "   -8.05822373]\n",
      "[  -7.5428277    -8.77488208   -8.10632023   -6.06421636  -18.78438706\n",
      "   -8.49993047   -8.18882658  -43.46869561  -16.70833211   -5.98056837\n",
      "   -7.67395929   -9.32394904   -7.36245837   -7.84321798   -8.48380461\n",
      "  -11.6097883    -6.20849651   -5.69471052   -8.42067689   -7.66693488\n",
      "  -10.58610514   -5.61099905   -4.81737805   -8.74883811   -5.57372458\n",
      "   -6.3225963   -14.58763983   -9.20555382   -9.76718983   -7.3549516\n",
      "  -12.9133717    -7.9619075    -6.66670858   -7.72904517   -7.50809923\n",
      "   -6.40941305   -7.22045292  -26.7140267    -7.76613379 -115.12925465\n",
      "   -7.84860185   -8.34607263   -6.78496005  -22.40333356   -7.54099936\n",
      "   -8.05822373]\n",
      "<populations.KDEModel object at 0x7f9c32e65070>\n",
      "['CE', 'chi01', 'alpha10']\n",
      "1.0\n",
      "0.0\n",
      "[-inf -inf -inf -inf -inf -inf -inf -inf -inf -inf -inf -inf -inf -inf\n",
      " -inf -inf -inf -inf -inf -inf -inf -inf -inf -inf -inf -inf -inf -inf\n",
      " -inf -inf -inf -inf -inf -inf -inf -inf -inf -inf -inf -inf -inf -inf\n",
      " -inf -inf -inf -inf]\n",
      "[1.77448316e-03 7.14093516e-04 6.47017818e-04 7.44071904e-03\n",
      " 2.84636525e-10 1.26648593e-03 6.42979138e-04 1.77697333e-19\n",
      " 1.47260876e-09 1.88266525e-03 1.73670582e-03 4.30314992e-04\n",
      " 2.36235575e-03 1.08688969e-03 4.29836699e-04 5.61481233e-05\n",
      " 2.90650508e-03 5.96077364e-03 1.32808959e-03 1.51635360e-03\n",
      " 9.96065766e-05 6.96815819e-03 7.90274842e-03 4.48756460e-04\n",
      " 5.97642697e-03 2.87090007e-03 4.41929179e-07 3.97864990e-04\n",
      " 7.07598122e-05 1.73690171e-03 4.41797528e-06 1.18477031e-03\n",
      " 4.16155391e-03 1.33846808e-03 1.30785371e-03 5.52107556e-03\n",
      " 4.39450086e-04 2.23577521e-11 2.91919046e-03 1.00000000e-50\n",
      " 6.48942424e-05 5.97085663e-04 3.78894166e-03 2.18919007e-09\n",
      " 9.12019170e-04 8.08377977e-04]\n",
      "[  -6.33424607   -7.24449663   -7.34313672   -4.90078779  -21.9798081\n",
      "   -6.6715092    -7.34939828  -43.17420523  -20.33623034   -6.27506682\n",
      "   -6.35576517   -7.75099308   -6.04809596   -6.82443516   -7.75210519\n",
      "   -9.7875173    -5.84080392   -5.122555     -6.62401377   -6.49144677\n",
      "   -9.21428237   -4.96640434   -4.84054468   -7.70903022   -5.11993239\n",
      "   -5.85312969  -14.6321162    -7.82939783   -9.55621934   -6.35565238\n",
      "  -12.32982905   -6.73820636   -5.48186674   -6.61622954   -6.63936787\n",
      "   -5.19918259   -7.72998642  -24.52384801   -5.83644894 -115.12925465\n",
      "   -9.64275165   -7.42344997   -5.57566854  -19.93973419   -6.99984955\n",
      "   -7.12048082]\n",
      "[  -6.33424607   -7.24449663   -7.34313672   -4.90078779  -21.9798081\n",
      "   -6.6715092    -7.34939828  -43.17420523  -20.33623034   -6.27506682\n",
      "   -6.35576517   -7.75099308   -6.04809596   -6.82443516   -7.75210519\n",
      "   -9.7875173    -5.84080392   -5.122555     -6.62401377   -6.49144677\n",
      "   -9.21428237   -4.96640434   -4.84054468   -7.70903022   -5.11993239\n",
      "   -5.85312969  -14.6321162    -7.82939783   -9.55621934   -6.35565238\n",
      "  -12.32982905   -6.73820636   -5.48186674   -6.61622954   -6.63936787\n",
      "   -5.19918259   -7.72998642  -24.52384801   -5.83644894 -115.12925465\n",
      "   -9.64275165   -7.42344997   -5.57566854  -19.93973419   -6.99984955\n",
      "   -7.12048082]\n",
      "<populations.KDEModel object at 0x7f9c19337d30>\n",
      "['CE', 'chi01', 'alpha20']\n",
      "1.0\n",
      "0.0\n",
      "[-inf -inf -inf -inf -inf -inf -inf -inf -inf -inf -inf -inf -inf -inf\n",
      " -inf -inf -inf -inf -inf -inf -inf -inf -inf -inf -inf -inf -inf -inf\n",
      " -inf -inf -inf -inf -inf -inf -inf -inf -inf -inf -inf -inf -inf -inf\n",
      " -inf -inf -inf -inf]\n",
      "[5.82456215e-04 3.44491455e-04 1.10256007e-03 1.19311352e-02\n",
      " 1.67766395e-12 5.73688509e-04 4.89849925e-04 2.77626990e-20\n",
      " 7.04443499e-26 6.68046887e-04 5.48485051e-04 1.23550175e-04\n",
      " 6.53496178e-04 1.62516640e-03 2.17490749e-04 3.74084630e-05\n",
      " 1.25651990e-03 1.29475702e-03 1.91138021e-03 6.50747623e-04\n",
      " 5.56657861e-05 2.54340804e-03 2.29705711e-03 6.82798893e-04\n",
      " 2.08328279e-03 6.66193421e-04 7.26701095e-08 1.09866253e-04\n",
      " 4.92611723e-05 7.06544708e-04 5.53046340e-06 4.04197702e-04\n",
      " 7.02922537e-03 5.65947261e-04 7.95403851e-04 7.42678734e-03\n",
      " 1.30254807e-03 1.47740301e-11 2.34216926e-03 1.00000000e-50\n",
      " 8.96382049e-06 5.13115334e-05 1.91228965e-03 7.90533997e-09\n",
      " 5.73835232e-04 3.58112045e-04]\n",
      "[  -7.44825654   -7.97344127   -6.81012047   -4.42860389  -27.1136188\n",
      "   -7.46342398   -7.62141149  -45.0305936   -57.91497448   -7.3111522\n",
      "   -7.50835053   -8.99886321   -7.33317387   -6.42214507   -8.43335424\n",
      "  -10.1936136    -6.67940936   -6.64943223   -6.25992967   -7.33738867\n",
      "   -9.79614485   -5.97425035   -6.07612649   -7.28931019   -6.17381037\n",
      "   -7.31393051  -16.43733569   -9.11624682   -9.91837437   -7.25512408\n",
      "  -12.10523895   -7.81360644   -4.95767877   -7.47700966   -7.13666058\n",
      "   -4.9026619    -6.64343288  -24.9381502    -6.05667775 -115.12925465\n",
      "  -11.62231403   -9.87759501   -6.25945399  -18.65572736   -7.46316826\n",
      "   -7.93466465]\n",
      "[  -7.44825654   -7.97344127   -6.81012047   -4.42860389  -27.1136188\n",
      "   -7.46342398   -7.62141149  -45.0305936   -57.91497448   -7.3111522\n",
      "   -7.50835053   -8.99886321   -7.33317387   -6.42214507   -8.43335424\n",
      "  -10.1936136    -6.67940936   -6.64943223   -6.25992967   -7.33738867\n",
      "   -9.79614485   -5.97425035   -6.07612649   -7.28931019   -6.17381037\n",
      "   -7.31393051  -16.43733569   -9.11624682   -9.91837437   -7.25512408\n",
      "  -12.10523895   -7.81360644   -4.95767877   -7.47700966   -7.13666058\n",
      "   -4.9026619    -6.64343288  -24.9381502    -6.05667775 -115.12925465\n",
      "  -11.62231403   -9.87759501   -6.25945399  -18.65572736   -7.46316826\n",
      "   -7.93466465]\n",
      "<populations.KDEModel object at 0x7f9c32e65d00>\n",
      "['CE', 'chi01', 'alpha50']\n",
      "1.0\n",
      "0.0\n",
      "[-inf -inf -inf -inf -inf -inf -inf -inf -inf -inf -inf -inf -inf -inf\n",
      " -inf -inf -inf -inf -inf -inf -inf -inf -inf -inf -inf -inf -inf -inf\n",
      " -inf -inf -inf -inf -inf -inf -inf -inf -inf -inf -inf -inf -inf -inf\n",
      " -inf -inf -inf -inf]\n",
      "[9.05746329e-05 1.59876428e-05 1.12283037e-03 1.52440364e-02\n",
      " 1.37526220e-14 1.99009725e-05 5.43675173e-05 6.69751048e-20\n",
      " 2.79595491e-42 1.44431053e-04 2.18579442e-04 2.59338662e-05\n",
      " 4.24350364e-05 2.00826291e-03 1.89284462e-05 5.46272767e-06\n",
      " 4.41341326e-04 2.08311517e-04 1.34055261e-03 7.68873707e-05\n",
      " 3.12729097e-06 4.93205911e-04 6.63316657e-04 2.92688831e-04\n",
      " 5.54609752e-04 6.56208645e-05 1.04402656e-08 4.34935343e-06\n",
      " 2.19233767e-06 7.74431473e-05 8.15256438e-06 3.28438734e-05\n",
      " 7.83592804e-03 3.36834498e-04 1.18172578e-04 1.06033881e-02\n",
      " 3.73372139e-03 1.11635697e-12 1.07813642e-03 1.00000000e-50\n",
      " 1.46501306e-18 8.79326886e-06 1.36322209e-03 2.18603194e-09\n",
      " 3.00139539e-05 4.82765949e-05]\n",
      "[  -9.30933637  -11.04369446   -6.79190267   -4.18356691  -31.9175469\n",
      "  -10.82474196   -9.81974369  -44.14996597  -95.68040021   -8.84270831\n",
      "   -8.42836103  -10.55996087  -10.06753621   -6.21048515  -10.87484468\n",
      "  -12.11756232   -7.725692     -8.47647592   -6.61467336   -9.47316893\n",
      "  -12.67534343   -7.6145838    -7.31825807   -8.13640052   -7.49724584\n",
      "   -9.63161686  -18.37759581  -12.34548336  -13.03054216   -9.46596647\n",
      "  -11.71717803  -10.32374533   -4.84903596   -7.99591885   -9.04336448\n",
      "   -4.5465817    -5.59034985  -27.52095044   -6.83252127 -115.12925465\n",
      "  -41.06466752  -11.64152403   -6.5979042   -19.94117784  -10.41384815\n",
      "   -9.93856369]\n",
      "[  -9.30933637  -11.04369446   -6.79190267   -4.18356691  -31.9175469\n",
      "  -10.82474196   -9.81974369  -44.14996597  -95.68040021   -8.84270831\n",
      "   -8.42836103  -10.55996087  -10.06753621   -6.21048515  -10.87484468\n",
      "  -12.11756232   -7.725692     -8.47647592   -6.61467336   -9.47316893\n",
      "  -12.67534343   -7.6145838    -7.31825807   -8.13640052   -7.49724584\n",
      "   -9.63161686  -18.37759581  -12.34548336  -13.03054216   -9.46596647\n",
      "  -11.71717803  -10.32374533   -4.84903596   -7.99591885   -9.04336448\n",
      "   -4.5465817    -5.59034985  -27.52095044   -6.83252127 -115.12925465\n",
      "  -41.06466752  -11.64152403   -6.5979042   -19.94117784  -10.41384815\n",
      "   -9.93856369]\n",
      "<populations.KDEModel object at 0x7f9c32e60520>\n",
      "['CE', 'chi02', 'alpha02']\n",
      "1.0\n",
      "0.0\n",
      "[-inf -inf -inf -inf -inf -inf -inf -inf -inf -inf -inf -inf -inf -inf\n",
      " -inf -inf -inf -inf -inf -inf -inf -inf -inf -inf -inf -inf -inf -inf\n",
      " -inf -inf -inf -inf -inf -inf -inf -inf -inf -inf -inf -inf -inf -inf\n",
      " -inf -inf -inf -inf]\n",
      "[9.67040601e-04 3.91436028e-04 1.01770821e-04 1.69983271e-03\n",
      " 1.79684600e-08 3.06550847e-06 8.72491229e-04 3.70510021e-21\n",
      " 1.30992903e-05 6.98207838e-02 5.63270171e-08 1.97751023e-06\n",
      " 1.14131119e-03 1.77453209e-03 1.99476118e-03 1.94891691e-07\n",
      " 4.31738726e-04 1.14146220e-03 4.79226880e-08 1.25424736e-05\n",
      " 9.10376611e-07 1.76091801e-03 2.32059026e-03 1.07093686e-07\n",
      " 1.03929697e-03 1.00194607e-03 2.24901963e-15 6.23228594e-05\n",
      " 6.30088878e-04 7.68467030e-05 3.92133213e-06 6.03965245e-04\n",
      " 1.45464799e-03 1.12854746e-08 2.01599531e-03 2.28774191e-03\n",
      " 2.35495413e-04 1.25311149e-15 9.50628404e-08 1.00000000e-50\n",
      " 9.75304617e-04 4.40294763e-05 9.87911204e-04 6.03926449e-08\n",
      " 5.89750517e-04 4.67721341e-04]\n",
      "[  -6.94127008   -7.84568846   -9.19278713   -6.37722544  -17.83464784\n",
      "  -12.69529711   -7.04415796  -47.04457665  -11.24295251   -2.66182355\n",
      "  -16.69209154  -13.13367196   -6.77557751   -6.3342185    -6.21723095\n",
      "  -15.45082186   -7.74768995   -6.77544521  -16.85367679  -11.28638979\n",
      "  -13.90940746   -6.34192001   -6.0659337   -16.04956181   -6.86921078\n",
      "   -6.9058111   -33.72828199   -9.68318227   -7.36964967   -9.47369799\n",
      "  -12.44907913   -7.4119939    -6.53299134  -18.29974937   -6.20664225\n",
      "   -6.08019001   -8.35381912  -34.31314675  -16.16872769 -115.12925465\n",
      "   -6.93276071  -10.03065123   -6.91991774  -16.62239851   -7.43581096\n",
      "   -7.66763787]\n",
      "[  -6.94127008   -7.84568846   -9.19278713   -6.37722544  -17.83464784\n",
      "  -12.69529711   -7.04415796  -47.04457665  -11.24295251   -2.66182355\n",
      "  -16.69209154  -13.13367196   -6.77557751   -6.3342185    -6.21723095\n",
      "  -15.45082186   -7.74768995   -6.77544521  -16.85367679  -11.28638979\n",
      "  -13.90940746   -6.34192001   -6.0659337   -16.04956181   -6.86921078\n",
      "   -6.9058111   -33.72828199   -9.68318227   -7.36964967   -9.47369799\n",
      "  -12.44907913   -7.4119939    -6.53299134  -18.29974937   -6.20664225\n",
      "   -6.08019001   -8.35381912  -34.31314675  -16.16872769 -115.12925465\n",
      "   -6.93276071  -10.03065123   -6.91991774  -16.62239851   -7.43581096\n",
      "   -7.66763787]\n",
      "<populations.KDEModel object at 0x7f9c32e68f10>\n",
      "['CE', 'chi02', 'alpha05']\n",
      "1.0\n",
      "0.0\n",
      "[-inf -inf -inf -inf -inf -inf -inf -inf -inf -inf -inf -inf -inf -inf\n",
      " -inf -inf -inf -inf -inf -inf -inf -inf -inf -inf -inf -inf -inf -inf\n",
      " -inf -inf -inf -inf -inf -inf -inf -inf -inf -inf -inf -inf -inf -inf\n",
      " -inf -inf -inf -inf]\n",
      "[1.84032135e-04 7.44655709e-05 6.70351250e-05 1.00616385e-03\n",
      " 1.76636570e-08 1.57342739e-06 2.07626086e-04 1.10131952e-19\n",
      " 1.18395997e-07 7.19758874e-03 3.76275807e-06 2.05787067e-05\n",
      " 1.56425013e-03 9.43427225e-04 2.55423673e-04 2.42044958e-08\n",
      " 1.67170112e-04 3.02821170e-03 6.21651710e-06 3.96535301e-06\n",
      " 1.01938738e-07 4.66545051e-03 6.81064266e-03 1.36826605e-07\n",
      " 5.87575754e-03 1.25552633e-03 1.80529912e-15 1.84056311e-05\n",
      " 1.36443569e-04 9.39497126e-04 8.65015915e-09 2.65273488e-04\n",
      " 7.35718348e-04 4.69226239e-06 2.79234166e-05 1.86993593e-03\n",
      " 1.26474264e-04 1.92037633e-14 6.96309414e-07 1.00000000e-50\n",
      " 4.42014191e-04 2.72848225e-04 1.84826310e-04 9.27924547e-10\n",
      " 1.50356726e-04 2.61273461e-04]\n",
      "[  -8.60040017   -9.50517367   -9.61029382   -6.90161035  -17.85175658\n",
      "  -13.36225427   -8.47977176  -43.65260774  -15.94923092   -4.93400921\n",
      "  -12.49035834  -10.79125367   -6.46034872   -6.96599133   -8.27258693\n",
      "  -17.53672745   -8.69649863   -5.79978303  -11.98830076  -12.43791567\n",
      "  -16.09889381   -5.36757088   -4.98926879  -15.80455137   -5.13692028\n",
      "   -6.68020041  -33.9480501   -10.9028539    -8.89959944   -6.9701658\n",
      "  -18.56568812   -8.23474923   -7.21466319  -12.26959571  -10.48604492\n",
      "   -6.28185111   -8.97547172  -31.58367013  -14.17747172 -115.12925465\n",
      "   -7.72416857   -8.20659487   -8.59609404  -20.79807069   -8.80249991\n",
      "   -8.24994295]\n",
      "[  -8.60040017   -9.50517367   -9.61029382   -6.90161035  -17.85175658\n",
      "  -13.36225427   -8.47977176  -43.65260774  -15.94923092   -4.93400921\n",
      "  -12.49035834  -10.79125367   -6.46034872   -6.96599133   -8.27258693\n",
      "  -17.53672745   -8.69649863   -5.79978303  -11.98830076  -12.43791567\n",
      "  -16.09889381   -5.36757088   -4.98926879  -15.80455137   -5.13692028\n",
      "   -6.68020041  -33.9480501   -10.9028539    -8.89959944   -6.9701658\n",
      "  -18.56568812   -8.23474923   -7.21466319  -12.26959571  -10.48604492\n",
      "   -6.28185111   -8.97547172  -31.58367013  -14.17747172 -115.12925465\n",
      "   -7.72416857   -8.20659487   -8.59609404  -20.79807069   -8.80249991\n",
      "   -8.24994295]\n",
      "<populations.KDEModel object at 0x7f9c193353a0>\n",
      "['CE', 'chi02', 'alpha10']\n",
      "1.0\n",
      "0.0\n",
      "[-inf -inf -inf -inf -inf -inf -inf -inf -inf -inf -inf -inf -inf -inf\n",
      " -inf -inf -inf -inf -inf -inf -inf -inf -inf -inf -inf -inf -inf -inf\n",
      " -inf -inf -inf -inf -inf -inf -inf -inf -inf -inf -inf -inf -inf -inf\n",
      " -inf -inf -inf -inf]\n",
      "[5.47339280e-04 5.03427671e-04 1.00365382e-04 2.17622322e-03\n",
      " 1.02692461e-08 1.11810982e-05 5.65388778e-04 2.24526227e-19\n",
      " 2.45360598e-09 4.96942395e-03 8.42039056e-07 6.17148017e-05\n",
      " 2.47813503e-03 2.11670837e-03 1.55649673e-03 3.72820819e-08\n",
      " 2.33381644e-05 5.03663663e-03 9.85548255e-05 8.64600106e-06\n",
      " 2.21042546e-07 7.13430428e-03 6.74864683e-03 1.03622161e-06\n",
      " 5.18627706e-03 2.67391101e-03 1.11295708e-14 3.11247106e-06\n",
      " 3.80661354e-04 1.10296301e-03 3.45710835e-08 1.26284514e-03\n",
      " 1.69465787e-03 9.65158199e-05 5.80504036e-05 3.91143150e-03\n",
      " 7.87335811e-05 2.44373603e-15 4.57650802e-06 1.00000000e-50\n",
      " 6.67872398e-05 6.48712959e-04 4.69325706e-04 6.97792428e-10\n",
      " 4.96262636e-04 5.26023538e-04]\n",
      "[  -7.51044169   -7.59407051   -9.20669321   -6.13016437  -18.39411223\n",
      "  -11.40128586   -7.47799696  -42.94029443  -19.82570707   -5.30445135\n",
      "  -13.98743944   -9.69298676   -6.000249     -6.15789305   -6.46531767\n",
      "  -17.104753    -10.66542058   -5.29101676   -9.22489756  -11.65841365\n",
      "  -15.32491064   -4.94284054   -4.99841326  -13.77992953   -5.26173917\n",
      "   -5.92421308  -32.12917079  -12.68009359   -7.87360041   -6.80975508\n",
      "  -17.18024824   -6.67438806   -6.3802744    -9.24580363   -9.7541989\n",
      "   -5.54385186   -9.4494408   -33.64524837  -12.29457429 -115.12925465\n",
      "   -9.61399852   -7.34052022   -7.66421356  -21.08309944   -7.60840526\n",
      "   -7.5501646 ]\n",
      "[  -7.51044169   -7.59407051   -9.20669321   -6.13016437  -18.39411223\n",
      "  -11.40128586   -7.47799696  -42.94029443  -19.82570707   -5.30445135\n",
      "  -13.98743944   -9.69298676   -6.000249     -6.15789305   -6.46531767\n",
      "  -17.104753    -10.66542058   -5.29101676   -9.22489756  -11.65841365\n",
      "  -15.32491064   -4.94284054   -4.99841326  -13.77992953   -5.26173917\n",
      "   -5.92421308  -32.12917079  -12.68009359   -7.87360041   -6.80975508\n",
      "  -17.18024824   -6.67438806   -6.3802744    -9.24580363   -9.7541989\n",
      "   -5.54385186   -9.4494408   -33.64524837  -12.29457429 -115.12925465\n",
      "   -9.61399852   -7.34052022   -7.66421356  -21.08309944   -7.60840526\n",
      "   -7.5501646 ]\n",
      "<populations.KDEModel object at 0x7f9c32e73310>\n",
      "['CE', 'chi02', 'alpha20']\n",
      "1.0\n",
      "0.0\n",
      "[-inf -inf -inf -inf -inf -inf -inf -inf -inf -inf -inf -inf -inf -inf\n",
      " -inf -inf -inf -inf -inf -inf -inf -inf -inf -inf -inf -inf -inf -inf\n",
      " -inf -inf -inf -inf -inf -inf -inf -inf -inf -inf -inf -inf -inf -inf\n",
      " -inf -inf -inf -inf]\n",
      "[2.20006446e-04 1.77655395e-04 2.15665327e-04 2.97729616e-03\n",
      " 3.70344749e-09 3.40644597e-06 5.12491758e-04 1.59042972e-18\n",
      " 2.93887450e-21 1.93883311e-03 1.48080259e-07 1.69294624e-05\n",
      " 6.63482580e-04 3.13195072e-03 9.21779793e-04 2.58155369e-07\n",
      " 1.10723351e-05 1.40882192e-03 1.78655353e-04 8.10849465e-06\n",
      " 2.31928178e-07 1.97756642e-03 1.77575374e-03 6.57984774e-07\n",
      " 1.64195445e-03 6.01872087e-04 1.48036776e-15 1.15176183e-06\n",
      " 1.24185681e-04 3.90345065e-04 3.53157099e-09 5.27531193e-04\n",
      " 2.17717884e-03 1.93689355e-04 4.40407718e-05 4.96892360e-03\n",
      " 2.54950825e-04 3.30204926e-17 8.53163556e-06 1.00000000e-50\n",
      " 1.09270722e-05 2.11170151e-04 2.80306639e-04 1.35512891e-10\n",
      " 3.29828964e-04 5.70116308e-04]\n",
      "[  -8.42185371   -8.63566487   -8.44178276   -5.81673972  -19.4140017\n",
      "  -12.58984105   -7.57622593  -40.98252743  -47.27626027   -6.24566898\n",
      "  -15.72551142  -10.98645512   -7.31800796   -5.76609924   -6.9892042\n",
      "  -15.16970423  -11.41106089   -6.56500144   -8.63005201  -11.72259832\n",
      "  -15.27683809   -6.22588827   -6.3335303   -14.23408405   -6.41186801\n",
      "   -7.41546562  -34.14648585  -13.67421776   -8.99373268   -7.84847943\n",
      "  -19.46152303   -7.54730256   -6.12972535   -8.54925494  -10.03039472\n",
      "   -5.30455204   -8.27443988  -37.94940332  -11.67172947 -115.12925465\n",
      "  -11.42426716   -8.46284634   -8.17962641  -22.72195434   -8.01693633\n",
      "   -7.46967017]\n",
      "[  -8.42185371   -8.63566487   -8.44178276   -5.81673972  -19.4140017\n",
      "  -12.58984105   -7.57622593  -40.98252743  -47.27626027   -6.24566898\n",
      "  -15.72551142  -10.98645512   -7.31800796   -5.76609924   -6.9892042\n",
      "  -15.16970423  -11.41106089   -6.56500144   -8.63005201  -11.72259832\n",
      "  -15.27683809   -6.22588827   -6.3335303   -14.23408405   -6.41186801\n",
      "   -7.41546562  -34.14648585  -13.67421776   -8.99373268   -7.84847943\n",
      "  -19.46152303   -7.54730256   -6.12972535   -8.54925494  -10.03039472\n",
      "   -5.30455204   -8.27443988  -37.94940332  -11.67172947 -115.12925465\n",
      "  -11.42426716   -8.46284634   -8.17962641  -22.72195434   -8.01693633\n",
      "   -7.46967017]\n",
      "<populations.KDEModel object at 0x7f9c32e73a60>\n",
      "['CE', 'chi02', 'alpha50']\n",
      "1.0\n",
      "0.0\n",
      "[-inf -inf -inf -inf -inf -inf -inf -inf -inf -inf -inf -inf -inf -inf\n",
      " -inf -inf -inf -inf -inf -inf -inf -inf -inf -inf -inf -inf -inf -inf\n",
      " -inf -inf -inf -inf -inf -inf -inf -inf -inf -inf -inf -inf -inf -inf\n",
      " -inf -inf -inf -inf]\n",
      "[1.84253322e-05 1.67420483e-05 1.40470813e-04 1.76696854e-03\n",
      " 2.18399272e-10 2.06988506e-06 3.06538205e-05 2.28675708e-19\n",
      " 4.36643511e-27 2.01880372e-04 3.34993626e-12 6.15423904e-07\n",
      " 3.21487677e-05 1.97330810e-03 2.85372771e-05 3.98712312e-11\n",
      " 4.83798946e-05 2.25318295e-04 5.68400673e-06 7.41479523e-07\n",
      " 2.97677627e-09 2.02037944e-04 1.41327962e-04 6.63866751e-07\n",
      " 2.96137077e-04 1.70078249e-04 1.86435951e-15 3.21242828e-08\n",
      " 9.79450604e-06 6.12815042e-05 1.98369510e-09 2.00281162e-05\n",
      " 1.98737675e-03 1.59236027e-04 4.05178339e-06 4.43721320e-03\n",
      " 4.71099426e-04 1.51187324e-20 1.56125131e-06 1.00000000e-50\n",
      " 2.23713009e-12 7.29304425e-06 9.34359302e-04 9.79773227e-11\n",
      " 2.02495950e-05 6.51072654e-05]\n",
      "[ -10.90178409  -10.99758714   -8.87051083   -6.33848989  -22.2446962\n",
      "  -13.08801748  -10.39275325  -42.92198207  -60.6958506    -8.50783525\n",
      "  -26.4220798   -14.30095453  -10.34513644   -6.22804391  -10.46429936\n",
      "  -23.94536607   -9.93642623   -8.39799651  -12.07785416  -14.11461829\n",
      "  -19.63242491   -8.50705504   -8.8644274   -14.22518438   -8.12468811\n",
      "   -8.67925194  -33.91585883  -17.25365362  -11.53368894   -9.70003249\n",
      "  -20.03830452  -10.81837346   -6.22093973   -8.74512301  -12.41635343\n",
      "   -5.41772876   -7.66044139  -45.63835242  -13.37002294 -115.12925465\n",
      "  -26.82582728  -11.82858951   -6.9756495   -23.04628506  -10.80737576\n",
      "   -9.63947441]\n",
      "[ -10.90178409  -10.99758714   -8.87051083   -6.33848989  -22.2446962\n",
      "  -13.08801748  -10.39275325  -42.92198207  -60.6958506    -8.50783525\n",
      "  -26.4220798   -14.30095453  -10.34513644   -6.22804391  -10.46429936\n",
      "  -23.94536607   -9.93642623   -8.39799651  -12.07785416  -14.11461829\n",
      "  -19.63242491   -8.50705504   -8.8644274   -14.22518438   -8.12468811\n",
      "   -8.67925194  -33.91585883  -17.25365362  -11.53368894   -9.70003249\n",
      "  -20.03830452  -10.81837346   -6.22093973   -8.74512301  -12.41635343\n",
      "   -5.41772876   -7.66044139  -45.63835242  -13.37002294 -115.12925465\n",
      "  -26.82582728  -11.82858951   -6.9756495   -23.04628506  -10.80737576\n",
      "   -9.63947441]\n",
      "<populations.KDEModel object at 0x7f9c32e82850>\n",
      "['CE', 'chi05', 'alpha02']\n",
      "1.0\n",
      "0.0\n",
      "[-inf -inf -inf -inf -inf -inf -inf -inf -inf -inf -inf -inf -inf -inf\n",
      " -inf -inf -inf -inf -inf -inf -inf -inf -inf -inf -inf -inf -inf -inf\n",
      " -inf -inf -inf -inf -inf -inf -inf -inf -inf -inf -inf -inf -inf -inf\n",
      " -inf -inf -inf -inf]\n",
      "[2.82821871e-06 1.03844387e-50 8.67195141e-07 2.59101672e-07\n",
      " 9.98651627e-08 1.00000000e-50 6.07714552e-25 1.70316171e-40\n",
      " 8.14752442e-14 2.41951877e-04 2.71873537e-34 3.58527286e-50\n",
      " 4.46069389e-06 1.02329126e-06 1.14283971e-21 1.00000000e-50\n",
      " 2.19148398e-05 3.26752865e-06 3.94331488e-16 1.00063067e-50\n",
      " 1.00000000e-50 1.83017602e-12 6.35337182e-08 2.31504899e-20\n",
      " 1.79421957e-08 4.81729412e-32 1.00000001e-50 4.64799882e-06\n",
      " 1.67924844e-04 7.81515236e-05 3.28860754e-08 2.03160637e-39\n",
      " 7.03128900e-06 5.51095889e-36 6.44383980e-32 5.88132034e-07\n",
      " 5.04846100e-06 2.59481210e-42 3.38183066e-17 1.00000000e-50\n",
      " 1.80042860e-03 3.46088063e-07 4.73051128e-09 5.38790083e-16\n",
      " 2.22462174e-27 1.00544087e-26]\n",
      "[ -12.77586348 -115.09153133  -13.95800181  -15.1660453   -16.11944493\n",
      " -115.12925465  -55.76009223  -91.57091737  -30.13847717   -8.32677171\n",
      "  -77.28772633 -113.85242007  -12.32020622  -13.7924864   -48.22077082\n",
      " -115.12925465  -10.72834653  -12.63147662  -35.46933978 -115.12862418\n",
      " -115.12925465  -27.02660897  -16.57169508  -45.21227101  -17.8361106\n",
      "  -72.11051059 -115.12925464  -12.27907379   -8.69199403   -9.45686101\n",
      "  -17.23021651  -89.09199183  -11.86514051  -81.18632471  -71.81959837\n",
      "  -14.34631437  -12.19642711  -95.7550598   -37.9255294  -115.12925465\n",
      "   -6.31973053  -14.87657258  -19.16923255  -35.15720564  -61.37021062\n",
      "  -59.8617863 ]\n",
      "[ -12.77586348 -115.09153133  -13.95800181  -15.1660453   -16.11944493\n",
      " -115.12925465  -55.76009223  -91.57091737  -30.13847717   -8.32677171\n",
      "  -77.28772633 -113.85242007  -12.32020622  -13.7924864   -48.22077082\n",
      " -115.12925465  -10.72834653  -12.63147662  -35.46933978 -115.12862418\n",
      " -115.12925465  -27.02660897  -16.57169508  -45.21227101  -17.8361106\n",
      "  -72.11051059 -115.12925464  -12.27907379   -8.69199403   -9.45686101\n",
      "  -17.23021651  -89.09199183  -11.86514051  -81.18632471  -71.81959837\n",
      "  -14.34631437  -12.19642711  -95.7550598   -37.9255294  -115.12925465\n",
      "   -6.31973053  -14.87657258  -19.16923255  -35.15720564  -61.37021062\n",
      "  -59.8617863 ]\n",
      "<populations.KDEModel object at 0x7f9c32e82790>\n",
      "['CE', 'chi05', 'alpha05']\n",
      "1.0\n",
      "0.0\n",
      "[-inf -inf -inf -inf -inf -inf -inf -inf -inf -inf -inf -inf -inf -inf\n",
      " -inf -inf -inf -inf -inf -inf -inf -inf -inf -inf -inf -inf -inf -inf\n",
      " -inf -inf -inf -inf -inf -inf -inf -inf -inf -inf -inf -inf -inf -inf\n",
      " -inf -inf -inf -inf]\n",
      "[5.41456711e-05 1.07967801e-50 6.31653749e-08 1.43396210e-07\n",
      " 4.86180386e-08 1.00000000e-50 6.80977440e-25 1.92301984e-39\n",
      " 4.65013034e-12 5.95228059e-04 3.06086096e-32 9.63777725e-50\n",
      " 1.81420307e-06 1.60310259e-07 1.54903153e-22 1.00000000e-50\n",
      " 5.47112274e-06 2.85060211e-09 1.31639247e-13 1.00003366e-50\n",
      " 1.00000000e-50 1.41796007e-12 1.47616744e-11 3.65169140e-19\n",
      " 1.57427866e-07 2.74347407e-34 1.00000004e-50 1.96581679e-05\n",
      " 3.44872041e-05 5.60554665e-04 4.39549943e-07 4.34351614e-39\n",
      " 4.42748073e-06 2.40646426e-38 1.78838938e-33 3.56146075e-07\n",
      " 7.30153175e-06 3.88174479e-42 3.39366340e-15 1.00000000e-50\n",
      " 2.66158127e-03 1.11248049e-06 4.64692606e-07 8.88802351e-23\n",
      " 5.44042530e-26 8.28285144e-28]\n",
      "[  -9.82383253 -115.05259179  -16.57750955  -15.75765434  -16.83927121\n",
      " -115.12925465  -55.64626833  -89.14692184  -26.09412587   -7.42656593\n",
      "  -72.56402674 -112.86356414  -13.21986427  -15.64615478  -50.21924213\n",
      " -115.12925465  -12.11602671  -19.6757356   -29.65871119 -115.12922099\n",
      " -115.12925465  -27.28180184  -24.93898686  -42.45392631  -15.66429848\n",
      "  -77.27866813 -115.12925461  -10.83701764  -10.2749222    -7.48658379\n",
      "  -14.63751449  -88.33213444  -12.32767982  -86.62007497  -75.40399264\n",
      "  -14.84792487  -11.8274264   -95.35228917  -33.31686641 -115.12925465\n",
      "   -5.92883487  -13.70891836  -14.58188971  -50.77475244  -58.17335518\n",
      "  -62.35819532]\n",
      "[  -9.82383253 -115.05259179  -16.57750955  -15.75765434  -16.83927121\n",
      " -115.12925465  -55.64626833  -89.14692184  -26.09412587   -7.42656593\n",
      "  -72.56402674 -112.86356414  -13.21986427  -15.64615478  -50.21924213\n",
      " -115.12925465  -12.11602671  -19.6757356   -29.65871119 -115.12922099\n",
      " -115.12925465  -27.28180184  -24.93898686  -42.45392631  -15.66429848\n",
      "  -77.27866813 -115.12925461  -10.83701764  -10.2749222    -7.48658379\n",
      "  -14.63751449  -88.33213444  -12.32767982  -86.62007497  -75.40399264\n",
      "  -14.84792487  -11.8274264   -95.35228917  -33.31686641 -115.12925465\n",
      "   -5.92883487  -13.70891836  -14.58188971  -50.77475244  -58.17335518\n",
      "  -62.35819532]\n",
      "<populations.KDEModel object at 0x7f9c32e82a60>\n",
      "['CE', 'chi05', 'alpha10']\n",
      "1.0\n",
      "0.0\n",
      "[-inf -inf -inf -inf -inf -inf -inf -inf -inf -inf -inf -inf -inf -inf\n",
      " -inf -inf -inf -inf -inf -inf -inf -inf -inf -inf -inf -inf -inf -inf\n",
      " -inf -inf -inf -inf -inf -inf -inf -inf -inf -inf -inf -inf -inf -inf\n",
      " -inf -inf -inf -inf]\n",
      "[7.16131797e-06 1.08742152e-50 4.94828944e-08 2.72672014e-07\n",
      " 2.70069146e-07 1.00000000e-50 1.56688375e-25 1.65727547e-38\n",
      " 9.04590375e-12 4.80119653e-04 7.61938522e-32 4.05992804e-49\n",
      " 7.70743370e-06 2.52343219e-07 4.04567036e-21 1.00000000e-50\n",
      " 2.13478313e-05 2.20775499e-07 2.26931450e-11 1.00005180e-50\n",
      " 1.00000000e-50 2.33093223e-12 1.10984038e-07 9.06853739e-19\n",
      " 2.96008467e-07 2.12060821e-33 1.00002117e-50 6.70646249e-05\n",
      " 1.13200119e-04 9.95779258e-04 2.47173495e-08 9.58953494e-39\n",
      " 1.79409635e-06 1.42178427e-33 4.61778528e-34 1.55313062e-07\n",
      " 2.07073693e-06 2.53914623e-40 1.64088881e-17 1.00000000e-50\n",
      " 3.33360268e-03 3.54166101e-06 1.78745445e-06 1.09107378e-21\n",
      " 3.18944590e-26 2.02093170e-27]\n",
      "[ -11.84681652 -115.04544533  -16.8216388   -15.11499618  -15.12458782\n",
      " -115.12925465  -57.11553855  -86.99305856  -25.42870909   -7.64147521\n",
      "  -71.65202729 -111.42550431  -11.77332528  -15.1924757   -46.95663969\n",
      " -115.12925465  -10.7545604   -15.32611949  -24.50895822 -115.12920285\n",
      " -115.12925465  -26.78475283  -16.01387945  -41.54430577  -15.03287778\n",
      "  -75.23360513 -115.12923348   -9.60985385   -9.08635334   -6.91198495\n",
      "  -17.51576043  -87.54014623  -13.23100909  -75.63339546  -76.75797795\n",
      "  -15.677823    -13.08760601  -91.17157582  -38.64870853 -115.12925465\n",
      "   -5.70370167  -12.55091473  -13.23471805  -48.26712463  -58.70736522\n",
      "  -61.46623887]\n",
      "[ -11.84681652 -115.04544533  -16.8216388   -15.11499618  -15.12458782\n",
      " -115.12925465  -57.11553855  -86.99305856  -25.42870909   -7.64147521\n",
      "  -71.65202729 -111.42550431  -11.77332528  -15.1924757   -46.95663969\n",
      " -115.12925465  -10.7545604   -15.32611949  -24.50895822 -115.12920285\n",
      " -115.12925465  -26.78475283  -16.01387945  -41.54430577  -15.03287778\n",
      "  -75.23360513 -115.12923348   -9.60985385   -9.08635334   -6.91198495\n",
      "  -17.51576043  -87.54014623  -13.23100909  -75.63339546  -76.75797795\n",
      "  -15.677823    -13.08760601  -91.17157582  -38.64870853 -115.12925465\n",
      "   -5.70370167  -12.55091473  -13.23471805  -48.26712463  -58.70736522\n",
      "  -61.46623887]\n",
      "<populations.KDEModel object at 0x7f9c32e87430>\n",
      "['CE', 'chi05', 'alpha20']\n",
      "1.0\n",
      "0.0\n",
      "[-inf -inf -inf -inf -inf -inf -inf -inf -inf -inf -inf -inf -inf -inf\n",
      " -inf -inf -inf -inf -inf -inf -inf -inf -inf -inf -inf -inf -inf -inf\n",
      " -inf -inf -inf -inf -inf -inf -inf -inf -inf -inf -inf -inf -inf -inf\n",
      " -inf -inf -inf -inf]\n",
      "[4.53378792e-07 1.02360597e-50 1.61881028e-06 5.23643437e-06\n",
      " 9.75751381e-08 1.00000000e-50 2.44607141e-28 2.69620125e-38\n",
      " 5.91183921e-12 8.27523014e-05 4.91713055e-33 2.57716671e-49\n",
      " 3.47834965e-06 2.27756070e-06 1.39218149e-21 1.00000000e-50\n",
      " 7.44892768e-06 1.84543148e-07 8.68430104e-15 1.00001294e-50\n",
      " 1.00000000e-50 1.90992797e-12 5.93195634e-07 3.12680079e-21\n",
      " 9.21548218e-08 1.15286032e-34 1.00000497e-50 1.71964520e-05\n",
      " 3.18122639e-05 1.62612911e-04 1.93940438e-08 2.97876333e-39\n",
      " 3.19575037e-05 2.56515704e-37 1.57052505e-37 1.56344015e-06\n",
      " 1.65045165e-05 1.18644508e-40 2.49340176e-15 1.00000000e-50\n",
      " 7.83547824e-04 7.60603997e-07 1.40807893e-06 1.58196506e-21\n",
      " 9.73667902e-25 8.16528067e-28]\n",
      "[ -14.60653788 -115.10592299  -13.33381908  -12.15986975  -16.14264311\n",
      " -115.12925465  -63.57789937  -86.5063897   -25.85406413   -9.39965873\n",
      "  -74.39258293 -111.87997893  -12.56895262  -12.99240555  -48.02341502\n",
      " -115.12925465  -11.80744047  -15.50538254  -32.37725948 -115.12924171\n",
      " -115.12925465  -26.98395559  -14.33774159  -47.21427658  -16.19979583\n",
      "  -78.14564707 -115.12924968  -10.97080747  -10.35565868   -8.72413796\n",
      "  -17.75829984  -88.7093104   -10.35110355  -84.25362874  -84.74423845\n",
      "  -13.36862194  -11.01187649  -91.93244221  -33.62512845 -115.12925465\n",
      "   -7.15167846  -14.08915299  -13.47328425  -47.89561917  -55.28872723\n",
      "  -62.3724915 ]\n",
      "[ -14.60653788 -115.10592299  -13.33381908  -12.15986975  -16.14264311\n",
      " -115.12925465  -63.57789937  -86.5063897   -25.85406413   -9.39965873\n",
      "  -74.39258293 -111.87997893  -12.56895262  -12.99240555  -48.02341502\n",
      " -115.12925465  -11.80744047  -15.50538254  -32.37725948 -115.12924171\n",
      " -115.12925465  -26.98395559  -14.33774159  -47.21427658  -16.19979583\n",
      "  -78.14564707 -115.12924968  -10.97080747  -10.35565868   -8.72413796\n",
      "  -17.75829984  -88.7093104   -10.35110355  -84.25362874  -84.74423845\n",
      "  -13.36862194  -11.01187649  -91.93244221  -33.62512845 -115.12925465\n",
      "   -7.15167846  -14.08915299  -13.47328425  -47.89561917  -55.28872723\n",
      "  -62.3724915 ]\n",
      "<populations.KDEModel object at 0x7f9c32e91940>\n",
      "['CE', 'chi05', 'alpha50']\n",
      "1.0\n",
      "0.0\n",
      "[-inf -inf -inf -inf -inf -inf -inf -inf -inf -inf -inf -inf -inf -inf\n",
      " -inf -inf -inf -inf -inf -inf -inf -inf -inf -inf -inf -inf -inf -inf\n",
      " -inf -inf -inf -inf -inf -inf -inf -inf -inf -inf -inf -inf -inf -inf\n",
      " -inf -inf -inf -inf]\n",
      "[6.27391630e-09 1.00047677e-50 6.72273842e-08 4.84370317e-06\n",
      " 7.75937746e-07 1.00000000e-50 7.94764027e-30 3.26498542e-38\n",
      " 5.69247144e-11 4.34250581e-05 8.31813943e-34 5.17724955e-50\n",
      " 1.51243631e-07 8.99999356e-06 1.57001565e-30 1.00000000e-50\n",
      " 5.43340685e-07 3.45622940e-08 3.47737117e-16 1.00000116e-50\n",
      " 1.00000000e-50 1.52596872e-13 7.21649181e-11 9.40053751e-21\n",
      " 4.85074087e-08 3.15157417e-34 1.00000000e-50 2.47517193e-06\n",
      " 1.92631963e-06 3.38531518e-05 1.29657131e-09 1.20892078e-40\n",
      " 3.41227465e-05 1.26246315e-37 3.29790762e-42 1.78723730e-07\n",
      " 6.20682883e-06 2.58523763e-41 2.22377363e-17 1.00000000e-50\n",
      " 1.89094769e-04 1.25438139e-07 3.03813259e-07 5.06945599e-19\n",
      " 1.08802821e-33 2.47128375e-29]\n",
      "[ -18.88686507 -115.12877799  -16.51518517  -12.23783101  -14.06919354\n",
      " -115.12925465  -67.00467773  -86.31497824  -23.58929152  -10.04447391\n",
      "  -76.16945456 -113.48498071  -15.70437385  -11.6182867   -68.6264672\n",
      " -115.12925465  -14.4255293   -17.18050252  -35.59508489 -115.12925349\n",
      " -115.12925465  -29.51097677  -23.35206709  -46.11352008  -16.84154929\n",
      "  -77.1399911  -115.12925465  -12.9092007   -13.1598993   -10.29347845\n",
      "  -20.46354251  -91.91367567  -10.28554634  -84.96258374  -95.51528569\n",
      "  -15.53742463  -11.98986045  -93.45617138  -38.34474099 -115.12925465\n",
      "   -8.57326224  -15.89145311  -15.0068526   -42.12588325  -75.90094099\n",
      "  -65.87022995]\n",
      "[ -18.88686507 -115.12877799  -16.51518517  -12.23783101  -14.06919354\n",
      " -115.12925465  -67.00467773  -86.31497824  -23.58929152  -10.04447391\n",
      "  -76.16945456 -113.48498071  -15.70437385  -11.6182867   -68.6264672\n",
      " -115.12925465  -14.4255293   -17.18050252  -35.59508489 -115.12925349\n",
      " -115.12925465  -29.51097677  -23.35206709  -46.11352008  -16.84154929\n",
      "  -77.1399911  -115.12925465  -12.9092007   -13.1598993   -10.29347845\n",
      "  -20.46354251  -91.91367567  -10.28554634  -84.96258374  -95.51528569\n",
      "  -15.53742463  -11.98986045  -93.45617138  -38.34474099 -115.12925465\n",
      "   -8.57326224  -15.89145311  -15.0068526   -42.12588325  -75.90094099\n",
      "  -65.87022995]\n"
     ]
    }
   ],
   "source": [
    "lnlike_kde=np.zeros((4,5))\n",
    "for chibid in range(4):\n",
    "    for alphaid in range(5):\n",
    "        lnlike_kde[chibid,alphaid]=sample.lnlike([chibid,alphaid,1.],obsdata, KDE, submodels_dict, ['CE'], use_flows=False)"
   ]
  },
  {
   "cell_type": "code",
   "execution_count": 14,
   "metadata": {},
   "outputs": [],
   "source": [
    "lnlike_kde = np.load('CE_lnlike_kde.npy')"
   ]
  },
  {
   "cell_type": "code",
   "execution_count": 21,
   "metadata": {},
   "outputs": [
    {
     "data": {
      "text/plain": [
       "Text(0.5, 1.0, 'CE channel likelihoods (KDEs)')"
      ]
     },
     "execution_count": 21,
     "metadata": {},
     "output_type": "execute_result"
    },
    {
     "data": {
      "image/png": "[encoded data removed]",
      "text/plain": [
       "<Figure size 640x480 with 2 Axes>"
      ]
     },
     "metadata": {},
     "output_type": "display_data"
    }
   ],
   "source": [
    "plt.imshow(lnlike_kde)\n",
    "plt.xlabel('alpha_CE index')\n",
    "plt.ylabel('chi_b index')\n",
    "plt.colorbar()\n",
    "plt.title('CE channel likelihoods (KDEs)')"
   ]
  },
  {
   "cell_type": "code",
   "execution_count": 15,
   "metadata": {},
   "outputs": [
    {
     "data": {
      "text/plain": [
       "array([[ -488.54896481,  -516.01045514,  -497.21744547,  -580.29421382,\n",
       "         -786.29323308],\n",
       "       [ -517.44113865,  -539.3906847 ,  -521.00342875,  -575.61471784,\n",
       "         -720.9136174 ],\n",
       "       [ -638.6766879 ,  -624.86668284,  -599.60617914,  -649.87875854,\n",
       "         -752.67508215],\n",
       "       [-2372.87555011, -2421.31486477, -2474.83763468, -2571.90109638,\n",
       "        -2591.77152278]])"
      ]
     },
     "execution_count": 15,
     "metadata": {},
     "output_type": "execute_result"
    }
   ],
   "source": [
    "lnlike_kde"
   ]
  }
 ],
 "metadata": {
  "kernelspec": {
   "display_name": "Python 3.9.15 ('amaze')",
   "language": "python",
   "name": "python3"
  },
  "language_info": {
   "codemirror_mode": {
    "name": "ipython",
    "version": 3
   },
   "file_extension": ".py",
   "mimetype": "text/x-python",
   "name": "python",
   "nbconvert_exporter": "python",
   "pygments_lexer": "ipython3",
   "version": "3.9.15"
  },
  "orig_nbformat": 4,
  "vscode": {
   "interpreter": {
    "hash": "40f4eedd3c2b0a4cf443053300595e4c410b663f293e84798d1742802fb2c7c8"
   }
  }
 },
 "nbformat": 4,
 "nbformat_minor": 2
}
