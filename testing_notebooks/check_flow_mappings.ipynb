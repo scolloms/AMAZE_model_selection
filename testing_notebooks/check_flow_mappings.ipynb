{
 "cells": [
  {
   "cell_type": "code",
   "execution_count": 1,
   "metadata": {},
   "outputs": [
    {
     "name": "stdout",
     "output_type": "stream",
     "text": [
      "glasflow is using its own internal version of nflows\n"
     ]
    },
    {
     "name": "stderr",
     "output_type": "stream",
     "text": [
      "PyCBC.libutils: pkg-config call failed, setting NO_PKGCONFIG=1\n"
     ]
    }
   ],
   "source": [
    "import matplotlib.pyplot as plt\n",
    "import corner as corner\n",
    "import pandas as pd\n",
    "import numpy as np\n",
    "import h5py\n",
    "import torch\n",
    "import time\n",
    "\n",
    "from populations.bbh_models import get_models\n",
    "import populations.bbh_models as read_models\n",
    "from populations.utils.flow import NFlow\n",
    "from populations.Flowsclass_dev import FlowModel\n",
    "from populations import gw_obs\n",
    "\n",
    "from sample import sample\n",
    "from populations.bbh_models import read_hdf5"
   ]
  },
  {
   "cell_type": "code",
   "execution_count": 2,
   "metadata": {},
   "outputs": [
    {
     "name": "stderr",
     "output_type": "stream",
     "text": [
      "100%|██████████| 1/1 [00:03<00:00,  3.07s/it]\n",
      "100%|██████████| 1/1 [00:03<00:00,  3.57s/it]\n"
     ]
    }
   ],
   "source": [
    "params = ['mchirp','q', 'chieff', 'z']\n",
    "file_path='/Users/stormcolloms/Documents/PhD/Project_work/OneChannel_Flows/models_reduced.hdf5'\n",
    "gw_path = '/Users/stormcolloms/Documents/PhD/Project_work/AMAZE_model_selection/gw_events'\n",
    "observations, obsdata, p_theta, events = gw_obs.generate_observations(params, gw_path, \\\n",
    "                                            100, 'posteriors', None)\n",
    "\n",
    "model_names, flow_oldmaps = read_models.get_models(file_path, ['CE'], params, use_flows=True, device='cpu')\n",
    "model_names, flow_newmaps = read_models.get_models(file_path, ['CE'], params, use_flows=True, device='cpu')"
   ]
  },
  {
   "cell_type": "code",
   "execution_count": 3,
   "metadata": {},
   "outputs": [],
   "source": [
    "flow_path=\"/Users/stormcolloms/Documents/PhD/Project_work/AMAZE_model_selection/flow_models/cosmo_weights/\"\n",
    "flow_oldmaps['CE'].load_model(flow_path, 'CE')"
   ]
  },
  {
   "cell_type": "code",
   "execution_count": 4,
   "metadata": {},
   "outputs": [],
   "source": [
    "flow_newmaps['CE'].load_model(f'{flow_path}newmappings/', 'CE')"
   ]
  },
  {
   "cell_type": "code",
   "execution_count": 5,
   "metadata": {},
   "outputs": [
    {
     "data": {
      "text/plain": [
       "array([8.232875920000927, 100.0, 13.347090269689224, None,\n",
       "       6.907754476512362, 10.009991975305043], dtype=object)"
      ]
     },
     "execution_count": 5,
     "metadata": {},
     "output_type": "execute_result"
    }
   ],
   "source": [
    "flow_newmaps['CE'].mappings"
   ]
  },
  {
   "cell_type": "code",
   "execution_count": 6,
   "metadata": {},
   "outputs": [],
   "source": [
    "param = ['mchirp','q', 'chieff', 'z']\n",
    "no_params = len(param)\n",
    "channel_ids = {'CE':0, 'CHE':1,'GC':2,'NSC':3, 'SMT':4}\n",
    "channel_id = channel_ids['CE'] #will be 0, 1, 2, 3, or 4\n",
    "chi_b = [0.0,0.1,0.2,0.5]\n",
    "alpha_CE = [0.2,0.5,1.0,2.,5.]\n",
    "channel_samples = [4e6,864124,896611,582961, 4e6]\n",
    "no_binaries = int(channel_samples[channel_id])\n",
    "batch_size = 10000\n",
    "total_hps=4\n",
    "\n",
    "models_path ='/Users/stormcolloms/Documents/PhD/Project_work/OneChannel_Flows/models_reduced.hdf5'\n",
    "popsynth_outputs = read_hdf5(models_path, 'CE') # read all data from hdf5 file\n",
    "\n",
    "models_dict = dict.fromkeys(popsynth_outputs.keys())\n",
    "weights_dict = dict.fromkeys(popsynth_outputs.keys())\n",
    "\n",
    "\n",
    "for key in popsynth_outputs.keys():\n",
    "    models_dict[key] = popsynth_outputs[key][param]\n",
    "    weights_dict[key]= popsynth_outputs[key]['weight']"
   ]
  },
  {
   "cell_type": "code",
   "execution_count": 7,
   "metadata": {},
   "outputs": [
    {
     "name": "stdout",
     "output_type": "stream",
     "text": [
      "[[0.3755345  0.62673275 0.70713728 ... 0.4975519  0.50105701 0.19636928]]\n",
      "[[0.90032513 0.69881433 0.78842191 ... 0.94148196 0.92467198 0.48333048]]\n",
      "[[0.11878972 0.04374432 0.0815231  ... 0.02246356 0.17563687 0.15142925]]\n",
      "[[0.14133764 0.2358796  0.26614096 ... 0.18726059 0.18857978 0.07390631]]\n",
      "[[0.90032513 0.69881433 0.78842191 ... 0.94148196 0.92467198 0.48333048]]\n",
      "[[0.11878972 0.04374432 0.0815231  ... 0.02246356 0.17563687 0.15142925]]\n"
     ]
    }
   ],
   "source": [
    "oldmapped = flow_oldmaps['CE'].map_obs(np.array([models_dict[(0,0)]]))\n",
    "newmapped = flow_newmaps['CE'].map_obs(np.array([models_dict[(0,0)]]))"
   ]
  },
  {
   "cell_type": "code",
   "execution_count": 8,
   "metadata": {},
   "outputs": [
    {
     "data": {
      "text/plain": [
       "array([8.232875920000927, 37.6363925625166, 13.347090269689224, None,\n",
       "       6.907754476512362, 10.009991975305043], dtype=object)"
      ]
     },
     "execution_count": 8,
     "metadata": {},
     "output_type": "execute_result"
    }
   ],
   "source": [
    "flow_oldmaps['CE'].mappings"
   ]
  },
  {
   "cell_type": "code",
   "execution_count": 11,
   "metadata": {},
   "outputs": [
    {
     "data": {
      "text/plain": [
       "(array([  2880.,   9758.,  23180.,  50679.,  95070., 164874., 293608.,\n",
       "        184539.,  58857., 116555.]),\n",
       " array([-0.4464596 , -0.40795289, -0.36944617, -0.33093946, -0.29243274,\n",
       "        -0.25392603, -0.21541932, -0.1769126 , -0.13840589, -0.09989917,\n",
       "        -0.06139246]),\n",
       " <BarContainer object of 10 artists>)"
      ]
     },
     "execution_count": 11,
     "metadata": {},
     "output_type": "execute_result"
    },
    {
     "data": {
      "image/png": "[encoded data removed]",
      "text/plain": [
       "<Figure size 640x480 with 1 Axes>"
      ]
     },
     "metadata": {},
     "output_type": "display_data"
    }
   ],
   "source": [
    "plt.hist(oldmapped[0,:,0])\n",
    "plt.hist(newmapped[0,:,0])"
   ]
  },
  {
   "cell_type": "code",
   "execution_count": null,
   "metadata": {},
   "outputs": [],
   "source": [
    "plt.hist(newmapped[:,:,0])"
   ]
  }
 ],
 "metadata": {
  "kernelspec": {
   "display_name": "Python 3.9.15 ('amaze')",
   "language": "python",
   "name": "python3"
  },
  "language_info": {
   "codemirror_mode": {
    "name": "ipython",
    "version": 3
   },
   "file_extension": ".py",
   "mimetype": "text/x-python",
   "name": "python",
   "nbconvert_exporter": "python",
   "pygments_lexer": "ipython3",
   "version": "3.9.15"
  },
  "orig_nbformat": 4,
  "vscode": {
   "interpreter": {
    "hash": "40f4eedd3c2b0a4cf443053300595e4c410b663f293e84798d1742802fb2c7c8"
   }
  }
 },
 "nbformat": 4,
 "nbformat_minor": 2
}
