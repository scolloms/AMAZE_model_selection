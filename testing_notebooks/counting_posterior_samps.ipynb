{
 "cells": [
  {
   "cell_type": "code",
   "execution_count": 1,
   "metadata": {},
   "outputs": [
    {
     "ename": "ModuleNotFoundError",
     "evalue": "No module named 'lal'",
     "output_type": "error",
     "traceback": [
      "\u001b[0;31m---------------------------------------------------------------------------\u001b[0m",
      "\u001b[0;31mModuleNotFoundError\u001b[0m                       Traceback (most recent call last)",
      "\u001b[1;32m/Users/stormcolloms/Documents/PhD/Project_work/AMAZE_model_selection/testing_notebooks/counting_posterior_samps.ipynb Cell 1\u001b[0m in \u001b[0;36m<cell line: 12>\u001b[0;34m()\u001b[0m\n\u001b[1;32m     <a href='vscode-notebook-cell:/Users/stormcolloms/Documents/PhD/Project_work/AMAZE_model_selection/testing_notebooks/counting_posterior_samps.ipynb#W0sZmlsZQ%3D%3D?line=9'>10</a>\u001b[0m cosmo \u001b[39m=\u001b[39m cosmology\u001b[39m.\u001b[39mPlanck18\n\u001b[1;32m     <a href='vscode-notebook-cell:/Users/stormcolloms/Documents/PhD/Project_work/AMAZE_model_selection/testing_notebooks/counting_posterior_samps.ipynb#W0sZmlsZQ%3D%3D?line=10'>11</a>\u001b[0m sys\u001b[39m.\u001b[39mpath\u001b[39m.\u001b[39mappend(\u001b[39m'\u001b[39m\u001b[39m../\u001b[39m\u001b[39m'\u001b[39m)\n\u001b[0;32m---> <a href='vscode-notebook-cell:/Users/stormcolloms/Documents/PhD/Project_work/AMAZE_model_selection/testing_notebooks/counting_posterior_samps.ipynb#W0sZmlsZQ%3D%3D?line=11'>12</a>\u001b[0m \u001b[39mfrom\u001b[39;00m \u001b[39mpopulations\u001b[39;00m\u001b[39m.\u001b[39;00m\u001b[39mbbh_models\u001b[39;00m \u001b[39mimport\u001b[39;00m read_hdf5\n\u001b[1;32m     <a href='vscode-notebook-cell:/Users/stormcolloms/Documents/PhD/Project_work/AMAZE_model_selection/testing_notebooks/counting_posterior_samps.ipynb#W0sZmlsZQ%3D%3D?line=12'>13</a>\u001b[0m \u001b[39mimport\u001b[39;00m \u001b[39mpopulations\u001b[39;00m\u001b[39m.\u001b[39;00m\u001b[39mbbh_models\u001b[39;00m \u001b[39mas\u001b[39;00m \u001b[39mread_models\u001b[39;00m\n\u001b[1;32m     <a href='vscode-notebook-cell:/Users/stormcolloms/Documents/PhD/Project_work/AMAZE_model_selection/testing_notebooks/counting_posterior_samps.ipynb#W0sZmlsZQ%3D%3D?line=13'>14</a>\u001b[0m \u001b[39mfrom\u001b[39;00m \u001b[39mpopulations\u001b[39;00m\u001b[39m.\u001b[39;00m\u001b[39mFlowsclass_dev\u001b[39;00m \u001b[39mimport\u001b[39;00m FlowModel\n",
      "File \u001b[0;32m~/Documents/PhD/Project_work/AMAZE_model_selection/testing_notebooks/../populations/__init__.py:16\u001b[0m, in \u001b[0;36m<module>\u001b[0;34m\u001b[0m\n\u001b[1;32m     14\u001b[0m \u001b[39mimport\u001b[39;00m \u001b[39mpandas\u001b[39;00m \u001b[39mas\u001b[39;00m \u001b[39mpd\u001b[39;00m\n\u001b[1;32m     15\u001b[0m \u001b[39mfrom\u001b[39;00m \u001b[39mscipy\u001b[39;00m\u001b[39m.\u001b[39;00m\u001b[39mstats\u001b[39;00m \u001b[39mimport\u001b[39;00m norm, truncnorm\n\u001b[0;32m---> 16\u001b[0m \u001b[39mfrom\u001b[39;00m \u001b[39m.\u001b[39;00m\u001b[39mutils\u001b[39;00m\u001b[39m.\u001b[39;00m\u001b[39mselection_effects\u001b[39;00m \u001b[39mimport\u001b[39;00m projection_factor_Dominik2015_interp, _PSD_defaults\n\u001b[1;32m     17\u001b[0m \u001b[39mfrom\u001b[39;00m \u001b[39m.\u001b[39;00m\u001b[39mutils\u001b[39;00m\u001b[39m.\u001b[39;00m\u001b[39mbounded_Nd_kde\u001b[39;00m \u001b[39mimport\u001b[39;00m Bounded_Nd_kde\n\u001b[1;32m     18\u001b[0m \u001b[39mfrom\u001b[39;00m \u001b[39m.\u001b[39;00m\u001b[39mutils\u001b[39;00m\u001b[39m.\u001b[39;00m\u001b[39mtransform\u001b[39;00m \u001b[39mimport\u001b[39;00m mchirpq_to_m1m2, mtotq_to_m1m2, mtoteta_to_m1m2, chieff_to_s1s2, mtotq_to_mc, mtoteta_to_mchirpq, eta_to_q\n",
      "File \u001b[0;32m~/Documents/PhD/Project_work/AMAZE_model_selection/testing_notebooks/../populations/utils/selection_effects.py:16\u001b[0m, in \u001b[0;36m<module>\u001b[0;34m\u001b[0m\n\u001b[1;32m     13\u001b[0m \u001b[39mfrom\u001b[39;00m \u001b[39mastropy\u001b[39;00m \u001b[39mimport\u001b[39;00m cosmology\n\u001b[1;32m     14\u001b[0m \u001b[39mfrom\u001b[39;00m \u001b[39mastropy\u001b[39;00m\u001b[39m.\u001b[39;00m\u001b[39mcosmology\u001b[39;00m \u001b[39mimport\u001b[39;00m z_at_value\n\u001b[0;32m---> 16\u001b[0m \u001b[39mimport\u001b[39;00m \u001b[39mlal\u001b[39;00m\u001b[39m,\u001b[39m \u001b[39mlalsimulation\u001b[39;00m\n\u001b[1;32m     17\u001b[0m \u001b[39mfrom\u001b[39;00m \u001b[39mpycbc\u001b[39;00m\u001b[39m.\u001b[39;00m\u001b[39mdetector\u001b[39;00m \u001b[39mimport\u001b[39;00m Detector\n\u001b[1;32m     19\u001b[0m cosmo \u001b[39m=\u001b[39m cosmology\u001b[39m.\u001b[39mPlanck18\n",
      "\u001b[0;31mModuleNotFoundError\u001b[0m: No module named 'lal'"
     ]
    }
   ],
   "source": [
    "import os\n",
    "import numpy as np\n",
    "import pandas as pd\n",
    "from tqdm import tqdm\n",
    "import sys\n",
    "\n",
    "import astropy.units as u\n",
    "from astropy import cosmology\n",
    "from astropy.cosmology import z_at_value\n",
    "cosmo = cosmology.Planck18\n",
    "sys.path.append('../')\n",
    "from populations.bbh_models import read_hdf5\n",
    "import populations.bbh_models as read_models\n",
    "from populations.Flowsclass_dev import FlowModel\n",
    "from populations.utils.bounded_Nd_kde import Bounded_Nd_kde\n",
    "from populations import gw_obs"
   ]
  },
  {
   "cell_type": "code",
   "execution_count": 8,
   "metadata": {},
   "outputs": [],
   "source": [
    "params = ['mchirp', 'q', 'chieff', 'z']\n",
    "gwpath = '/Users/stormcolloms/Documents/PhD/Project_work/AMAZE_model_selection/gw_events'\n",
    "_posterior_key = \"combined\""
   ]
  },
  {
   "cell_type": "code",
   "execution_count": 4,
   "metadata": {},
   "outputs": [],
   "source": [
    "gw_files = []\n",
    "events_to_exclude = np.array(['GW190521'])\n",
    "for f in os.listdir(gwpath):\n",
    "    if 'prior' not in f:\n",
    "        if any(gwname not in f for gwname in events_to_exclude):\n",
    "            gw_files.append(f)\n",
    "gw_names = [gw.split('.')[0] for gw in gw_files]"
   ]
  },
  {
   "cell_type": "code",
   "execution_count": 14,
   "metadata": {},
   "outputs": [],
   "source": [
    "shape = []\n",
    "for idx, f in enumerate(gw_files):\n",
    "    df = pd.read_hdf(os.path.join(gwpath,f), key=_posterior_key)\n",
    "    # Check to see if the necessary parameters are in the files or the \n",
    "    # transformations provided, else raise error\n",
    "    for pidx, p in enumerate(params):\n",
    "        # first, see if parameter is in the keys already\n",
    "        if p in df.columns:\n",
    "            continue\n",
    "        elif p in gwtc_dict.keys():\n",
    "            df = df.rename({gwtc_dict[p]:p}, axis='columns')\n",
    "        elif p in gwtc_transforms.keys():\n",
    "            df[p] = gwtc_transforms[p](df)\n",
    "        else:\n",
    "            raise KeyError(\"Parameter {0:s} not found in the GW data, and no transformations exist to generate it from the GW data!\".format(p))\n",
    "    \n",
    "    shape.append(df[params].shape[0])"
   ]
  },
  {
   "cell_type": "code",
   "execution_count": 16,
   "metadata": {},
   "outputs": [
    {
     "data": {
      "text/plain": [
       "55192"
      ]
     },
     "execution_count": 16,
     "metadata": {},
     "output_type": "execute_result"
    }
   ],
   "source": [
    "np.max(shape)"
   ]
  },
  {
   "cell_type": "code",
   "execution_count": 18,
   "metadata": {},
   "outputs": [
    {
     "data": {
      "text/plain": [
       "18.333333333333332"
      ]
     },
     "execution_count": 18,
     "metadata": {},
     "output_type": "execute_result"
    }
   ],
   "source": [
    "(8*55)/24"
   ]
  },
  {
   "cell_type": "code",
   "execution_count": 12,
   "metadata": {},
   "outputs": [
    {
     "data": {
      "text/html": [
       "<div>\n",
       "<style scoped>\n",
       "    .dataframe tbody tr th:only-of-type {\n",
       "        vertical-align: middle;\n",
       "    }\n",
       "\n",
       "    .dataframe tbody tr th {\n",
       "        vertical-align: top;\n",
       "    }\n",
       "\n",
       "    .dataframe thead th {\n",
       "        text-align: right;\n",
       "    }\n",
       "</style>\n",
       "<table border=\"1\" class=\"dataframe\">\n",
       "  <thead>\n",
       "    <tr style=\"text-align: right;\">\n",
       "      <th></th>\n",
       "      <th>mchirp</th>\n",
       "      <th>q</th>\n",
       "      <th>chieff</th>\n",
       "      <th>z</th>\n",
       "    </tr>\n",
       "  </thead>\n",
       "  <tbody>\n",
       "    <tr>\n",
       "      <th>0</th>\n",
       "      <td>25.793880</td>\n",
       "      <td>0.768279</td>\n",
       "      <td>0.103663</td>\n",
       "      <td>0.143500</td>\n",
       "    </tr>\n",
       "    <tr>\n",
       "      <th>1</th>\n",
       "      <td>24.128071</td>\n",
       "      <td>0.698415</td>\n",
       "      <td>0.037263</td>\n",
       "      <td>0.211215</td>\n",
       "    </tr>\n",
       "    <tr>\n",
       "      <th>2</th>\n",
       "      <td>24.895444</td>\n",
       "      <td>0.867913</td>\n",
       "      <td>-0.022482</td>\n",
       "      <td>0.145809</td>\n",
       "    </tr>\n",
       "    <tr>\n",
       "      <th>3</th>\n",
       "      <td>24.583177</td>\n",
       "      <td>0.977003</td>\n",
       "      <td>0.087659</td>\n",
       "      <td>0.204247</td>\n",
       "    </tr>\n",
       "    <tr>\n",
       "      <th>4</th>\n",
       "      <td>25.714689</td>\n",
       "      <td>0.675846</td>\n",
       "      <td>0.056260</td>\n",
       "      <td>0.127450</td>\n",
       "    </tr>\n",
       "    <tr>\n",
       "      <th>...</th>\n",
       "      <td>...</td>\n",
       "      <td>...</td>\n",
       "      <td>...</td>\n",
       "      <td>...</td>\n",
       "    </tr>\n",
       "    <tr>\n",
       "      <th>25142</th>\n",
       "      <td>25.086854</td>\n",
       "      <td>0.841259</td>\n",
       "      <td>0.005387</td>\n",
       "      <td>0.156237</td>\n",
       "    </tr>\n",
       "    <tr>\n",
       "      <th>25143</th>\n",
       "      <td>25.082939</td>\n",
       "      <td>0.533541</td>\n",
       "      <td>0.093871</td>\n",
       "      <td>0.194442</td>\n",
       "    </tr>\n",
       "    <tr>\n",
       "      <th>25144</th>\n",
       "      <td>25.097972</td>\n",
       "      <td>0.922788</td>\n",
       "      <td>0.087434</td>\n",
       "      <td>0.191172</td>\n",
       "    </tr>\n",
       "    <tr>\n",
       "      <th>25145</th>\n",
       "      <td>26.331509</td>\n",
       "      <td>0.794452</td>\n",
       "      <td>0.030603</td>\n",
       "      <td>0.099039</td>\n",
       "    </tr>\n",
       "    <tr>\n",
       "      <th>25146</th>\n",
       "      <td>24.391458</td>\n",
       "      <td>0.656133</td>\n",
       "      <td>0.143453</td>\n",
       "      <td>0.254577</td>\n",
       "    </tr>\n",
       "  </tbody>\n",
       "</table>\n",
       "<p>25147 rows × 4 columns</p>\n",
       "</div>"
      ],
      "text/plain": [
       "          mchirp         q    chieff         z\n",
       "0      25.793880  0.768279  0.103663  0.143500\n",
       "1      24.128071  0.698415  0.037263  0.211215\n",
       "2      24.895444  0.867913 -0.022482  0.145809\n",
       "3      24.583177  0.977003  0.087659  0.204247\n",
       "4      25.714689  0.675846  0.056260  0.127450\n",
       "...          ...       ...       ...       ...\n",
       "25142  25.086854  0.841259  0.005387  0.156237\n",
       "25143  25.082939  0.533541  0.093871  0.194442\n",
       "25144  25.097972  0.922788  0.087434  0.191172\n",
       "25145  26.331509  0.794452  0.030603  0.099039\n",
       "25146  24.391458  0.656133  0.143453  0.254577\n",
       "\n",
       "[25147 rows x 4 columns]"
      ]
     },
     "execution_count": 12,
     "metadata": {},
     "output_type": "execute_result"
    }
   ],
   "source": [
    "df[params]"
   ]
  }
 ],
 "metadata": {
  "kernelspec": {
   "display_name": "Python 3.9.15 ('amaze')",
   "language": "python",
   "name": "python3"
  },
  "language_info": {
   "codemirror_mode": {
    "name": "ipython",
    "version": 3
   },
   "file_extension": ".py",
   "mimetype": "text/x-python",
   "name": "python",
   "nbconvert_exporter": "python",
   "pygments_lexer": "ipython3",
   "version": "3.9.15"
  },
  "orig_nbformat": 4,
  "vscode": {
   "interpreter": {
    "hash": "40f4eedd3c2b0a4cf443053300595e4c410b663f293e84798d1742802fb2c7c8"
   }
  }
 },
 "nbformat": 4,
 "nbformat_minor": 2
}
