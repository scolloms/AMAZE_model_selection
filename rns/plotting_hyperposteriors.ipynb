{
 "cells": [
  {
   "cell_type": "code",
   "execution_count": 1,
   "metadata": {},
   "outputs": [],
   "source": [
    "import numpy as np\n",
    "import matplotlib.pyplot as plt\n",
    "import h5py\n",
    "import pandas as pd"
   ]
  },
  {
   "cell_type": "code",
   "execution_count": 18,
   "metadata": {},
   "outputs": [],
   "source": [
    "KDEwflow = h5py.File('KDEs_withflowsamples_021123/output.hdf5','r')\n",
    "KDE = h5py.File('KDE_priors_redone_311023/output_retest.hdf5','r')\n",
    "flow = h5py.File('flows_271023/flows_271023/output.hdf5','r')"
   ]
  },
  {
   "cell_type": "code",
   "execution_count": 19,
   "metadata": {},
   "outputs": [],
   "source": [
    "outputs_KDEwflow = KDEwflow['model_selection']['samples']['block0_values'][()]\n",
    "outputs_KDE = KDE['model_selection']['samples']['block0_values'][()]\n",
    "outputs_flow = flow['model_selection']['samples']['block0_values'][()]"
   ]
  },
  {
   "cell_type": "code",
   "execution_count": 21,
   "metadata": {},
   "outputs": [
    {
     "data": {
      "text/plain": [
       "(array([ 3358.,  2691.,  2770.,  4119.,  5884.,  9108., 15993., 32065.,\n",
       "        56194., 27818.]),\n",
       " array([2.93216522e-05, 9.79897577e-02, 1.95950194e-01, 2.93910630e-01,\n",
       "        3.91871066e-01, 4.89831502e-01, 5.87791938e-01, 6.85752374e-01,\n",
       "        7.83712810e-01, 8.81673246e-01, 9.79633683e-01]),\n",
       " <BarContainer object of 10 artists>)"
      ]
     },
     "execution_count": 21,
     "metadata": {},
     "output_type": "execute_result"
    },
    {
     "data": {
      "image/png": "[encoded data removed]",
      "text/plain": [
       "<Figure size 432x288 with 1 Axes>"
      ]
     },
     "metadata": {
      "needs_background": "light"
     },
     "output_type": "display_data"
    }
   ],
   "source": [
    "plt.hist(outputs_KDEwflow[:,0])\n",
    "plt.hist(outputs_KDE[:,0])"
   ]
  }
 ],
 "metadata": {
  "kernelspec": {
   "display_name": "Python 3.9.12 ('base')",
   "language": "python",
   "name": "python3"
  },
  "language_info": {
   "codemirror_mode": {
    "name": "ipython",
    "version": 3
   },
   "file_extension": ".py",
   "mimetype": "text/x-python",
   "name": "python",
   "nbconvert_exporter": "python",
   "pygments_lexer": "ipython3",
   "version": "3.9.12"
  },
  "orig_nbformat": 4,
  "vscode": {
   "interpreter": {
    "hash": "1911934eb65644045be451bbc78ca20ff981c6b2bda7cd185919df9b2b283643"
   }
  }
 },
 "nbformat": 4,
 "nbformat_minor": 2
}
