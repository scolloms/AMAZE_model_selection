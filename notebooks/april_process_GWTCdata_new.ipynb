{
 "cells": [
  {
   "cell_type": "markdown",
   "id": "fb1648c5-ac9e-4864-92c5-4af60ba33c92",
   "metadata": {
    "tags": []
   },
   "source": [
    "# Process GWTC data - NEW"
   ]
  },
  {
   "cell_type": "markdown",
   "id": "4db1e1ac-63c1-4663-a298-0798053d6945",
   "metadata": {},
   "source": [
    "This notebook uses the PE samples from the GWTC-2.1 and GWTC-3 data release. Additionally, p_theta is calculated both with a KDE from prior samples and analytically for comparative purposes."
   ]
  },
  {
   "cell_type": "code",
   "execution_count": 1,
   "id": "ea22d8f6-3ec9-4796-a925-37b492701744",
   "metadata": {},
   "outputs": [],
   "source": [
    "import sys\n",
    "sys.path.insert(1, '../effective-spin-priors')\n",
    "sys.path.insert(1, '../populations/utils')"
   ]
  },
  {
   "cell_type": "code",
   "execution_count": 2,
   "id": "b908c322-a712-48ec-a07b-3f27fed00d23",
   "metadata": {},
   "outputs": [],
   "source": [
    "import h5py\n",
    "import numpy as np\n",
    "import pandas as pd\n",
    "import os\n",
    "\n",
    "import matplotlib.pyplot as plt\n",
    "\n",
    "from astropy import cosmology\n",
    "from astropy.cosmology import z_at_value\n",
    "import astropy.units as u\n",
    "cosmo = cosmology.Planck15\n",
    "\n",
    "from scipy.interpolate import UnivariateSpline\n",
    "from scipy.stats import gaussian_kde\n",
    "from tqdm import tqdm\n",
    "\n",
    "import bilby\n",
    "\n",
    "sys.path.append('../')\n",
    "from populations.utils import bounded_Nd_kde\n",
    "from effectivespinpriors.priors import chi_effective_prior_from_isotropic_spins"
   ]
  },
  {
   "cell_type": "code",
   "execution_count": 3,
   "id": "2afe4b9d-6c86-49b6-9d71-0981124a8231",
   "metadata": {},
   "outputs": [
    {
     "data": {
      "text/plain": [
       "\"gw_names_path = '/home/april.cheng/modelselect/data/gw_names.txt'\\nwith open(gw_names_path, 'r') as f:\\n    gw_names = [line.strip() for line in f.readlines()]\\n\\nprint(gw_names)\""
      ]
     },
     "execution_count": 3,
     "metadata": {},
     "output_type": "execute_result"
    }
   ],
   "source": [
    "output_directory = '/data/wiay/2297403c/amaze_model_select/AMAZE_model_selection/notebooks/gwtc3_events_reprocessed'\n",
    "removed_events_directory = '/data/wiay/2297403c/amaze_model_select/AMAZE_model_selection/notebooks/gwtc3_events_reprocessed/removed'\n",
    "\n",
    "#where PE files are stored\n",
    "GWTC21_path = '/data/wiay/pe_samples_releases/gwtc2.1'\n",
    "GWTC3_path = '/data/wiay/pe_samples_releases/gwtc3'\n",
    "\n",
    "#all GWs with FAR < 1/yr\n",
    "\"\"\"gw_names_path = '/home/april.cheng/modelselect/data/gw_names.txt'\n",
    "with open(gw_names_path, 'r') as f:\n",
    "    gw_names = [line.strip() for line in f.readlines()]\n",
    "\n",
    "print(gw_names)\"\"\""
   ]
  },
  {
   "cell_type": "code",
   "execution_count": 4,
   "id": "6c802dbb",
   "metadata": {},
   "outputs": [],
   "source": [
    "gw_names =['GW150914_095045', 'GW151012_095443', 'GW151226_033853', 'GW170104_101158', 'GW170608_020116', 'GW170729_185629', 'GW170809_082821', 'GW170814_103043', 'GW170818_022509', 'GW170823_131358', 'GW190408_181802', 'GW190412_053044', 'GW190413_134308', 'GW190421_213856', 'GW190503_185404', 'GW190512_180714', 'GW190513_205428', 'GW190517_055101', 'GW190519_153544', 'GW190521_030229', 'GW190521_074359', 'GW190527_092055', 'GW190602_175927', 'GW190620_030421', 'GW190630_185205', 'GW190701_203306', 'GW190706_222641', 'GW190707_093326', 'GW190708_232457', 'GW190720_000836', 'GW190727_060333', 'GW190728_064510', 'GW190803_022701', 'GW190828_063405', 'GW190828_065509', 'GW190910_112807', 'GW190915_235702', 'GW190924_021846', 'GW190925_232845', 'GW190929_012149', 'GW190930_133541', 'GW191105_143521', 'GW191109_010717', 'GW191127_050227', 'GW191129_134029', 'GW191204_171526', 'GW191215_223052', 'GW191216_213338', 'GW191222_033537', 'GW191230_180458', 'GW200112_155838', 'GW200128_022011', 'GW200129_065458', 'GW200202_154313', 'GW200208_130117', 'GW200209_085452', 'GW200219_094415', 'GW200224_222234', 'GW200225_060421', 'GW200302_015811', 'GW200311_115853', 'GW200316_215756', 'GW190413_052954', 'GW190719_215514', 'GW190725_174728', 'GW190731_140936', 'GW190805_211137', 'GW191103_012549', 'GW200216_220804']"
   ]
  },
  {
   "cell_type": "code",
   "execution_count": 5,
   "id": "56656fdb-4b22-4a14-9a33-2e6a0c9b2f77",
   "metadata": {},
   "outputs": [],
   "source": [
    "# create interpolant for determining redshifts from luminosity distances\n",
    "dL_max = 20000 # Mpc\n",
    "dL_vals = np.logspace(-4, np.log10(dL_max), 10000)\n",
    "redshift_vals = np.asarray([z_at_value(cosmo.luminosity_distance, dL*u.Mpc) for dL in dL_vals])\n",
    "z_from_dL = UnivariateSpline(dL_vals, redshift_vals)\n",
    "dzdL_from_dL = z_from_dL.derivative()\n",
    "\n",
    "def dL_to_redshift(dL):\n",
    "    # Input distance in Mpc\n",
    "    # Use interpolant above to speed this up\n",
    "    return z_from_dL(dL)"
   ]
  },
  {
   "cell_type": "code",
   "execution_count": 6,
   "id": "29fd41e5-9f56-4b71-8e9a-eafdb094c9ca",
   "metadata": {},
   "outputs": [],
   "source": [
    "# conversion function\n",
    "\n",
    "def m1m2_to_mchirp(m1,m2):\n",
    "    return (m1*m2)**(3./5) / (m1+m2)**(1./5)\n",
    "\n",
    "def m1m2_to_mtot(m1,m2):\n",
    "    return m1+m2\n",
    "\n",
    "def m1m2_to_q(m1,m2):\n",
    "    # q is defined as m2/m1 with m2<=m1\n",
    "    q = m2/m1\n",
    "    pos_idxs = np.argwhere(q > 1)\n",
    "    q[pos_idxs] = m1[pos_idxs]/m2[pos_idxs]\n",
    "    return q\n",
    "\n",
    "def m1m2_to_eta(m1,m2):\n",
    "    eta = (m1*m2) / (m1+m2)**2\n",
    "    return eta\n",
    "\n",
    "def components_to_chieff(m1,m2,a1,a2,costilt1,costilt2):\n",
    "    return (m1*a1*costilt1 + m2*a2*costilt2) / (m1+m2)\n",
    "\n",
    "def prob(priors, sample): #why is this not predefined in bilby lmfao\n",
    "    return np.prod(np.array([priors[key].prob(sample[key]) for key in sample]), axis = 0)"
   ]
  },
  {
   "cell_type": "code",
   "execution_count": 7,
   "id": "e7ace6e2-eee0-4bc2-ae1c-19330af1319e",
   "metadata": {},
   "outputs": [],
   "source": [
    "np.random.seed(101) #set for reproducability"
   ]
  },
  {
   "cell_type": "markdown",
   "id": "28c6c9ca-72fb-4847-be43-fbd32a9a8030",
   "metadata": {
    "tags": []
   },
   "source": [
    "## GWTC-2.1"
   ]
  },
  {
   "cell_type": "code",
   "execution_count": 8,
   "id": "24181c71-3106-4387-9ba6-29d8bdc3a480",
   "metadata": {
    "tags": []
   },
   "outputs": [
    {
     "name": "stdout",
     "output_type": "stream",
     "text": [
      "GW150914_095045\n",
      "GW151012_095443\n",
      "GW151226_033853\n",
      "GW170104_101158\n",
      "GW170608_020116\n",
      "GW170729_185629\n",
      "GW170809_082821\n",
      "GW170814_103043\n",
      "GW170818_022509\n",
      "GW170823_131358\n",
      "GW190408_181802\n",
      "GW190412_053044\n",
      "GW190413_052954\n",
      "GW190413_134308\n",
      "GW190421_213856\n",
      "GW190503_185404\n",
      "GW190512_180714\n",
      "GW190513_205428\n",
      "GW190517_055101\n",
      "GW190519_153544\n",
      "GW190521_030229\n",
      "GW190521_074359\n",
      "GW190527_092055\n",
      "GW190602_175927\n",
      "GW190620_030421\n",
      "GW190630_185205\n",
      "GW190701_203306\n",
      "GW190706_222641\n",
      "GW190707_093326\n",
      "GW190708_232457\n",
      "GW190719_215514\n",
      "GW190720_000836\n",
      "GW190725_174728\n",
      "GW190727_060333\n",
      "GW190728_064510\n",
      "GW190731_140936\n",
      "GW190803_022701\n",
      "GW190805_211137\n",
      "GW190828_063405\n",
      "GW190828_065509\n",
      "GW190910_112807\n",
      "GW190915_235702\n",
      "GW190924_021846\n",
      "GW190925_232845\n",
      "GW190929_012149\n",
      "GW190930_133541\n"
     ]
    }
   ],
   "source": [
    "no_prior = [] #some samples have no analytic prior given; do these later separately\n",
    "prior_params = ['mass_1', 'mass_2', 'chirp_mass', 'mass_ratio', 'luminosity_distance']\n",
    "prior_params_z = ['mass_1', 'mass_2', 'chirp_mass', 'mass_ratio', 'redshift']\n",
    "no_prior_2=[]\n",
    "\n",
    "for path in ([GWTC21_path]):\n",
    "    \n",
    "    os.chdir(path)\n",
    "\n",
    "    for filename in sorted(os.listdir(path)):\n",
    "        gw_name = filename.split('-')[-1].split('_PE')[0]\n",
    "        \"\"\"if gw_name+'.hdf5' in os.listdir(output_directory):\n",
    "            print(f'skipping {gw_name} - done')\n",
    "            continue\"\"\"\n",
    "\n",
    "        #use uniform comoving volume prior\n",
    "        if 'nocosmo' in filename or 'prior' in filename or 'skymap' in filename:\n",
    "            continue \n",
    "\n",
    "        if gw_name in gw_names: #only use confident BBHs\n",
    "\n",
    "            print(gw_name)\n",
    "\n",
    "            with h5py.File(filename, 'r') as f:\n",
    "\n",
    "                #some events are missing priors (data release error)\n",
    "                #we run these events here as we use the same prior for each event now\n",
    "\n",
    "                \"\"\"if 'analytic' not in f['C01:IMRPhenomXPHM']['priors'].keys(): \n",
    "                    no_prior_2.append(gw_name)\n",
    "                    print(f'skipping {gw_name} - no prior')\n",
    "                    continue\"\"\"\n",
    "\n",
    "                #read in PE samples\n",
    "                df = pd.DataFrame(np.asarray(f['C01:Mixed']['posterior_samples'])) \n",
    "\n",
    "                # luminosity distance and redshift\n",
    "                dL = np.asarray(df['luminosity_distance'])\n",
    "                z = np.asarray(df['redshift'])\n",
    "\n",
    "                # chirp mass and total mass (source frame)\n",
    "                m1_src = np.asarray(df['mass_1_source'])\n",
    "                m2_src = np.asarray(df['mass_2_source'])\n",
    "                mchirp = np.asarray(df['chirp_mass_source'])\n",
    "                mtot = np.asarray(df['total_mass_source'])\n",
    "\n",
    "                # q and eta\n",
    "                q = np.asarray(df['mass_ratio'])\n",
    "                eta = np.asarray(df['symmetric_mass_ratio'])\n",
    "\n",
    "                # chieff\n",
    "                chieff = components_to_chieff(m1_src, m2_src, np.asarray(df['a_1']), np.asarray(df['a_2']), \\\n",
    "                                              np.asarray(df['cos_tilt_1']), np.asarray(df['cos_tilt_2']))\n",
    "\n",
    "                new_df = pd.DataFrame({'m1':m1_src, 'm2':m2_src, 'mchirp':mchirp, 'mtot':mtot, 'q':q, 'eta':eta, \n",
    "                                       'chieff':chieff, 'dL':dL, 'z':z})         \n",
    "\n",
    "                # calculate prior at posterior points\n",
    "                with open(f'{output_directory}/prior_func/' + gw_name+'_prior.prior', 'w') as prior_f:\n",
    "                    \"\"\"\n",
    "                    a_max = float(f['C01:IMRPhenomXPHM']['priors']['analytic']['a_1'][0].\\\n",
    "                                  decode('UTF8').split('maximum=')[1].split(',')[0])\n",
    "                    for param in prior_params:\n",
    "                        if param in ['chirp_mass', 'mass_ratio']:\n",
    "                            prior_f.write(param + ' = bilby.gw.prior.' + \n",
    "                                          f['C01:IMRPhenomXPHM']['priors']['analytic'][param][0].decode('UTF8') + '\\n')\n",
    "                        else:\n",
    "                            prior_f.write(param + ' = ' + \n",
    "                                          f['C01:IMRPhenomXPHM']['priors']['analytic'][param][0].decode('UTF8') + '\\n')\n",
    "                                            \"\"\"\n",
    "                    a_max = 0.99\n",
    "                    for param in prior_params:\n",
    "                        if param in ['chirp_mass']:\n",
    "                            prior_f.write(param + ' = bilby.gw.prior.UniformInComponentsChirpMass(minimum=4., maximum=200., boundary=None) \\n')\n",
    "                        elif param in ['mass_1', 'mass_2']:\n",
    "                            prior_f.write(param + ' = Constraint(minimum=1, maximum=1000) \\n')\n",
    "                        elif param == 'mass_ratio':\n",
    "                             prior_f.write(param + ' = bilby.gw.prior.UniformInComponentsMassRatio(minimum=0.05, maximum=1.0) \\n')\n",
    "                        else:\n",
    "                            prior_f.write(param + ' = PowerLaw(alpha=2, minimum=1, maximum=20000) \\n')\n",
    "\n",
    "\n",
    "            priors = bilby.core.prior.PriorDict(filename=f'{output_directory}/prior_func/{gw_name}_prior.prior')\n",
    "\n",
    "            ld_min = priors['luminosity_distance'].minimum\n",
    "            ld_max = priors['luminosity_distance'].maximum\n",
    "            z_min = dL_to_redshift(ld_min)\n",
    "            z_max = dL_to_redshift(ld_max)\n",
    "\n",
    "            priors.pop('luminosity_distance')\n",
    "            priors['redshift'] = bilby.gw.prior.UniformSourceFrame(z_min, z_max, name='redshift')\n",
    "\n",
    "            p = prob(priors, df[prior_params_z]) #mchirp_det, q, z\n",
    "\n",
    "            p *= (1 + new_df['z']) #mchirp_det to mchirp_source jacobian\n",
    "\n",
    "            # apply chieff jacobian from tcallister's github\n",
    "            p_chieffs = []\n",
    "            for q_i, chieff_i in zip(new_df['q'], new_df['chieff']):\n",
    "                p_chieffs.append(chi_effective_prior_from_isotropic_spins(q_i, a_max, chieff_i)[0]) #p(chieff | q)\n",
    "            p *= np.array(p_chieffs)\n",
    "\n",
    "            new_df['p_theta_jcb'] = p\n",
    "            \n",
    "            if np.any(p==0.):\n",
    "                    print(f'0 prior in {gw_name}')\n",
    "                    plt.hist(p_chieffs)\n",
    "\n",
    "            new_df.to_hdf(os.path.join(output_directory,gw_name+'.hdf5'), key='combined')\n",
    "\n",
    "# remove GW190521\n",
    "os.rename(os.path.join(output_directory, 'GW190521_030229.hdf5'), os.path.join(removed_events_directory, 'GW190521_030229.hdf5'))"
   ]
  },
  {
   "cell_type": "markdown",
   "id": "eb34405c-8c58-474a-a012-2efad35b2da9",
   "metadata": {
    "tags": []
   },
   "source": [
    "## GWTC-3"
   ]
  },
  {
   "cell_type": "code",
   "execution_count": 9,
   "id": "f54f62e7-cb92-43a9-879f-5ef7e8bb4027",
   "metadata": {},
   "outputs": [
    {
     "name": "stdout",
     "output_type": "stream",
     "text": [
      "GW191103_012549\n",
      "GW191105_143521\n",
      "GW191109_010717\n",
      "GW191127_050227\n",
      "GW191129_134029\n",
      "GW191204_171526\n",
      "GW191215_223052\n",
      "GW191216_213338\n",
      "GW191222_033537\n",
      "GW191230_180458\n",
      "GW200112_155838\n",
      "GW200128_022011\n",
      "GW200129_065458\n",
      "GW200202_154313\n",
      "GW200208_130117\n",
      "GW200209_085452\n",
      "GW200216_220804\n",
      "GW200219_094415\n",
      "GW200224_222234\n",
      "GW200225_060421\n",
      "GW200302_015811\n",
      "GW200311_115853\n",
      "GW200316_215756\n"
     ]
    }
   ],
   "source": [
    "no_prior_3 = [] #some samples have no analytic prior given; do these later separately\n",
    "prior_params = ['mass_1', 'mass_2', 'chirp_mass', 'mass_ratio', 'luminosity_distance']\n",
    "prior_params_z = ['mass_1', 'mass_2', 'chirp_mass', 'mass_ratio', 'redshift']\n",
    "\n",
    "os.chdir(GWTC3_path)\n",
    "\n",
    "for filename in sorted(os.listdir(GWTC3_path)):\n",
    "    \n",
    "    gw_name = filename.split('-')[-1].split('_PE')[0]\n",
    "    #use uniform comoving volume prior, exclude GW190521_030229\n",
    "    if 'nocosmo' in filename or 'prior' in filename or 'GW190521_030229' in filename:\n",
    "        continue \n",
    "\n",
    "    if gw_name in gw_names: #only use confident BBHs\n",
    "\n",
    "        print(gw_name)\n",
    "        \n",
    "        calc_p_theta = False\n",
    "        calc_p_theta_jcb = True\n",
    "        \n",
    "        with h5py.File(filename, 'r') as f:\n",
    "            \n",
    "            \"\"\"if 'analytic' not in f['C01:IMRPhenomXPHM']['priors'].keys(): #some events are missing priors for some reason\n",
    "                no_prior_3.append(gw_name)\n",
    "                print(f'skipping {gw_name} - no prior')\n",
    "                continue\"\"\"\n",
    "            \n",
    "            #get posterior samples\n",
    "            \n",
    "            if gw_name+'.hdf5' in os.listdir(output_directory):\n",
    "                new_df = pd.read_hdf(os.path.join(output_directory, gw_name+'.hdf5'))\n",
    "                \n",
    "                redshift = np.array(new_df['z'])\n",
    "                mass_1 = np.array(new_df['m1']) * (1 + redshift) #get detector frame\n",
    "                mass_2 = np.asarray(new_df['m2']) * (1 + redshift)\n",
    "                chirp_mass = np.array(new_df['mchirp']) * (1 + redshift)\n",
    "                mass_ratio = np.array(new_df['q'])\n",
    "                df = pd.DataFrame({'mass_1': mass_1, 'mass_2': mass_2, 'chirp_mass': chirp_mass, 'mass_ratio': mass_ratio, 'redshift': redshift})\n",
    "                \n",
    "            else:\n",
    "                df = pd.DataFrame(np.asarray(f['C01:Mixed']['posterior_samples'])) \n",
    "                if len(df) > 10000:\n",
    "                    df = df.sample(10000) #cap at 10000 posterior samples\n",
    "\n",
    "                # luminosity distance and redshift\n",
    "                dL = np.asarray(df['luminosity_distance'])\n",
    "                z = np.asarray(df['redshift'])\n",
    "\n",
    "                # chirp mass and total mass (source frame)\n",
    "                m1_src = np.asarray(df['mass_1_source'])\n",
    "                m2_src = np.asarray(df['mass_2_source'])\n",
    "                mchirp = np.asarray(df['chirp_mass_source'])\n",
    "                mtot = np.asarray(df['total_mass_source'])\n",
    "\n",
    "                # q and eta\n",
    "                q = np.asarray(df['mass_ratio'])\n",
    "                eta = np.asarray(df['symmetric_mass_ratio'])\n",
    "\n",
    "                # chieff\n",
    "                chieff = components_to_chieff(m1_src, m2_src, np.asarray(df['a_1']), np.asarray(df['a_2']), \\\n",
    "                                              np.asarray(df['cos_tilt_1']), np.asarray(df['cos_tilt_2']))\n",
    "                \n",
    "                new_df = pd.DataFrame({'m1':m1_src, 'm2':m2_src, 'mchirp':mchirp, 'mtot':mtot, 'q':q, 'eta':eta, \n",
    "                                       'chieff':chieff, 'dL':dL, 'z':z})         \n",
    "                \n",
    "            # get prior\n",
    "\n",
    "            prior = pd.DataFrame()\n",
    "            for key in f['C01:IMRPhenomXPHM']['priors']['samples'].keys():\n",
    "                if 'recalib' in key:\n",
    "                    continue\n",
    "                prior[key] = np.asarray(f['C01:IMRPhenomXPHM']['priors']['samples'][key]) \n",
    "            \n",
    "            #get p_theta from KDE\n",
    "            \n",
    "            if calc_p_theta:\n",
    "\n",
    "                X = np.atleast_2d([prior['chirp_mass_source'],prior['mass_ratio'],prior['chi_eff'],prior['redshift']])\n",
    "                Bounds = np.atleast_2d([(prior['chirp_mass_source'].min(),prior['chirp_mass_source'].max()), \n",
    "                                        (prior['mass_ratio'].min(),prior['mass_ratio'].max()),\n",
    "                                        (prior['chi_eff'].min(),prior['chi_eff'].max()), (prior['redshift'].min(),prior['redshift'].max())])\n",
    "\n",
    "                prior_kde = bounded_Nd_kde.Bounded_Nd_kde(X, bounds=Bounds, bw_method=0.05)\n",
    "\n",
    "                p_theta = []\n",
    "                post_samples = np.atleast_2d([np.asarray(df_new['mchirp']), \n",
    "                                              np.asarray(df_new['q']),\n",
    "                                              np.asarray(df_new['chieff']),\n",
    "                                              np.asarray(df_new['z'])])\n",
    "                for p in tqdm(post_samples.T):\n",
    "                    p_theta.append(prior_kde(np.atleast_2d(p).T))\n",
    "                p_theta = np.asarray([item for sublist in p_theta for item in sublist])\n",
    "\n",
    "                new_df['p_theta'] = p_theta\n",
    "\n",
    "            #get p_theta analytically if possible\n",
    "\n",
    "            if calc_p_theta_jcb:\n",
    "\n",
    "                with open(f'{output_directory}/prior_func/{gw_name}_prior.prior', 'w') as prior_f:\n",
    "                    \"\"\"\n",
    "                    a_max = float(f['C01:IMRPhenomXPHM']['priors']['analytic']['a_1'][0].decode('UTF8').split('maximum=')[1].split(',')[0])\n",
    "                    for param in prior_params:\n",
    "                        if param in ['chirp_mass', 'mass_ratio']:\n",
    "                            prior_f.write(param + ' = bilby.gw.prior.' + f['C01:IMRPhenomXPHM']['priors']['analytic'][param][0].decode('UTF8') + '\\n')\n",
    "                        else:\n",
    "                            prior_f.write(param + ' = ' + f['C01:IMRPhenomXPHM']['priors']['analytic'][param][0].decode('UTF8') + '\\n')\n",
    "                            \"\"\"\n",
    "                    a_max = 0.99\n",
    "                    for param in prior_params:\n",
    "                        if param in ['chirp_mass']:\n",
    "                            prior_f.write(param + ' = bilby.gw.prior.UniformInComponentsChirpMass(minimum=4., maximum=200., boundary=None) \\n')\n",
    "                        elif param in ['mass_1', 'mass_2']:\n",
    "                            prior_f.write(param + ' = Constraint(minimum=1, maximum=1000) \\n')\n",
    "                        elif param == 'mass_ratio':\n",
    "                             prior_f.write(param + ' = bilby.gw.prior.UniformInComponentsMassRatio(minimum=0.05, maximum=1.0) \\n')\n",
    "                        else:\n",
    "                            prior_f.write(param + ' = PowerLaw(alpha=2, minimum=1, maximum=20000) \\n')\n",
    "\n",
    "                priors = bilby.core.prior.PriorDict(filename=f'{output_directory}/prior_func/{gw_name}_prior.prior')\n",
    "\n",
    "                ld_min = priors['luminosity_distance'].minimum\n",
    "                ld_max = priors['luminosity_distance'].maximum\n",
    "                z_min = dL_to_redshift(ld_min)\n",
    "                z_max = dL_to_redshift(ld_max)\n",
    "\n",
    "                priors.pop('luminosity_distance')\n",
    "                priors['redshift'] = bilby.gw.prior.UniformSourceFrame(z_min, z_max, name='redshift')\n",
    "                \n",
    "\n",
    "                p = prob(priors, df[prior_params_z]) #mchirp_det, q, z\n",
    "\n",
    "                p *= (1 + new_df['z']) #mchirp_det to mchirp_source jacobian\n",
    "\n",
    "                #get chieff prior from tcallister\n",
    "\n",
    "                p_chieffs = []\n",
    "                for q_i, chieff_i in zip(new_df['q'], new_df['chieff']):\n",
    "                    p_chieffs.append(chi_effective_prior_from_isotropic_spins(q_i, a_max, chieff_i)[0]) #p(chieff | q)\n",
    "\n",
    "                p *= np.array(p_chieffs)\n",
    "\n",
    "                new_df['p_theta_jcb'] = p\n",
    "\n",
    "                if np.any(p==0.):\n",
    "                    print(f'0 prior in {gw_name}')\n",
    "                    plt.hist(p_chieffs)\n",
    "            \n",
    "        new_df.to_hdf(os.path.join(output_directory,gw_name+'.hdf5'), key='combined')"
   ]
  },
  {
   "cell_type": "markdown",
   "id": "fae600fd",
   "metadata": {},
   "source": [
    "## Check that there are no p_theta_jcb=0 samples"
   ]
  },
  {
   "cell_type": "code",
   "execution_count": 10,
   "id": "397c519a",
   "metadata": {},
   "outputs": [],
   "source": [
    "import glob as glob\n",
    "gw_path=\"/data/wiay/2297403c/amaze_model_select/AMAZE_model_selection/gwtc3_events/events_prior_reprocessed\"\n",
    "params = ['mchirp', 'q', 'chieff', 'z']\n",
    "\n",
    "def plot_0prior_samps(gw_path):\n",
    "    for filename in sorted(os.listdir(gw_path)):\n",
    "        gw = pd.read_hdf(gw_path+ '/'+filename)\n",
    "        prior = gw['p_theta_jcb']\n",
    "\n",
    "        if np.any(prior==0.):\n",
    "            fig,ax=plt.subplots(1,4)\n",
    "            for i in range(4):\n",
    "                ax[i].scatter(np.array(gw[params[i]])[prior==0.], 0.2*np.ones(len(np.array(gw[params[i]])[prior==0.])), s=1.)\n",
    "                ax[i].hist(gw[params[i]], bins=40,alpha=0.2, density=True)\n",
    "            print(filename)\n",
    "            print(np.min(prior))\n",
    "            print(np.array(gw['z'])[prior==0.])\n",
    "            print(np.array(gw['dL'])[prior==0.])\n",
    "        #plt.hist(np.log(prior), bins=40, range=(-30,0), alpha=0.5)\n",
    "\n",
    "def plot_0prior_samps_2d(gw_path, params):\n",
    "    for filename in sorted(os.listdir(gw_path)):\n",
    "        gw = pd.read_hdf(gw_path+ '/'+filename)\n",
    "        prior = gw['p_theta_jcb']\n",
    "\n",
    "        if np.any(prior==0.):\n",
    "            fig,ax=plt.subplots(1,1)\n",
    "            ax.scatter(np.array(gw[params[0]])[prior==0.], np.array(gw[params[1]])[prior==0.], s=1.)\n",
    "            ax.hist2d(gw[params[0]], gw[params[1]], bins=40,alpha=0.5, density=True)\n",
    "            print(filename)\n",
    "        #plt.hist(np.log(prior), bins=40, range=(-30,0), alpha=0.5)"
   ]
  },
  {
   "cell_type": "code",
   "execution_count": 11,
   "id": "30a42c47",
   "metadata": {},
   "outputs": [],
   "source": [
    "plot_0prior_samps('/data/wiay/2297403c/amaze_model_select/AMAZE_model_selection/notebooks/gwtc3_events_reprocessed/events')"
   ]
  },
  {
   "cell_type": "code",
   "execution_count": 17,
   "id": "877f97a5",
   "metadata": {},
   "outputs": [
    {
     "name": "stdout",
     "output_type": "stream",
     "text": [
      "GW190719_215514.hdf5\n",
      "GW190805_211137.hdf5\n",
      "GW191127_050227.hdf5\n"
     ]
    },
    {
     "data": {
      "image/png": "[encoded data removed]",
      "text/plain": [
       "<Figure size 640x480 with 1 Axes>"
      ]
     },
     "metadata": {},
     "output_type": "display_data"
    },
    {
     "data": {
      "image/png": "[encoded data removed]",
      "text/plain": [
       "<Figure size 640x480 with 1 Axes>"
      ]
     },
     "metadata": {},
     "output_type": "display_data"
    },
    {
     "data": {
      "image/png": "[encoded data removed]",
      "text/plain": [
       "<Figure size 640x480 with 1 Axes>"
      ]
     },
     "metadata": {},
     "output_type": "display_data"
    }
   ],
   "source": [
    "plot_0prior_samps_2d('/data/wiay/2297403c/amaze_model_select/AMAZE_model_selection/notebooks/gwtc3_events_reprocessed/events', ['m1','m2'])"
   ]
  },
  {
   "cell_type": "markdown",
   "id": "14b94584-a53e-4577-ab10-44f49f7ee6ba",
   "metadata": {},
   "source": [
    "## Events that are missing analytical prior"
   ]
  },
  {
   "cell_type": "markdown",
   "id": "7b13bd6f-a2ae-4185-bf01-be91aa06cf38",
   "metadata": {},
   "source": [
    "I ended up getting the priors from each event's repo:\n",
    "\n",
    "- GW170608_020116 - https://git.ligo.org/pe/O2/GW170608/-/blob/master/C01_offline/ProdF13.prior \n",
    "- GW190707_093326 - https://git.ligo.org/pe/O3/S190707q/-/blob/master/C01_offline/ProdF9.prior \n",
    "- GW190720_000836 - https://git.ligo.org/pe/O3/S190720a/-/blob/master/C01_offline/ProdF11.prior\n",
    "- GW190725_174728 - https://git.ligo.org/pe/O3/S190725t/-/blob/master/C01_offline/ProdF15.prior\n",
    "- GW190728_064510 - https://git.ligo.org/pe/O3/S190728q/-/blob/master/C01_offline/ProdF5.prior\n",
    "- GW190924_021846 - https://git.ligo.org/pe/O3/S190924h/-/blob/master/C01_offline/ProdF7.prior"
   ]
  },
  {
   "cell_type": "code",
   "execution_count": 8,
   "id": "23186b83-8b20-45a7-902e-ec5cf9fcd489",
   "metadata": {},
   "outputs": [],
   "source": [
    "no_prior = ['GW170608_020116',\n",
    " 'GW190707_093326',\n",
    " 'GW190720_000836',\n",
    " 'GW190725_174728',\n",
    " 'GW190728_064510',\n",
    " 'GW190924_021846']"
   ]
  },
  {
   "cell_type": "code",
   "execution_count": 9,
   "id": "a9604265-cce0-4771-907c-6d990f8a949c",
   "metadata": {},
   "outputs": [],
   "source": [
    "os.chdir(GWTC21_path)"
   ]
  },
  {
   "cell_type": "code",
   "execution_count": 49,
   "id": "8ac87c2a-7490-48a2-a748-b3d83f4bf7ef",
   "metadata": {},
   "outputs": [
    {
     "name": "stdout",
     "output_type": "stream",
     "text": [
      "GW170608_020116\n",
      "GW190707_093326\n",
      "GW190720_000836\n",
      "GW190725_174728\n",
      "GW190728_064510\n",
      "GW190924_021846\n"
     ]
    }
   ],
   "source": [
    "prior_params_z = ['mass_1', 'mass_2', 'chirp_mass', 'mass_ratio', 'redshift']\n",
    "\n",
    "for gw_name in no_prior:\n",
    "    \n",
    "    print(gw_name)\n",
    "    \n",
    "    with h5py.File(f'IGWN-GWTC2p1-v2-{gw_name}_PEDataRelease_mixed_cosmo.h5') as f:\n",
    "        df = pd.DataFrame(np.asarray(f['C01:Mixed']['posterior_samples'])) \n",
    "\n",
    "    # luminosity distance and redshift\n",
    "    dL = np.asarray(df['luminosity_distance'])\n",
    "    z = np.asarray(df['redshift'])\n",
    "\n",
    "    # chirp mass and total mass (source frame)\n",
    "    m1_src = np.asarray(df['mass_1_source'])\n",
    "    m2_src = np.asarray(df['mass_2_source'])\n",
    "    mchirp = np.asarray(df['chirp_mass_source'])\n",
    "    mtot = np.asarray(df['total_mass_source'])\n",
    "\n",
    "    # q and eta\n",
    "    q = np.asarray(df['mass_ratio'])\n",
    "    eta = np.asarray(df['symmetric_mass_ratio'])\n",
    "\n",
    "    # chieff\n",
    "    chieff = components_to_chieff(m1_src, m2_src, np.asarray(df['a_1']), np.asarray(df['a_2']), \\\n",
    "                                  np.asarray(df['cos_tilt_1']), np.asarray(df['cos_tilt_2']))\n",
    "\n",
    "    new_df = pd.DataFrame({'m1':m1_src, 'm2':m2_src, 'mchirp':mchirp, 'mtot':mtot, 'q':q, 'eta':eta, \n",
    "                           'chieff':chieff, 'dL':dL, 'z':z})  \n",
    "    \n",
    "    bb_priors = bilby.core.prior.PriorDict(filename=f'{gw_name}_prior.prior')\n",
    "    \n",
    "    z_min = dL_to_redshift(bb_priors['luminosity_distance'].minimum)\n",
    "    z_max = dL_to_redshift(bb_priors['luminosity_distance'].maximum)\n",
    "    a_max = bb_priors['a_1'].maximum\n",
    "\n",
    "    bb_priors.pop('luminosity_distance')\n",
    "    bb_priors['redshift'] = bilby.gw.prior.UniformSourceFrame(z_min, z_max, name='redshift')\n",
    "\n",
    "    priors = bilby.core.prior.PriorDict()\n",
    "    for param in prior_params_z:\n",
    "        priors[param] = bb_priors[param]\n",
    "\n",
    "    p = prob(priors, df[prior_params_z]) #mchirp_det, q, z\n",
    "\n",
    "    p *= (1 + new_df['z']) #mchirp_det to mchirp_source jacobian\n",
    "\n",
    "    #get chieff prior from tcallister\n",
    "\n",
    "    p_chieffs = []\n",
    "    for q_i, chieff_i in zip(new_df['q'], new_df['chieff']):\n",
    "        p_chieffs.append(chi_effective_prior_from_isotropic_spins(q_i, a_max, chieff_i)[0]) #p(chieff | q)\n",
    "\n",
    "    p *= np.array(p_chieffs)\n",
    "\n",
    "    new_df['p_theta_jcb'] = p\n",
    "    \n",
    "    new_df.to_hdf(os.path.join(output_directory,gw_name+'.hdf5'), key='combined')"
   ]
  },
  {
   "cell_type": "markdown",
   "id": "655fe915-c5d7-4ce0-a304-7971c6166060",
   "metadata": {
    "jp-MarkdownHeadingCollapsed": true,
    "tags": []
   },
   "source": [
    "## Check if the analytical priors I used are good"
   ]
  },
  {
   "cell_type": "code",
   "execution_count": 74,
   "id": "a9fabc3a-1031-4f96-9a4d-b0aeefeb5546",
   "metadata": {},
   "outputs": [],
   "source": [
    "fns_2 = os.listdir(GWTC21_path)\n",
    "fns_3 = os.listdir(GWTC3_path)\n",
    "\n",
    "def check_mass_prior(gw_name):\n",
    "    \n",
    "    if any([gw_name in fn for fn in fns_2]):\n",
    "        os.chdir(GWTC21_path)\n",
    "        fn = f'IGWN-GWTC2p1-v2-{gw_name}_PEDataRelease_mixed_cosmo.h5'\n",
    "    elif any([gw_name in fn for fn in fns_3]):\n",
    "        os.chdir(GWTC3_path)\n",
    "        fn = f'IGWN-GWTC3p0-v1-{gw_name}_PEDataRelease_mixed_cosmo.h5'\n",
    "    else:\n",
    "        print('gw not found')\n",
    "        return\n",
    "        \n",
    "    with h5py.File(fn, 'r') as f:\n",
    "        m1 = np.asarray(f['C01:IMRPhenomXPHM']['priors']['samples']['mass_1']) \n",
    "        m2 = np.asarray(f['C01:IMRPhenomXPHM']['priors']['samples']['mass_2']) \n",
    "    \n",
    "    n = len(m1)\n",
    "    \n",
    "    fig, axes = plt.subplots(2, 1, figsize=(5,5), sharex=True, sharey=True)\n",
    "    _ = axes[0].hist2d(m1, m2, bins=50)\n",
    "    axes[0].set_aspect('equal', adjustable='box')\n",
    "        \n",
    "    bb_prior = bilby.gw.prior.BBHPriorDict(filename=gw_name+'_prior.prior')\n",
    "    bb_prior.pop('luminosity_distance')\n",
    "    bb_samples = bb_prior.sample(n)\n",
    "    m1, m2 = bilby.gw.conversion.chirp_mass_and_mass_ratio_to_component_masses(bb_samples['chirp_mass'], bb_samples['mass_ratio'])\n",
    "    \n",
    "    _ = axes[1].hist2d(m1, m2, bins=50)\n",
    "    axes[1].set_aspect('equal', adjustable='box')"
   ]
  },
  {
   "cell_type": "code",
   "execution_count": 75,
   "id": "ab19fc32-37c9-4dfb-98c3-e524c7624edb",
   "metadata": {},
   "outputs": [
    {
     "data": {
      "image/png": "[encoded data removed]",
      "text/plain": [
       "<Figure size 500x500 with 2 Axes>"
      ]
     },
     "metadata": {},
     "output_type": "display_data"
    }
   ],
   "source": [
    "check_mass_prior('GW191204_171526')"
   ]
  },
  {
   "cell_type": "code",
   "execution_count": 21,
   "id": "a807522b-9f75-4be5-9237-dd5f4956b374",
   "metadata": {},
   "outputs": [],
   "source": [
    "output_directory_old = '/home/april.cheng/modelselect/data/events_processed'"
   ]
  },
  {
   "cell_type": "code",
   "execution_count": 136,
   "id": "1f6c73ad-fa74-4add-a049-6ae5e22c5741",
   "metadata": {},
   "outputs": [],
   "source": [
    "bb_prior = bilby.gw.prior.BBHPriorDict({'mass_1': bilby.core.prior.base.Constraint(minimum=1, maximum=1000, name='mass_1'),\n",
    "                                      'mass_2': bilby.core.prior.base.Constraint(minimum=1, maximum=1000, name='mass_2'),\n",
    "                                      'chirp_mass': bilby.gw.prior.UniformInComponentsChirpMass(minimum=1, maximum=200, name='chirp_mass'),\n",
    "                                      'mass_ratio': bilby.gw.prior.UniformInComponentsMassRatio(minimum=0.05, maximum=1.0, name='chirp_mass'),\n",
    "                                      'luminosity_distance': bilby.core.prior.analytical.PowerLaw(alpha=2, minimum=10, maximum=10000, \n",
    "                                                                                                  name='luminosity_distance', unit='Mpc', boundary=None)})"
   ]
  },
  {
   "cell_type": "code",
   "execution_count": 137,
   "id": "095bee5c-a74c-422b-953a-199d2775ca42",
   "metadata": {},
   "outputs": [
    {
     "name": "stdout",
     "output_type": "stream",
     "text": [
      "{'mass_1': Constraint(minimum=3.277158996924418, maximum=36.37699425186862, name='mass_1', latex_label='$m_1$', unit=None), 'mass_2': Constraint(minimum=3.277158996924418, maximum=36.37699425186862, name='mass_2', latex_label='$m_2$', unit=None), 'chirp_mass': bilby.gw.prior.UniformInComponentsChirpMass(minimum=8.000008073998705, maximum=8.999787780377527, name='chirp_mass', latex_label='$\\\\mathcal{M}$', unit=None, boundary=None), 'mass_ratio': bilby.gw.prior.UniformInComponentsMassRatio(minimum=0.10005922733229014, maximum=0.9997064359951763, name='chirp_mass', latex_label='$q$', unit=None, boundary=None, equal_mass=False), 'luminosity_distance': PowerLaw(alpha=2, minimum=92.66753110539769, maximum=2031.8898693347667, name='luminosity_distance', latex_label='$d_L$', unit='Mpc', boundary=None)}\n"
     ]
    }
   ],
   "source": [
    "#in GWTC-1\n",
    "\n",
    "#get prior samples to set bounds\n",
    "\n",
    "with h5py.File('/home/april.cheng/modelselect/data/raw_data/GWTC-1/GW170608_GWTC-1.hdf5') as f:\n",
    "    prior = pd.DataFrame(np.array(f['prior']))\n",
    "\n",
    "prior['redshift'] = dL_to_redshift(prior['luminosity_distance_Mpc'])\n",
    "prior['mass_ratio'] = prior['m2_detector_frame_Msun']/prior['m1_detector_frame_Msun']\n",
    "prior['chirp_mass'] = m1m2_to_mchirp(prior['m1_detector_frame_Msun'], prior['m2_detector_frame_Msun'])\n",
    "prior['chi_eff'] = components_to_chieff(prior['m1_detector_frame_Msun'], prior['m2_detector_frame_Msun'], prior['spin1'], \n",
    "                                        prior['spin2'], prior['costilt1'], prior['costilt2'])\n",
    "\n",
    "#create bilby prior\n",
    "bb_prior['mass_1'].minimum = prior['m2_detector_frame_Msun'].min()\n",
    "bb_prior['mass_1'].maximum = prior['m1_detector_frame_Msun'].max()\n",
    "bb_prior['mass_2'].minimum = prior['m2_detector_frame_Msun'].min()\n",
    "bb_prior['mass_2'].maximum = prior['m1_detector_frame_Msun'].max()\n",
    "bb_prior['chirp_mass'].minimum = prior['chirp_mass'].min()\n",
    "bb_prior['chirp_mass'].maximum = prior['chirp_mass'].max()\n",
    "bb_prior['mass_ratio'].minimum = prior['mass_ratio'].min()\n",
    "bb_prior['mass_ratio'].maximum = prior['mass_ratio'].max()\n",
    "bb_prior['luminosity_distance'].minimum = prior['luminosity_distance_Mpc'].min()\n",
    "bb_prior['luminosity_distance'].maximum = prior['luminosity_distance_Mpc'].max()\n",
    "\n",
    "print(bb_prior)"
   ]
  },
  {
   "cell_type": "code",
   "execution_count": 138,
   "id": "4ef5b987-22b1-4fd7-b65f-fae436626a76",
   "metadata": {},
   "outputs": [
    {
     "data": {
      "image/png": "[encoded data removed]",
      "text/plain": [
       "<Figure size 500x500 with 2 Axes>"
      ]
     },
     "metadata": {},
     "output_type": "display_data"
    }
   ],
   "source": [
    "#check that the mass prior is correct\n",
    "fig, axes = plt.subplots(2, 1, figsize=(5,5), sharex=True, sharey=True)\n",
    "\n",
    "bb_samples = bb_prior.sample(len(prior))\n",
    "m1, m2 = bilby.gw.conversion.chirp_mass_and_mass_ratio_to_component_masses(bb_samples['chirp_mass'], bb_samples['mass_ratio'])\n",
    "_ = axes[0].hist2d(m1, m2, bins=50)\n",
    "axes[0].set_aspect('equal', adjustable='box')\n",
    "\n",
    "_ = axes[1].hist2d(prior['m1_detector_frame_Msun'], prior['m2_detector_frame_Msun'], bins=50)\n",
    "axes[1].set_aspect('equal', adjustable='box')"
   ]
  },
  {
   "cell_type": "code",
   "execution_count": 102,
   "id": "0c7eb248-8b73-46fd-b1c1-5723e8b4a4af",
   "metadata": {},
   "outputs": [
    {
     "data": {
      "image/png": "[encoded data removed]",
      "text/plain": [
       "<Figure size 640x480 with 1 Axes>"
      ]
     },
     "metadata": {},
     "output_type": "display_data"
    }
   ],
   "source": [
    "#check that luminosity distance prior is correct\n",
    "_ = plt.hist(prior['luminosity_distance_Mpc'], bins=50, alpha=0.5)\n",
    "_ = plt.hist(bb_samples['luminosity_distance'], bins=50, alpha=0.5)"
   ]
  },
  {
   "cell_type": "code",
   "execution_count": 126,
   "id": "f78198fd-9b69-4bbc-ae2f-32d84e4d0ff8",
   "metadata": {},
   "outputs": [],
   "source": [
    "new_df = pd.read_hdf(os.path.join(output_directory_old, 'GW170608.hdf5'))\n",
    "prior_params = ['mass_1', 'mass_2', 'chirp_mass', 'mass_ratio', 'luminosity_distance']\n",
    "\n",
    "luminosity_distance = np.array(new_df['dL'])\n",
    "redshift = np.array(new_df['z'])\n",
    "mass_1 = np.array(new_df['m1']) * (1 + redshift) #get detector frame\n",
    "mass_2 = np.asarray(new_df['m2']) * (1 + redshift)\n",
    "chirp_mass = np.array(new_df['mchirp']) * (1 + redshift)\n",
    "mass_ratio = np.array(new_df['q'])\n",
    "df = pd.DataFrame({'mass_1': mass_1, 'mass_2': mass_2, 'chirp_mass': chirp_mass, 'mass_ratio': mass_ratio, \n",
    "                   'redshift': redshift, 'luminosity_distance': luminosity_distance})\n",
    "\n",
    "p = prob(bb_prior, df[prior_params]) #mchirp_det, q, dL\n",
    "\n",
    "#apply jacobians\n",
    "\n",
    "p *= (1 + new_df['z']) #mchirp_det to mchirp_source jacobian\n",
    "p /= dzdL_from_dL(luminosity_distance) #P(z) = P(dL) * d(dL)/dz\n",
    "#get chieff prior from tcallister\n",
    "p_chieffs = []\n",
    "for q_i, chieff_i in zip(new_df['q'], new_df['chieff']):\n",
    "    p_chieffs.append(chi_effective_prior_from_isotropic_spins(q_i, a_max, chieff_i)[0]) #p(chieff | q)\n",
    "p *= np.array(p_chieffs)\n",
    "\n",
    "new_df['p_theta_jcb'] = p\n",
    "\n",
    "new_df.to_hdf(os.path.join(output_directory, 'GW170608_020116.hdf5'), key='combined')"
   ]
  }
 ],
 "metadata": {
  "kernelspec": {
   "display_name": "Python 3.10.12 ('amaze')",
   "language": "python",
   "name": "python3"
  },
  "language_info": {
   "codemirror_mode": {
    "name": "ipython",
    "version": 3
   },
   "file_extension": ".py",
   "mimetype": "text/x-python",
   "name": "python",
   "nbconvert_exporter": "python",
   "pygments_lexer": "ipython3",
   "version": "3.10.12"
  },
  "vscode": {
   "interpreter": {
    "hash": "05013be2d79c0e90f66cc6cc6fb2349c533de9d1dc87de817e9686faf5df3efe"
   }
  }
 },
 "nbformat": 4,
 "nbformat_minor": 5
}
