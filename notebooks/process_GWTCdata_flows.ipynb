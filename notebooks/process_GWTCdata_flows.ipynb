{
 "cells": [
  {
   "cell_type": "markdown",
   "id": "fb1648c5-ac9e-4864-92c5-4af60ba33c92",
   "metadata": {
    "tags": []
   },
   "source": [
    "# Process GWTC data"
   ]
  },
  {
   "cell_type": "markdown",
   "id": "4db1e1ac-63c1-4663-a298-0798053d6945",
   "metadata": {},
   "source": [
    "This notebook uses the PE samples from the GWTC-2.1 and GWTC-3 data release for use in model selection. p_theta_jcb is calculated analytically as in Cheng et al. 2023, while using a different d_L interpolation than Cheng et al. 2023 to ensure there are no p_theta=0 samples in the data. Last updated 21-10-2024, Modified from April's Process GWTC data NEW notebook"
   ]
  },
  {
   "cell_type": "code",
   "execution_count": 2,
   "id": "b908c322-a712-48ec-a07b-3f27fed00d23",
   "metadata": {},
   "outputs": [],
   "source": [
    "import h5py\n",
    "import numpy as np\n",
    "import pandas as pd\n",
    "import os\n",
    "import re\n",
    "\n",
    "import matplotlib.pyplot as plt\n",
    "\n",
    "from astropy import cosmology\n",
    "from astropy.cosmology import z_at_value\n",
    "import astropy.units as u\n",
    "cosmo = cosmology.Planck15\n",
    "\n",
    "from scipy.interpolate import UnivariateSpline\n",
    "from scipy.stats import gaussian_kde\n",
    "from tqdm import tqdm\n",
    "import bilby\n",
    "\n",
    "sys.path.append('../../AMAZE_project_resources/')\n",
    "from effectivespinpriors.priors import chi_effective_prior_from_isotropic_spins\n"
   ]
  },
  {
   "cell_type": "code",
   "execution_count": 3,
   "id": "2afe4b9d-6c86-49b6-9d71-0981124a8231",
   "metadata": {},
   "outputs": [
    {
     "name": "stdout",
     "output_type": "stream",
     "text": [
      "['GW150914_095045', 'GW151012_095443', 'GW151226_033853', 'GW170104_101158', 'GW170608_020116', 'GW170729_185629', 'GW170809_082821', 'GW170814_103043', 'GW170818_022509', 'GW170823_131358', 'GW190408_181802', 'GW190412_053044', 'GW190413_134308', 'GW190421_213856', 'GW190503_185404', 'GW190512_180714', 'GW190513_205428', 'GW190517_055101', 'GW190519_153544', 'GW190521_030229', 'GW190521_074359', 'GW190527_092055', 'GW190602_175927', 'GW190620_030421', 'GW190630_185205', 'GW190701_203306', 'GW190706_222641', 'GW190707_093326', 'GW190708_232457', 'GW190720_000836', 'GW190727_060333', 'GW190728_064510', 'GW190803_022701', 'GW190828_063405', 'GW190828_065509', 'GW190910_112807', 'GW190915_235702', 'GW190924_021846', 'GW190925_232845', 'GW190929_012149', 'GW190930_133541', 'GW191105_143521', 'GW191109_010717', 'GW191127_050227', 'GW191129_134029', 'GW191204_171526', 'GW191215_223052', 'GW191216_213338', 'GW191222_033537', 'GW191230_180458', 'GW200112_155838', 'GW200128_022011', 'GW200129_065458', 'GW200202_154313', 'GW200208_130117', 'GW200209_085452', 'GW200219_094415', 'GW200224_222234', 'GW200225_060421', 'GW200302_015811', 'GW200311_115853', 'GW200316_215756', 'GW190413_052954', 'GW190719_215514', 'GW190725_174728', 'GW190731_140936', 'GW190805_211137', 'GW191103_012549', 'GW200216_220804']\n"
     ]
    }
   ],
   "source": [
    "output_directory = '/data/wiay/2297403c/amaze_model_select/Nflows_AMAZE_paper/inputs/GWTC-3/events'\n",
    "removed_events_directory = '/data/wiay/2297403c/amaze_model_select/Nflows_AMAZE_paper/inputs/GWTC-3/removed'\n",
    "\n",
    "#where PE files are stored\n",
    "GWTC21_path = '/data/wiay/pe_samples_releases/gwtc2.1'\n",
    "GWTC3_path = '/data/wiay/pe_samples_releases/gwtc3'\n",
    "\n",
    "#all GWs with FAR < 1/yr\n",
    "gw_names_path = '/data/wiay/2297403c/amaze_model_select/Nflows_AMAZE_paper/inputs/GWTC-3/gw_names.txt'\n",
    "with open(gw_names_path, 'r') as f:\n",
    "    gw_names = [line.strip() for line in f.readlines()]\n",
    "print(gw_names)"
   ]
  },
  {
   "cell_type": "code",
   "execution_count": 4,
   "id": "56656fdb-4b22-4a14-9a33-2e6a0c9b2f77",
   "metadata": {},
   "outputs": [],
   "source": [
    "# create interpolant for determining redshifts from luminosity distances\n",
    "dL_max = 20000 # Mpc\n",
    "dL_vals = np.logspace(-4, np.log10(dL_max), 10000)\n",
    "redshift_vals = np.asarray([z_at_value(cosmo.luminosity_distance, dL*u.Mpc) for dL in dL_vals])\n",
    "z_from_dL = UnivariateSpline(dL_vals, redshift_vals)\n",
    "dzdL_from_dL = z_from_dL.derivative()\n",
    "\n",
    "def dL_to_redshift(dL):\n",
    "    # Input distance in Mpc\n",
    "    # Use interpolant above to speed this up\n",
    "    return z_from_dL(dL)"
   ]
  },
  {
   "cell_type": "code",
   "execution_count": 5,
   "id": "9af4136e",
   "metadata": {},
   "outputs": [
    {
     "data": {
      "text/plain": [
       "array(0.01693232)"
      ]
     },
     "execution_count": 5,
     "metadata": {},
     "output_type": "execute_result"
    }
   ],
   "source": [
    "dL_to_redshift(80.)"
   ]
  },
  {
   "cell_type": "code",
   "execution_count": 6,
   "id": "29fd41e5-9f56-4b71-8e9a-eafdb094c9ca",
   "metadata": {},
   "outputs": [],
   "source": [
    "# conversion function\n",
    "\n",
    "def m1m2_to_mchirp(m1,m2):\n",
    "    return (m1*m2)**(3./5) / (m1+m2)**(1./5)\n",
    "\n",
    "def m1m2_to_mtot(m1,m2):\n",
    "    return m1+m2\n",
    "\n",
    "def m1m2_to_q(m1,m2):\n",
    "    # q is defined as m2/m1 with m2<=m1\n",
    "    q = m2/m1\n",
    "    pos_idxs = np.argwhere(q > 1)\n",
    "    q[pos_idxs] = m1[pos_idxs]/m2[pos_idxs]\n",
    "    return q\n",
    "\n",
    "def m1m2_to_eta(m1,m2):\n",
    "    eta = (m1*m2) / (m1+m2)**2\n",
    "    return eta\n",
    "\n",
    "def components_to_chieff(m1,m2,a1,a2,costilt1,costilt2):\n",
    "    return (m1*a1*costilt1 + m2*a2*costilt2) / (m1+m2)\n",
    "\n",
    "def prob(priors, sample): #why is this not predefined in bilby lmfao\n",
    "    return np.prod(np.array([priors[key].prob(sample[key]) for key in sample]), axis = 0)"
   ]
  },
  {
   "cell_type": "code",
   "execution_count": 7,
   "id": "e7ace6e2-eee0-4bc2-ae1c-19330af1319e",
   "metadata": {},
   "outputs": [],
   "source": [
    "np.random.seed(12) #set for reproducability"
   ]
  },
  {
   "cell_type": "markdown",
   "id": "28c6c9ca-72fb-4847-be43-fbd32a9a8030",
   "metadata": {
    "tags": []
   },
   "source": [
    "## GWTC-2.1"
   ]
  },
  {
   "cell_type": "code",
   "execution_count": 13,
   "id": "24181c71-3106-4387-9ba6-29d8bdc3a480",
   "metadata": {
    "tags": []
   },
   "outputs": [
    {
     "name": "stdout",
     "output_type": "stream",
     "text": [
      "skipping GW150914_095045 - done\n",
      "skipping GW150914_095045 - done\n",
      "skipping GW150914_095045 - done\n",
      "skipping GW151012_095443 - done\n",
      "skipping GW151012_095443 - done\n",
      "skipping GW151012_095443 - done\n",
      "skipping GW151226_033853 - done\n",
      "skipping GW151226_033853 - done\n",
      "skipping GW151226_033853 - done\n",
      "skipping GW170104_101158 - done\n",
      "skipping GW170104_101158 - done\n",
      "skipping GW170104_101158 - done\n",
      "GW170608_020116\n",
      "skipping GW170608_020116 - no prior\n",
      "skipping GW170729_185629 - done\n",
      "skipping GW170729_185629 - done\n",
      "skipping GW170729_185629 - done\n",
      "skipping GW170809_082821 - done\n",
      "skipping GW170809_082821 - done\n",
      "skipping GW170809_082821 - done\n",
      "skipping GW170814_103043 - done\n",
      "skipping GW170814_103043 - done\n",
      "skipping GW170814_103043 - done\n",
      "skipping GW170818_022509 - done\n",
      "skipping GW170818_022509 - done\n",
      "skipping GW170818_022509 - done\n",
      "skipping GW170823_131358 - done\n",
      "skipping GW170823_131358 - done\n",
      "skipping GW170823_131358 - done\n",
      "skipping GW190408_181802 - done\n",
      "skipping GW190408_181802 - done\n",
      "skipping GW190408_181802 - done\n",
      "skipping GW190412_053044 - done\n",
      "skipping GW190412_053044 - done\n",
      "skipping GW190412_053044 - done\n",
      "skipping GW190413_052954 - done\n",
      "skipping GW190413_052954 - done\n",
      "skipping GW190413_052954 - done\n",
      "skipping GW190413_134308 - done\n",
      "skipping GW190413_134308 - done\n",
      "skipping GW190413_134308 - done\n",
      "skipping GW190421_213856 - done\n",
      "skipping GW190421_213856 - done\n",
      "skipping GW190421_213856 - done\n",
      "skipping GW190503_185404 - done\n",
      "skipping GW190503_185404 - done\n",
      "skipping GW190503_185404 - done\n",
      "skipping GW190512_180714 - done\n",
      "skipping GW190512_180714 - done\n",
      "skipping GW190512_180714 - done\n",
      "skipping GW190513_205428 - done\n",
      "skipping GW190513_205428 - done\n",
      "skipping GW190513_205428 - done\n",
      "skipping GW190517_055101 - done\n",
      "skipping GW190517_055101 - done\n",
      "skipping GW190517_055101 - done\n",
      "skipping GW190519_153544 - done\n",
      "skipping GW190519_153544 - done\n",
      "skipping GW190519_153544 - done\n",
      "GW190521_030229\n"
     ]
    },
    {
     "name": "stderr",
     "output_type": "stream",
     "text": [
      "/tmp/ipykernel_3735404/4216783787.py:78: DeprecationWarning: `product` is deprecated as of NumPy 1.25.0, and will be removed in NumPy 2.0. Please use `prod` instead.\n",
      "  p = prob(priors, df[prior_params_z]) #mchirp_det, q, z\n"
     ]
    },
    {
     "name": "stdout",
     "output_type": "stream",
     "text": [
      "skipping GW190521_030229 - done\n",
      "skipping GW190521_030229 - done\n",
      "skipping GW190521_074359 - done\n",
      "skipping GW190521_074359 - done\n",
      "skipping GW190521_074359 - done\n",
      "skipping GW190527_092055 - done\n",
      "skipping GW190527_092055 - done\n",
      "skipping GW190527_092055 - done\n",
      "skipping GW190602_175927 - done\n",
      "skipping GW190602_175927 - done\n",
      "skipping GW190602_175927 - done\n",
      "skipping GW190620_030421 - done\n",
      "skipping GW190620_030421 - done\n",
      "skipping GW190620_030421 - done\n",
      "skipping GW190630_185205 - done\n",
      "skipping GW190630_185205 - done\n",
      "skipping GW190630_185205 - done\n",
      "skipping GW190701_203306 - done\n",
      "skipping GW190701_203306 - done\n",
      "skipping GW190701_203306 - done\n",
      "skipping GW190706_222641 - done\n",
      "skipping GW190706_222641 - done\n",
      "skipping GW190706_222641 - done\n",
      "GW190707_093326\n",
      "skipping GW190707_093326 - no prior\n",
      "skipping GW190708_232457 - done\n",
      "skipping GW190708_232457 - done\n",
      "skipping GW190708_232457 - done\n",
      "skipping GW190719_215514 - done\n",
      "skipping GW190719_215514 - done\n",
      "skipping GW190719_215514 - done\n",
      "GW190720_000836\n",
      "skipping GW190720_000836 - no prior\n",
      "GW190725_174728\n",
      "skipping GW190725_174728 - no prior\n",
      "skipping GW190727_060333 - done\n",
      "skipping GW190727_060333 - done\n",
      "skipping GW190727_060333 - done\n",
      "GW190728_064510\n",
      "skipping GW190728_064510 - no prior\n",
      "skipping GW190731_140936 - done\n",
      "skipping GW190731_140936 - done\n",
      "skipping GW190731_140936 - done\n",
      "skipping GW190803_022701 - done\n",
      "skipping GW190803_022701 - done\n",
      "skipping GW190803_022701 - done\n",
      "skipping GW190805_211137 - done\n",
      "skipping GW190805_211137 - done\n",
      "skipping GW190805_211137 - done\n",
      "skipping GW190828_063405 - done\n",
      "skipping GW190828_063405 - done\n",
      "skipping GW190828_063405 - done\n",
      "skipping GW190828_065509 - done\n",
      "skipping GW190828_065509 - done\n",
      "skipping GW190828_065509 - done\n",
      "skipping GW190910_112807 - done\n",
      "skipping GW190910_112807 - done\n",
      "skipping GW190910_112807 - done\n",
      "skipping GW190915_235702 - done\n",
      "skipping GW190915_235702 - done\n",
      "skipping GW190915_235702 - done\n",
      "GW190924_021846\n",
      "skipping GW190924_021846 - no prior\n",
      "skipping GW190925_232845 - done\n",
      "skipping GW190925_232845 - done\n",
      "skipping GW190925_232845 - done\n",
      "skipping GW190929_012149 - done\n",
      "skipping GW190929_012149 - done\n",
      "skipping GW190929_012149 - done\n",
      "skipping GW190930_133541 - done\n",
      "skipping GW190930_133541 - done\n",
      "skipping GW190930_133541 - done\n",
      "skipping GW191103_012549 - done\n",
      "skipping GW191103_012549 - done\n",
      "skipping GW191103_012549 - done\n",
      "skipping GW191103_012549 - done\n",
      "skipping GW191103_012549 - done\n",
      "skipping GW191103_012549 - done\n",
      "skipping GW191105_143521 - done\n",
      "skipping GW191105_143521 - done\n",
      "skipping GW191105_143521 - done\n",
      "skipping GW191105_143521 - done\n",
      "skipping GW191105_143521 - done\n",
      "skipping GW191105_143521 - done\n",
      "skipping GW191109_010717 - done\n",
      "skipping GW191109_010717 - done\n",
      "skipping GW191109_010717 - done\n",
      "skipping GW191109_010717 - done\n",
      "skipping GW191109_010717 - done\n",
      "skipping GW191109_010717 - done\n",
      "skipping GW191127_050227 - done\n",
      "skipping GW191127_050227 - done\n",
      "skipping GW191127_050227 - done\n",
      "skipping GW191127_050227 - done\n",
      "skipping GW191127_050227 - done\n",
      "skipping GW191127_050227 - done\n",
      "skipping GW191129_134029 - done\n",
      "skipping GW191129_134029 - done\n",
      "skipping GW191129_134029 - done\n",
      "skipping GW191129_134029 - done\n",
      "skipping GW191129_134029 - done\n",
      "skipping GW191129_134029 - done\n",
      "skipping GW191204_171526 - done\n",
      "skipping GW191204_171526 - done\n",
      "skipping GW191204_171526 - done\n",
      "skipping GW191204_171526 - done\n",
      "skipping GW191204_171526 - done\n",
      "skipping GW191204_171526 - done\n",
      "skipping GW191215_223052 - done\n",
      "skipping GW191215_223052 - done\n",
      "skipping GW191215_223052 - done\n",
      "skipping GW191215_223052 - done\n",
      "skipping GW191215_223052 - done\n",
      "skipping GW191215_223052 - done\n",
      "GW191216_213338\n"
     ]
    },
    {
     "name": "stderr",
     "output_type": "stream",
     "text": [
      "/tmp/ipykernel_3735404/4216783787.py:78: DeprecationWarning: `product` is deprecated as of NumPy 1.25.0, and will be removed in NumPy 2.0. Please use `prod` instead.\n",
      "  p = prob(priors, df[prior_params_z]) #mchirp_det, q, z\n"
     ]
    },
    {
     "name": "stdout",
     "output_type": "stream",
     "text": [
      "skipping GW191216_213338 - done\n",
      "skipping GW191216_213338 - done\n",
      "skipping GW191222_033537 - done\n",
      "skipping GW191222_033537 - done\n",
      "skipping GW191222_033537 - done\n",
      "skipping GW191222_033537 - done\n",
      "skipping GW191222_033537 - done\n",
      "skipping GW191222_033537 - done\n",
      "skipping GW191230_180458 - done\n",
      "skipping GW191230_180458 - done\n",
      "skipping GW191230_180458 - done\n",
      "skipping GW191230_180458 - done\n",
      "skipping GW191230_180458 - done\n",
      "skipping GW191230_180458 - done\n",
      "skipping GW200112_155838 - done\n",
      "skipping GW200112_155838 - done\n",
      "skipping GW200112_155838 - done\n",
      "skipping GW200112_155838 - done\n",
      "skipping GW200112_155838 - done\n",
      "skipping GW200112_155838 - done\n",
      "skipping GW200128_022011 - done\n",
      "skipping GW200128_022011 - done\n",
      "skipping GW200128_022011 - done\n",
      "skipping GW200128_022011 - done\n",
      "skipping GW200128_022011 - done\n",
      "skipping GW200128_022011 - done\n",
      "skipping GW200129_065458 - done\n",
      "skipping GW200129_065458 - done\n",
      "skipping GW200129_065458 - done\n",
      "skipping GW200129_065458 - done\n",
      "skipping GW200129_065458 - done\n",
      "skipping GW200129_065458 - done\n",
      "skipping GW200202_154313 - done\n",
      "skipping GW200202_154313 - done\n",
      "skipping GW200202_154313 - done\n",
      "skipping GW200202_154313 - done\n",
      "skipping GW200202_154313 - done\n",
      "skipping GW200202_154313 - done\n",
      "skipping GW200208_130117 - done\n",
      "skipping GW200208_130117 - done\n",
      "skipping GW200208_130117 - done\n",
      "skipping GW200208_130117 - done\n",
      "skipping GW200208_130117 - done\n",
      "skipping GW200208_130117 - done\n",
      "skipping GW200209_085452 - done\n",
      "skipping GW200209_085452 - done\n",
      "skipping GW200209_085452 - done\n",
      "skipping GW200209_085452 - done\n",
      "skipping GW200209_085452 - done\n",
      "skipping GW200209_085452 - done\n",
      "skipping GW200216_220804 - done\n",
      "skipping GW200216_220804 - done\n",
      "skipping GW200216_220804 - done\n",
      "skipping GW200216_220804 - done\n",
      "skipping GW200216_220804 - done\n",
      "skipping GW200216_220804 - done\n",
      "skipping GW200219_094415 - done\n",
      "skipping GW200219_094415 - done\n",
      "skipping GW200219_094415 - done\n",
      "skipping GW200219_094415 - done\n",
      "skipping GW200219_094415 - done\n",
      "skipping GW200219_094415 - done\n",
      "skipping GW200224_222234 - done\n",
      "skipping GW200224_222234 - done\n",
      "skipping GW200224_222234 - done\n",
      "skipping GW200224_222234 - done\n",
      "skipping GW200224_222234 - done\n",
      "skipping GW200224_222234 - done\n",
      "GW200225_060421\n"
     ]
    },
    {
     "name": "stderr",
     "output_type": "stream",
     "text": [
      "/tmp/ipykernel_3735404/4216783787.py:78: DeprecationWarning: `product` is deprecated as of NumPy 1.25.0, and will be removed in NumPy 2.0. Please use `prod` instead.\n",
      "  p = prob(priors, df[prior_params_z]) #mchirp_det, q, z\n"
     ]
    },
    {
     "name": "stdout",
     "output_type": "stream",
     "text": [
      "skipping GW200225_060421 - done\n",
      "skipping GW200225_060421 - done\n",
      "skipping GW200302_015811 - done\n",
      "skipping GW200302_015811 - done\n",
      "skipping GW200302_015811 - done\n",
      "skipping GW200302_015811 - done\n",
      "skipping GW200302_015811 - done\n",
      "skipping GW200302_015811 - done\n",
      "skipping GW200311_115853 - done\n",
      "skipping GW200311_115853 - done\n",
      "skipping GW200311_115853 - done\n",
      "skipping GW200311_115853 - done\n",
      "skipping GW200311_115853 - done\n",
      "skipping GW200311_115853 - done\n",
      "skipping GW200316_215756 - done\n",
      "skipping GW200316_215756 - done\n",
      "skipping GW200316_215756 - done\n",
      "skipping GW200316_215756 - done\n",
      "skipping GW200316_215756 - done\n",
      "skipping GW200316_215756 - done\n"
     ]
    }
   ],
   "source": [
    "no_prior = [] #some samples have no analytic prior given; do these later separately\n",
    "prior_params = ['mass_1', 'mass_2', 'chirp_mass', 'mass_ratio', 'luminosity_distance']\n",
    "prior_params_z = ['mass_1', 'mass_2', 'chirp_mass', 'mass_ratio', 'redshift']\n",
    "\n",
    "for path in (GWTC21_path, GWTC3_path):\n",
    "    \n",
    "    os.chdir(path)\n",
    "\n",
    "    for filename in sorted(os.listdir(path)):\n",
    "\n",
    "        gw_name = filename.split('-')[-1].split('_PE')[0]\n",
    "        if gw_name+'.hdf5' in os.listdir(output_directory):\n",
    "            print(f'skipping {gw_name} - done')\n",
    "            continue\n",
    "\n",
    "        #use uniform comoving volume prior\n",
    "        if 'nocosmo' in filename or 'prior' in filename or '.h5' not in filename:\n",
    "            continue \n",
    "\n",
    "        if gw_name in gw_names: #only use confident BBHs\n",
    "\n",
    "            print(gw_name)\n",
    "\n",
    "            with h5py.File(filename, 'r') as f:\n",
    "\n",
    "                #some events are missing priors (data release error)\n",
    "                if 'analytic' not in f['C01:IMRPhenomXPHM']['priors'].keys(): \n",
    "                    no_prior.append(gw_name)\n",
    "                    print(f'skipping {gw_name} - no prior')\n",
    "                    continue\n",
    "\n",
    "                #read in PE samples\n",
    "                df = pd.DataFrame(np.asarray(f['C01:Mixed']['posterior_samples'])) \n",
    "\n",
    "                # luminosity distance and redshift\n",
    "                dL = np.asarray(df['luminosity_distance'])\n",
    "                z = np.asarray(df['redshift'])\n",
    "\n",
    "                # chirp mass and total mass (source frame)\n",
    "                m1_src = np.asarray(df['mass_1_source'])\n",
    "                m2_src = np.asarray(df['mass_2_source'])\n",
    "                mchirp = np.asarray(df['chirp_mass_source'])\n",
    "                mtot = np.asarray(df['total_mass_source'])\n",
    "\n",
    "                # q and eta\n",
    "                q = np.asarray(df['mass_ratio'])\n",
    "                eta = np.asarray(df['symmetric_mass_ratio'])\n",
    "\n",
    "                # chieff\n",
    "                chieff = components_to_chieff(m1_src, m2_src, np.asarray(df['a_1']), np.asarray(df['a_2']), \\\n",
    "                                              np.asarray(df['cos_tilt_1']), np.asarray(df['cos_tilt_2']))\n",
    "\n",
    "                new_df = pd.DataFrame({'m1':m1_src, 'm2':m2_src, 'mchirp':mchirp, 'mtot':mtot, 'q':q, 'eta':eta, \n",
    "                                       'chieff':chieff, 'dL':dL, 'z':z})         \n",
    "\n",
    "                # calculate prior at posterior points\n",
    "                with open(f'{output_directory}/../priors/' + gw_name+'_prior.prior', 'w') as prior_f:\n",
    "                    a_max = float(f['C01:IMRPhenomXPHM']['priors']['analytic']['a_1'][0].\\\n",
    "                                  decode('UTF8').split('maximum=')[1].split(',')[0])\n",
    "                    for param in prior_params:\n",
    "                        if param in ['chirp_mass', 'mass_ratio']:\n",
    "                            prior_f.write(param + ' = bilby.gw.prior.' + \n",
    "                                          f['C01:IMRPhenomXPHM']['priors']['analytic'][param][0].decode('UTF8') + '\\n')\n",
    "                        else:\n",
    "                            prior_f.write(param + ' = ' + \n",
    "                                          f['C01:IMRPhenomXPHM']['priors']['analytic'][param][0].decode('UTF8') + '\\n')\n",
    "\n",
    "            priors = bilby.core.prior.PriorDict(filename=f'{output_directory}/../priors/' + gw_name+'_prior.prior')\n",
    "\n",
    "            if priors['luminosity_distance'].minimum > np.min(dL)\n",
    "                ld_min = np.min(dL)\n",
    "            else:\n",
    "                ld_min = priors['luminosity_distance'].minimum\n",
    "            ld_max = priors['luminosity_distance'].maximum\n",
    "            z_min = dL_to_redshift(ld_min)\n",
    "            z_max = dL_to_redshift(ld_max)\n",
    "\n",
    "            priors.pop('luminosity_distance')\n",
    "            priors['redshift'] = bilby.gw.prior.UniformSourceFrame(z_min, z_max, name='redshift')\n",
    "\n",
    "            p = prob(priors, df[prior_params_z]) #mchirp_det, q, z\n",
    "\n",
    "            p *= (1 + new_df['z']) #mchirp_det to mchirp_source jacobian\n",
    "\n",
    "            # apply chieff jacobian from tcallister's github\n",
    "            p_chieffs = []\n",
    "            for q_i, chieff_i in zip(new_df['q'], new_df['chieff']):\n",
    "                p_chieffs.append(chi_effective_prior_from_isotropic_spins(q_i, a_max, chieff_i)[0]) #p(chieff | q)\n",
    "            p *= np.array(p_chieffs)\n",
    "\n",
    "            new_df['p_theta_jcb'] = p\n",
    "\n",
    "            new_df.to_hdf(os.path.join(output_directory,gw_name+'.hdf5'), key='combined')\n",
    "\n",
    "# remove GW190521\n",
    "os.rename(os.path.join(output_directory, 'GW190521_030229.hdf5'), os.path.join(removed_events_directory, 'GW190521_030229.hdf5'))"
   ]
  },
  {
   "cell_type": "code",
   "execution_count": 11,
   "id": "f824ab9c-57b1-4f38-ab20-c99647aaba9c",
   "metadata": {},
   "outputs": [
    {
     "data": {
      "text/plain": [
       "['GW170608_020116',\n",
       " 'GW190707_093326',\n",
       " 'GW190720_000836',\n",
       " 'GW190725_174728',\n",
       " 'GW190728_064510',\n",
       " 'GW190924_021846']"
      ]
     },
     "execution_count": 11,
     "metadata": {},
     "output_type": "execute_result"
    }
   ],
   "source": [
    "no_prior"
   ]
  },
  {
   "cell_type": "code",
   "execution_count": 10,
   "id": "2a40dd79",
   "metadata": {},
   "outputs": [],
   "source": [
    "import glob as glob\n",
    "gw_path=\"/data/wiay/2297403c/amaze_model_select/Nflows_AMAZE_paper/inputs/GWTC-3/events\"\n",
    "params = ['mchirp', 'q', 'chieff', 'z']\n",
    "\n",
    "def plot_0prior_samps(gw_path):\n",
    "    for filename in sorted(os.listdir(gw_path)):\n",
    "        gw = pd.read_hdf(gw_path+ '/'+filename)\n",
    "        prior = gw['p_theta_jcb']\n",
    "\n",
    "        if np.any(prior==0.):\n",
    "            fig,ax=plt.subplots(1,4)\n",
    "            for i in range(4):\n",
    "                ax[i].scatter(np.array(gw[params[i]])[prior==0.], 0.2*np.ones(len(np.array(gw[params[i]])[prior==0.])), s=1.)\n",
    "                ax[i].hist(gw[params[i]], bins=40,alpha=0.2, density=True)\n",
    "            print(filename)\n",
    "            print(np.min(prior))\n",
    "            print(np.array(gw['z'])[prior==0.])\n",
    "            print(np.array(gw['dL'])[prior==0.])\n",
    "        #plt.hist(np.log(prior), bins=40, range=(-30,0), alpha=0.5)\n",
    "\n",
    "def plot_0prior_samps_2d(gw_path, params):\n",
    "    for filename in sorted(os.listdir(gw_path)):\n",
    "        gw = pd.read_hdf(gw_path+ '/'+filename)\n",
    "        prior = gw['p_theta_jcb']\n",
    "\n",
    "        if np.any(prior==0.):\n",
    "            fig,ax=plt.subplots(1,1)\n",
    "            ax.scatter(np.array(gw[params[0]])[prior==0.], np.array(gw[params[1]])[prior==0.], s=1.)\n",
    "            ax.hist2d(gw[params[0]], gw[params[1]], bins=40,alpha=0.5, density=True)\n",
    "            print(filename)\n",
    "        #plt.hist(np.log(prior), bins=40, range=(-30,0), alpha=0.5)"
   ]
  },
  {
   "cell_type": "code",
   "execution_count": 14,
   "id": "1c4d2b49",
   "metadata": {},
   "outputs": [
    {
     "ename": "IsADirectoryError",
     "evalue": "``/data/wiay/2297403c/amaze_model_select/Nflows_AMAZE_paper/inputs/GWTC-3/events/priors`` is not a regular file",
     "output_type": "error",
     "traceback": [
      "\u001b[0;31m---------------------------------------------------------------------------\u001b[0m",
      "\u001b[0;31mIsADirectoryError\u001b[0m                         Traceback (most recent call last)",
      "Cell \u001b[0;32mIn[14], line 1\u001b[0m\n\u001b[0;32m----> 1\u001b[0m plot_0prior_samps(\u001b[39m'\u001b[39;49m\u001b[39m/data/wiay/2297403c/amaze_model_select/Nflows_AMAZE_paper/inputs/GWTC-3/events\u001b[39;49m\u001b[39m'\u001b[39;49m)\n",
      "Cell \u001b[0;32mIn[10], line 7\u001b[0m, in \u001b[0;36mplot_0prior_samps\u001b[0;34m(gw_path)\u001b[0m\n\u001b[1;32m      5\u001b[0m \u001b[39mdef\u001b[39;00m \u001b[39mplot_0prior_samps\u001b[39m(gw_path):\n\u001b[1;32m      6\u001b[0m     \u001b[39mfor\u001b[39;00m filename \u001b[39min\u001b[39;00m \u001b[39msorted\u001b[39m(os\u001b[39m.\u001b[39mlistdir(gw_path)):\n\u001b[0;32m----> 7\u001b[0m         gw \u001b[39m=\u001b[39m pd\u001b[39m.\u001b[39;49mread_hdf(gw_path\u001b[39m+\u001b[39;49m \u001b[39m'\u001b[39;49m\u001b[39m/\u001b[39;49m\u001b[39m'\u001b[39;49m\u001b[39m+\u001b[39;49mfilename)\n\u001b[1;32m      8\u001b[0m         prior \u001b[39m=\u001b[39m gw[\u001b[39m'\u001b[39m\u001b[39mp_theta_jcb\u001b[39m\u001b[39m'\u001b[39m]\n\u001b[1;32m     10\u001b[0m         \u001b[39mif\u001b[39;00m np\u001b[39m.\u001b[39many(prior\u001b[39m==\u001b[39m\u001b[39m0.\u001b[39m):\n",
      "File \u001b[0;32m/data/wiay/2297403c/conda_envs/amaze/lib/python3.10/site-packages/pandas/io/pytables.py:420\u001b[0m, in \u001b[0;36mread_hdf\u001b[0;34m(path_or_buf, key, mode, errors, where, start, stop, columns, iterator, chunksize, **kwargs)\u001b[0m\n\u001b[1;32m    417\u001b[0m \u001b[39mif\u001b[39;00m \u001b[39mnot\u001b[39;00m exists:\n\u001b[1;32m    418\u001b[0m     \u001b[39mraise\u001b[39;00m \u001b[39mFileNotFoundError\u001b[39;00m(\u001b[39mf\u001b[39m\u001b[39m\"\u001b[39m\u001b[39mFile \u001b[39m\u001b[39m{\u001b[39;00mpath_or_buf\u001b[39m}\u001b[39;00m\u001b[39m does not exist\u001b[39m\u001b[39m\"\u001b[39m)\n\u001b[0;32m--> 420\u001b[0m store \u001b[39m=\u001b[39m HDFStore(path_or_buf, mode\u001b[39m=\u001b[39;49mmode, errors\u001b[39m=\u001b[39;49merrors, \u001b[39m*\u001b[39;49m\u001b[39m*\u001b[39;49mkwargs)\n\u001b[1;32m    421\u001b[0m \u001b[39m# can't auto open/close if we are using an iterator\u001b[39;00m\n\u001b[1;32m    422\u001b[0m \u001b[39m# so delegate to the iterator\u001b[39;00m\n\u001b[1;32m    423\u001b[0m auto_close \u001b[39m=\u001b[39m \u001b[39mTrue\u001b[39;00m\n",
      "File \u001b[0;32m/data/wiay/2297403c/conda_envs/amaze/lib/python3.10/site-packages/pandas/io/pytables.py:579\u001b[0m, in \u001b[0;36mHDFStore.__init__\u001b[0;34m(self, path, mode, complevel, complib, fletcher32, **kwargs)\u001b[0m\n\u001b[1;32m    577\u001b[0m \u001b[39mself\u001b[39m\u001b[39m.\u001b[39m_fletcher32 \u001b[39m=\u001b[39m fletcher32\n\u001b[1;32m    578\u001b[0m \u001b[39mself\u001b[39m\u001b[39m.\u001b[39m_filters \u001b[39m=\u001b[39m \u001b[39mNone\u001b[39;00m\n\u001b[0;32m--> 579\u001b[0m \u001b[39mself\u001b[39;49m\u001b[39m.\u001b[39;49mopen(mode\u001b[39m=\u001b[39;49mmode, \u001b[39m*\u001b[39;49m\u001b[39m*\u001b[39;49mkwargs)\n",
      "File \u001b[0;32m/data/wiay/2297403c/conda_envs/amaze/lib/python3.10/site-packages/pandas/io/pytables.py:731\u001b[0m, in \u001b[0;36mHDFStore.open\u001b[0;34m(self, mode, **kwargs)\u001b[0m\n\u001b[1;32m    725\u001b[0m     msg \u001b[39m=\u001b[39m (\n\u001b[1;32m    726\u001b[0m         \u001b[39m\"\u001b[39m\u001b[39mCannot open HDF5 file, which is already opened, \u001b[39m\u001b[39m\"\u001b[39m\n\u001b[1;32m    727\u001b[0m         \u001b[39m\"\u001b[39m\u001b[39meven in read-only mode.\u001b[39m\u001b[39m\"\u001b[39m\n\u001b[1;32m    728\u001b[0m     )\n\u001b[1;32m    729\u001b[0m     \u001b[39mraise\u001b[39;00m \u001b[39mValueError\u001b[39;00m(msg)\n\u001b[0;32m--> 731\u001b[0m \u001b[39mself\u001b[39m\u001b[39m.\u001b[39m_handle \u001b[39m=\u001b[39m tables\u001b[39m.\u001b[39;49mopen_file(\u001b[39mself\u001b[39;49m\u001b[39m.\u001b[39;49m_path, \u001b[39mself\u001b[39;49m\u001b[39m.\u001b[39;49m_mode, \u001b[39m*\u001b[39;49m\u001b[39m*\u001b[39;49mkwargs)\n",
      "File \u001b[0;32m/data/wiay/2297403c/conda_envs/amaze/lib/python3.10/site-packages/tables/file.py:300\u001b[0m, in \u001b[0;36mopen_file\u001b[0;34m(filename, mode, title, root_uep, filters, **kwargs)\u001b[0m\n\u001b[1;32m    295\u001b[0m             \u001b[39mraise\u001b[39;00m \u001b[39mValueError\u001b[39;00m(\n\u001b[1;32m    296\u001b[0m                 \u001b[39m\"\u001b[39m\u001b[39mThe file \u001b[39m\u001b[39m'\u001b[39m\u001b[39m%s\u001b[39;00m\u001b[39m'\u001b[39m\u001b[39m is already opened.  Please \u001b[39m\u001b[39m\"\u001b[39m\n\u001b[1;32m    297\u001b[0m                 \u001b[39m\"\u001b[39m\u001b[39mclose it before reopening in write mode.\u001b[39m\u001b[39m\"\u001b[39m \u001b[39m%\u001b[39m filename)\n\u001b[1;32m    299\u001b[0m \u001b[39m# Finally, create the File instance, and return it\u001b[39;00m\n\u001b[0;32m--> 300\u001b[0m \u001b[39mreturn\u001b[39;00m File(filename, mode, title, root_uep, filters, \u001b[39m*\u001b[39;49m\u001b[39m*\u001b[39;49mkwargs)\n",
      "File \u001b[0;32m/data/wiay/2297403c/conda_envs/amaze/lib/python3.10/site-packages/tables/file.py:750\u001b[0m, in \u001b[0;36mFile.__init__\u001b[0;34m(self, filename, mode, title, root_uep, filters, **kwargs)\u001b[0m\n\u001b[1;32m    747\u001b[0m \u001b[39mself\u001b[39m\u001b[39m.\u001b[39mparams \u001b[39m=\u001b[39m params\n\u001b[1;32m    749\u001b[0m \u001b[39m# Now, it is time to initialize the File extension\u001b[39;00m\n\u001b[0;32m--> 750\u001b[0m \u001b[39mself\u001b[39;49m\u001b[39m.\u001b[39;49m_g_new(filename, mode, \u001b[39m*\u001b[39;49m\u001b[39m*\u001b[39;49mparams)\n\u001b[1;32m    752\u001b[0m \u001b[39m# Check filters and set PyTables format version for new files.\u001b[39;00m\n\u001b[1;32m    753\u001b[0m new \u001b[39m=\u001b[39m \u001b[39mself\u001b[39m\u001b[39m.\u001b[39m_v_new\n",
      "File \u001b[0;32m/data/wiay/2297403c/conda_envs/amaze/lib/python3.10/site-packages/tables/hdf5extension.pyx:366\u001b[0m, in \u001b[0;36mtables.hdf5extension.File._g_new\u001b[0;34m()\u001b[0m\n",
      "File \u001b[0;32m/data/wiay/2297403c/conda_envs/amaze/lib/python3.10/site-packages/tables/utils.py:145\u001b[0m, in \u001b[0;36mcheck_file_access\u001b[0;34m(filename, mode)\u001b[0m\n\u001b[1;32m    143\u001b[0m     \u001b[39mraise\u001b[39;00m \u001b[39mFileNotFoundError\u001b[39;00m(\u001b[39mf\u001b[39m\u001b[39m\"\u001b[39m\u001b[39m``\u001b[39m\u001b[39m{\u001b[39;00mpath\u001b[39m}\u001b[39;00m\u001b[39m`` does not exist\u001b[39m\u001b[39m\"\u001b[39m)\n\u001b[1;32m    144\u001b[0m \u001b[39mif\u001b[39;00m \u001b[39mnot\u001b[39;00m path\u001b[39m.\u001b[39mis_file():\n\u001b[0;32m--> 145\u001b[0m     \u001b[39mraise\u001b[39;00m \u001b[39mIsADirectoryError\u001b[39;00m(\u001b[39mf\u001b[39m\u001b[39m\"\u001b[39m\u001b[39m``\u001b[39m\u001b[39m{\u001b[39;00mpath\u001b[39m}\u001b[39;00m\u001b[39m`` is not a regular file\u001b[39m\u001b[39m\"\u001b[39m)\n\u001b[1;32m    146\u001b[0m \u001b[39mif\u001b[39;00m \u001b[39mnot\u001b[39;00m os\u001b[39m.\u001b[39maccess(path, os\u001b[39m.\u001b[39mR_OK):\n\u001b[1;32m    147\u001b[0m     \u001b[39mraise\u001b[39;00m \u001b[39mPermissionError\u001b[39;00m(\u001b[39mf\u001b[39m\u001b[39m\"\u001b[39m\u001b[39mfile ``\u001b[39m\u001b[39m{\u001b[39;00mpath\u001b[39m}\u001b[39;00m\u001b[39m`` exists but it can not be read\u001b[39m\u001b[39m\"\u001b[39m)\n",
      "\u001b[0;31mIsADirectoryError\u001b[0m: ``/data/wiay/2297403c/amaze_model_select/Nflows_AMAZE_paper/inputs/GWTC-3/events/priors`` is not a regular file"
     ]
    }
   ],
   "source": [
    "plot_0prior_samps('/data/wiay/2297403c/amaze_model_select/Nflows_AMAZE_paper/inputs/GWTC-3/events')"
   ]
  },
  {
   "cell_type": "markdown",
   "id": "14b94584-a53e-4577-ab10-44f49f7ee6ba",
   "metadata": {},
   "source": [
    "## Events that are missing analytical prior"
   ]
  },
  {
   "cell_type": "markdown",
   "id": "7b13bd6f-a2ae-4185-bf01-be91aa06cf38",
   "metadata": {},
   "source": [
    "I ended up getting the priors from each event's repo:\n",
    "\n",
    "- GW170608_020116 - https://git.ligo.org/pe/O2/GW170608/-/blob/master/C01_offline/ProdF13.prior \n",
    "- GW190707_093326 - https://git.ligo.org/pe/O3/S190707q/-/blob/master/C01_offline/ProdF9.prior \n",
    "- GW190720_000836 - https://git.ligo.org/pe/O3/S190720a/-/blob/master/C01_offline/ProdF11.prior\n",
    "- GW190725_174728 - https://git.ligo.org/pe/O3/S190725t/-/blob/master/C01_offline/ProdF15.prior\n",
    "- GW190728_064510 - https://git.ligo.org/pe/O3/S190728q/-/blob/master/C01_offline/ProdF5.prior\n",
    "- GW190924_021846 - https://git.ligo.org/pe/O3/S190924h/-/blob/master/C01_offline/ProdF7.prior"
   ]
  },
  {
   "cell_type": "code",
   "execution_count": 1,
   "id": "23186b83-8b20-45a7-902e-ec5cf9fcd489",
   "metadata": {},
   "outputs": [],
   "source": [
    "no_prior = ['GW170608_020116',\n",
    " 'GW190707_093326',\n",
    " 'GW190720_000836',\n",
    " 'GW190725_174728',\n",
    " 'GW190728_064510',\n",
    " 'GW190924_021846']"
   ]
  },
  {
   "cell_type": "code",
   "execution_count": 9,
   "id": "a9604265-cce0-4771-907c-6d990f8a949c",
   "metadata": {},
   "outputs": [],
   "source": [
    "os.chdir(GWTC21_path)"
   ]
  },
  {
   "cell_type": "code",
   "execution_count": 15,
   "id": "8ac87c2a-7490-48a2-a748-b3d83f4bf7ef",
   "metadata": {},
   "outputs": [
    {
     "name": "stdout",
     "output_type": "stream",
     "text": [
      "GW170608_020116\n"
     ]
    },
    {
     "name": "stderr",
     "output_type": "stream",
     "text": [
      "/tmp/ipykernel_782026/3106650293.py:44: DeprecationWarning: `product` is deprecated as of NumPy 1.25.0, and will be removed in NumPy 2.0. Please use `prod` instead.\n",
      "  p = prob(priors, df[prior_params_z]) #mchirp_det, q, z\n"
     ]
    },
    {
     "name": "stdout",
     "output_type": "stream",
     "text": [
      "GW190707_093326\n"
     ]
    },
    {
     "name": "stderr",
     "output_type": "stream",
     "text": [
      "/tmp/ipykernel_782026/3106650293.py:44: DeprecationWarning: `product` is deprecated as of NumPy 1.25.0, and will be removed in NumPy 2.0. Please use `prod` instead.\n",
      "  p = prob(priors, df[prior_params_z]) #mchirp_det, q, z\n"
     ]
    },
    {
     "name": "stdout",
     "output_type": "stream",
     "text": [
      "GW190720_000836\n"
     ]
    },
    {
     "name": "stderr",
     "output_type": "stream",
     "text": [
      "/tmp/ipykernel_782026/3106650293.py:44: DeprecationWarning: `product` is deprecated as of NumPy 1.25.0, and will be removed in NumPy 2.0. Please use `prod` instead.\n",
      "  p = prob(priors, df[prior_params_z]) #mchirp_det, q, z\n"
     ]
    },
    {
     "name": "stdout",
     "output_type": "stream",
     "text": [
      "GW190725_174728\n"
     ]
    },
    {
     "name": "stderr",
     "output_type": "stream",
     "text": [
      "/tmp/ipykernel_782026/3106650293.py:44: DeprecationWarning: `product` is deprecated as of NumPy 1.25.0, and will be removed in NumPy 2.0. Please use `prod` instead.\n",
      "  p = prob(priors, df[prior_params_z]) #mchirp_det, q, z\n"
     ]
    },
    {
     "name": "stdout",
     "output_type": "stream",
     "text": [
      "GW190728_064510\n"
     ]
    },
    {
     "name": "stderr",
     "output_type": "stream",
     "text": [
      "/tmp/ipykernel_782026/3106650293.py:44: DeprecationWarning: `product` is deprecated as of NumPy 1.25.0, and will be removed in NumPy 2.0. Please use `prod` instead.\n",
      "  p = prob(priors, df[prior_params_z]) #mchirp_det, q, z\n"
     ]
    },
    {
     "name": "stdout",
     "output_type": "stream",
     "text": [
      "GW190924_021846\n"
     ]
    },
    {
     "name": "stderr",
     "output_type": "stream",
     "text": [
      "/tmp/ipykernel_782026/3106650293.py:44: DeprecationWarning: `product` is deprecated as of NumPy 1.25.0, and will be removed in NumPy 2.0. Please use `prod` instead.\n",
      "  p = prob(priors, df[prior_params_z]) #mchirp_det, q, z\n"
     ]
    }
   ],
   "source": [
    "prior_params_z = ['mass_1', 'mass_2', 'chirp_mass', 'mass_ratio', 'redshift']\n",
    "\n",
    "for gw_name in no_prior:\n",
    "    \n",
    "    print(gw_name)\n",
    "    \n",
    "    with h5py.File(f'IGWN-GWTC2p1-v2-{gw_name}_PEDataRelease_mixed_cosmo.h5') as f:\n",
    "        df = pd.DataFrame(np.asarray(f['C01:Mixed']['posterior_samples'])) \n",
    "\n",
    "    # luminosity distance and redshift\n",
    "    dL = np.asarray(df['luminosity_distance'])\n",
    "    z = np.asarray(df['redshift'])\n",
    "\n",
    "    # chirp mass and total mass (source frame)\n",
    "    m1_src = np.asarray(df['mass_1_source'])\n",
    "    m2_src = np.asarray(df['mass_2_source'])\n",
    "    mchirp = np.asarray(df['chirp_mass_source'])\n",
    "    mtot = np.asarray(df['total_mass_source'])\n",
    "\n",
    "    # q and eta\n",
    "    q = np.asarray(df['mass_ratio'])\n",
    "    eta = np.asarray(df['symmetric_mass_ratio'])\n",
    "\n",
    "    # chieff\n",
    "    chieff = components_to_chieff(m1_src, m2_src, np.asarray(df['a_1']), np.asarray(df['a_2']), \\\n",
    "                                  np.asarray(df['cos_tilt_1']), np.asarray(df['cos_tilt_2']))\n",
    "\n",
    "    new_df = pd.DataFrame({'m1':m1_src, 'm2':m2_src, 'mchirp':mchirp, 'mtot':mtot, 'q':q, 'eta':eta, \n",
    "                           'chieff':chieff, 'dL':dL, 'z':z})  \n",
    "    \n",
    "    bb_priors = bilby.core.prior.PriorDict(filename=f'{output_directory}/../extra_event_priors/{gw_name}_prior.prior')\n",
    "    \n",
    "    z_min = dL_to_redshift(bb_priors['luminosity_distance'].minimum)\n",
    "    z_max = dL_to_redshift(bb_priors['luminosity_distance'].maximum)\n",
    "    a_max = bb_priors['a_1'].maximum\n",
    "\n",
    "    bb_priors.pop('luminosity_distance')\n",
    "    bb_priors['redshift'] = bilby.gw.prior.UniformSourceFrame(z_min, z_max, name='redshift')\n",
    "\n",
    "    priors = bilby.core.prior.PriorDict()\n",
    "    for param in prior_params_z:\n",
    "        priors[param] = bb_priors[param]\n",
    "\n",
    "    p = prob(priors, df[prior_params_z]) #mchirp_det, q, z\n",
    "\n",
    "    p *= (1 + new_df['z']) #mchirp_det to mchirp_source jacobian\n",
    "\n",
    "    #get chieff prior from tcallister\n",
    "\n",
    "    p_chieffs = []\n",
    "    for q_i, chieff_i in zip(new_df['q'], new_df['chieff']):\n",
    "        p_chieffs.append(chi_effective_prior_from_isotropic_spins(q_i, a_max, chieff_i)[0]) #p(chieff | q)\n",
    "\n",
    "    p *= np.array(p_chieffs)\n",
    "\n",
    "    new_df['p_theta_jcb'] = p\n",
    "    \n",
    "    new_df.to_hdf(os.path.join(output_directory,gw_name+'.hdf5'), key='combined')"
   ]
  }
 ],
 "metadata": {
  "kernelspec": {
   "display_name": "Python 3.10.12 ('amaze')",
   "language": "python",
   "name": "python3"
  },
  "language_info": {
   "codemirror_mode": {
    "name": "ipython",
    "version": 3
   },
   "file_extension": ".py",
   "mimetype": "text/x-python",
   "name": "python",
   "nbconvert_exporter": "python",
   "pygments_lexer": "ipython3",
   "version": "3.10.12"
  },
  "vscode": {
   "interpreter": {
    "hash": "05013be2d79c0e90f66cc6cc6fb2349c533de9d1dc87de817e9686faf5df3efe"
   }
  }
 },
 "nbformat": 4,
 "nbformat_minor": 5
}
